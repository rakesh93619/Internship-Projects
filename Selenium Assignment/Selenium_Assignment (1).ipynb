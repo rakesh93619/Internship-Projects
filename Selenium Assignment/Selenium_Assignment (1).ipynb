{
 "cells": [
  {
   "cell_type": "code",
   "execution_count": null,
   "id": "23472039",
   "metadata": {},
   "outputs": [],
   "source": [
    "!pip install selenium"
   ]
  },
  {
   "cell_type": "markdown",
   "id": "25f0db9c",
   "metadata": {},
   "source": [
    "# Problem Statement:\n",
    "### Q1: Write a python program to scrape data for “Data Analyst” Job position in “Bangalore” location. You have to scrape the job-title, job-location, company_name, experience_required. You have to scrape first 10 jobs data.\n",
    "##### `This task will be done in following steps:`\n",
    "- 1. First get the webpage https://www.naukri.com/\n",
    "- 2. Enter “Data Analyst” in “Skill, Designations, Companies” field and enter “Bangalore” in “enter the location” field.\n",
    "- 3. Then click the search button.\n",
    "- 4. Then scrape the data for the first 10 jobs results you get.\n",
    "- 5. Finally create a dataframe of the scraped data."
   ]
  },
  {
   "cell_type": "markdown",
   "id": "8915d7bd",
   "metadata": {},
   "source": [
    "### Importing necessary libraries."
   ]
  },
  {
   "cell_type": "code",
   "execution_count": 1,
   "id": "2a01c4cb",
   "metadata": {},
   "outputs": [],
   "source": [
    "import selenium\n",
    "from selenium import webdriver\n",
    "import pandas as pd\n",
    "import numpy as np\n",
    "import warnings\n",
    "warnings.filterwarnings('ignore')"
   ]
  },
  {
   "cell_type": "markdown",
   "id": "11bf9354",
   "metadata": {},
   "source": [
    "#### Connecting to the web driver."
   ]
  },
  {
   "cell_type": "code",
   "execution_count": 2,
   "id": "9871663b",
   "metadata": {},
   "outputs": [],
   "source": [
    "driver=webdriver.Chrome('chromedriver.exe')"
   ]
  },
  {
   "cell_type": "code",
   "execution_count": 3,
   "id": "f31ab11f",
   "metadata": {},
   "outputs": [
    {
     "data": {
      "text/plain": [
       "<selenium.webdriver.chrome.webdriver.WebDriver (session=\"6bc2ca1058b02bbe1b233db68b0ff977\")>"
      ]
     },
     "execution_count": 3,
     "metadata": {},
     "output_type": "execute_result"
    }
   ],
   "source": [
    "driver"
   ]
  },
  {
   "cell_type": "code",
   "execution_count": 4,
   "id": "82307338",
   "metadata": {},
   "outputs": [],
   "source": [
    "driver.get('https://www.naukri.com/')"
   ]
  },
  {
   "cell_type": "markdown",
   "id": "521c0feb",
   "metadata": {},
   "source": [
    "### finding web element for search  job bar using class name."
   ]
  },
  {
   "cell_type": "code",
   "execution_count": 5,
   "id": "7da7da8a",
   "metadata": {},
   "outputs": [
    {
     "data": {
      "text/plain": [
       "<selenium.webdriver.remote.webelement.WebElement (session=\"6bc2ca1058b02bbe1b233db68b0ff977\", element=\"5238f82e-cd8f-4eba-855c-602f2f97016f\")>"
      ]
     },
     "execution_count": 5,
     "metadata": {},
     "output_type": "execute_result"
    }
   ],
   "source": [
    "search_job=driver.find_element_by_class_name(\"suggestor-input\")\n",
    "search_job"
   ]
  },
  {
   "cell_type": "markdown",
   "id": "0a3dd1f5",
   "metadata": {},
   "source": [
    "### writing on search_bar"
   ]
  },
  {
   "cell_type": "code",
   "execution_count": 6,
   "id": "9f555ab5",
   "metadata": {},
   "outputs": [],
   "source": [
    "search_job.send_keys(\"Data Analyst\")"
   ]
  },
  {
   "cell_type": "markdown",
   "id": "54c96b17",
   "metadata": {},
   "source": [
    "### Finding we element for job location bar."
   ]
  },
  {
   "cell_type": "code",
   "execution_count": 7,
   "id": "b5f431e5",
   "metadata": {},
   "outputs": [
    {
     "data": {
      "text/plain": [
       "<selenium.webdriver.remote.webelement.WebElement (session=\"6bc2ca1058b02bbe1b233db68b0ff977\", element=\"c10e751d-6ad3-408c-b8a6-8a266f0947ee\")>"
      ]
     },
     "execution_count": 7,
     "metadata": {},
     "output_type": "execute_result"
    }
   ],
   "source": [
    "search_loc=driver.find_element_by_xpath(\"/html/body/div/div[2]/div[3]/div/div/div[3]/div/div/div/input\")\n",
    "search_loc"
   ]
  },
  {
   "cell_type": "code",
   "execution_count": 8,
   "id": "03e7ad33",
   "metadata": {},
   "outputs": [],
   "source": [
    "search_loc.send_keys(\"Bangalore\")"
   ]
  },
  {
   "cell_type": "markdown",
   "id": "33599c3f",
   "metadata": {},
   "source": [
    "### Clicking on search button."
   ]
  },
  {
   "cell_type": "code",
   "execution_count": 9,
   "id": "49687c87",
   "metadata": {},
   "outputs": [
    {
     "data": {
      "text/plain": [
       "<selenium.webdriver.remote.webelement.WebElement (session=\"6bc2ca1058b02bbe1b233db68b0ff977\", element=\"6512c458-0c99-4245-9c26-c58b9c44376c\")>"
      ]
     },
     "execution_count": 9,
     "metadata": {},
     "output_type": "execute_result"
    }
   ],
   "source": [
    "search_btn=driver.find_element_by_class_name('qsbSubmit')\n",
    "search_btn"
   ]
  },
  {
   "cell_type": "code",
   "execution_count": 11,
   "id": "1facaacb",
   "metadata": {},
   "outputs": [],
   "source": [
    "search_btn.click()"
   ]
  },
  {
   "cell_type": "markdown",
   "id": "a9e6d0cb",
   "metadata": {},
   "source": [
    "## Extracting 10 Job_titles"
   ]
  },
  {
   "cell_type": "code",
   "execution_count": 12,
   "id": "1c10bc22",
   "metadata": {},
   "outputs": [
    {
     "data": {
      "text/plain": [
       "20"
      ]
     },
     "execution_count": 12,
     "metadata": {},
     "output_type": "execute_result"
    }
   ],
   "source": [
    "job_titles=driver.find_elements_by_xpath('//a[@class=\"title fw500 ellipsis\"]')\n",
    "len(job_titles)"
   ]
  },
  {
   "cell_type": "code",
   "execution_count": 13,
   "id": "5d07c383",
   "metadata": {},
   "outputs": [
    {
     "name": "stdout",
     "output_type": "stream",
     "text": [
      "10\n"
     ]
    },
    {
     "data": {
      "text/plain": [
       "['Senior Data Analyst - Collibra',\n",
       " 'Hiring -Data Analyst, Business Analyst, MIS Analyst -3rd Party Payroll',\n",
       " 'Data analyst',\n",
       " 'Pipeline/Piping Data Analyst Trainee',\n",
       " 'Data Analyst',\n",
       " 'Data Analyst',\n",
       " 'Hiring For Data Analyst (SQL & Scala) || Coforge',\n",
       " 'Hiring Data Analyst(Immediate joiner preferred) - Globallogic!',\n",
       " 'Sr. Data Analyst',\n",
       " 'Data Analyst']"
      ]
     },
     "execution_count": 13,
     "metadata": {},
     "output_type": "execute_result"
    }
   ],
   "source": [
    "# Now we will run for loop to extracting job titles one by one.\n",
    "titles=[]\n",
    "for i in job_titles:\n",
    "    titles.append(i.text)\n",
    "job_heading=titles[:10]\n",
    "print(len(job_heading))   \n",
    "job_heading"
   ]
  },
  {
   "cell_type": "markdown",
   "id": "20e47364",
   "metadata": {},
   "source": [
    "## Extracting Company_names"
   ]
  },
  {
   "cell_type": "code",
   "execution_count": 14,
   "id": "8b6b3308",
   "metadata": {},
   "outputs": [
    {
     "data": {
      "text/plain": [
       "10"
      ]
     },
     "execution_count": 14,
     "metadata": {},
     "output_type": "execute_result"
    }
   ],
   "source": [
    "names=driver.find_elements_by_xpath('//a[@class=\"subTitle ellipsis fleft\"]')\n",
    "names=names[:10]\n",
    "len(names)"
   ]
  },
  {
   "cell_type": "code",
   "execution_count": 15,
   "id": "93ed58f9",
   "metadata": {},
   "outputs": [
    {
     "data": {
      "text/plain": [
       "['Shell',\n",
       " 'Flipkart',\n",
       " 'GSK India',\n",
       " 'TIMS SOLUTIONS PRIVATE LIMITED',\n",
       " 'Insure Pro 2.0',\n",
       " 'BERKMEER INDIA PRIVATE LIMITED',\n",
       " 'Coforge',\n",
       " 'GlobalLogic',\n",
       " 'Born Commerce',\n",
       " 'Opkey']"
      ]
     },
     "execution_count": 15,
     "metadata": {},
     "output_type": "execute_result"
    }
   ],
   "source": [
    "# Let's scraping company names using for loop\n",
    "company_names=[]\n",
    "for i in names:\n",
    "    company_names.append(i.text)\n",
    "company_names"
   ]
  },
  {
   "cell_type": "markdown",
   "id": "de16221a",
   "metadata": {},
   "source": [
    "## Extracting Experience:"
   ]
  },
  {
   "cell_type": "code",
   "execution_count": 16,
   "id": "e675e4a4",
   "metadata": {},
   "outputs": [
    {
     "data": {
      "text/plain": [
       "[<selenium.webdriver.remote.webelement.WebElement (session=\"6bc2ca1058b02bbe1b233db68b0ff977\", element=\"35e8bb8f-8467-4625-9208-d3387ae08195\")>,\n",
       " <selenium.webdriver.remote.webelement.WebElement (session=\"6bc2ca1058b02bbe1b233db68b0ff977\", element=\"1f62d3fe-0474-461a-a601-414973cba58a\")>,\n",
       " <selenium.webdriver.remote.webelement.WebElement (session=\"6bc2ca1058b02bbe1b233db68b0ff977\", element=\"307ee29b-ebc6-4133-988d-ef1691e22e2d\")>,\n",
       " <selenium.webdriver.remote.webelement.WebElement (session=\"6bc2ca1058b02bbe1b233db68b0ff977\", element=\"e6c6da0d-1d2c-47de-9fa3-bc80fa7216f1\")>,\n",
       " <selenium.webdriver.remote.webelement.WebElement (session=\"6bc2ca1058b02bbe1b233db68b0ff977\", element=\"3d1c726e-44a8-4f3a-9113-ca891bad4d82\")>,\n",
       " <selenium.webdriver.remote.webelement.WebElement (session=\"6bc2ca1058b02bbe1b233db68b0ff977\", element=\"05ae90a8-59b2-4003-9874-5bb2f173df7b\")>,\n",
       " <selenium.webdriver.remote.webelement.WebElement (session=\"6bc2ca1058b02bbe1b233db68b0ff977\", element=\"cf70546d-ad47-497e-86c3-b909263f3e25\")>,\n",
       " <selenium.webdriver.remote.webelement.WebElement (session=\"6bc2ca1058b02bbe1b233db68b0ff977\", element=\"38bbabbd-bd55-4b97-9147-1f7e58e40c9a\")>,\n",
       " <selenium.webdriver.remote.webelement.WebElement (session=\"6bc2ca1058b02bbe1b233db68b0ff977\", element=\"947fb4aa-6017-45c8-93c7-bd791d9048a3\")>,\n",
       " <selenium.webdriver.remote.webelement.WebElement (session=\"6bc2ca1058b02bbe1b233db68b0ff977\", element=\"da22cb6f-68b1-44d5-aeea-1b9662d7fd5a\")>]"
      ]
     },
     "execution_count": 16,
     "metadata": {},
     "output_type": "execute_result"
    }
   ],
   "source": [
    "# let's extract first 10 companies required experience with the help of Contains method.\n",
    "# Since all the experience tags have a 'Yrs' contains is common.\n",
    "# so that we will take this contains and extract all the required data.\n",
    "exp_tag=driver.find_elements_by_xpath('//*[contains(@title,\"Yrs\")]')\n",
    "exp_tag=exp_tag[:10]\n",
    "exp_tag"
   ]
  },
  {
   "cell_type": "code",
   "execution_count": 17,
   "id": "5c76964b",
   "metadata": {},
   "outputs": [
    {
     "data": {
      "text/plain": [
       "['8-12 Yrs',\n",
       " '1-6 Yrs',\n",
       " '5-9 Yrs',\n",
       " '0-4 Yrs',\n",
       " '0-2 Yrs',\n",
       " '0-2 Yrs',\n",
       " '4-8 Yrs',\n",
       " '6-9 Yrs',\n",
       " '5-10 Yrs',\n",
       " '2-5 Yrs']"
      ]
     },
     "execution_count": 17,
     "metadata": {},
     "output_type": "execute_result"
    }
   ],
   "source": [
    "# Using For loop\n",
    "experience=[]\n",
    "for i in exp_tag:\n",
    "    experience.append(i.text)\n",
    "experience"
   ]
  },
  {
   "cell_type": "markdown",
   "id": "f3bc3592",
   "metadata": {},
   "source": [
    "## Extracting Job_Location:\n"
   ]
  },
  {
   "cell_type": "code",
   "execution_count": 18,
   "id": "88c0d440",
   "metadata": {},
   "outputs": [
    {
     "data": {
      "text/plain": [
       "10"
      ]
     },
     "execution_count": 18,
     "metadata": {},
     "output_type": "execute_result"
    }
   ],
   "source": [
    "loca_tag=driver.find_elements_by_xpath('//li[@class=\"fleft grey-text br2 placeHolderLi location\"]')\n",
    "loca_tag=loca_tag[:10]\n",
    "len(loca_tag)"
   ]
  },
  {
   "cell_type": "code",
   "execution_count": 19,
   "id": "69f0ff09",
   "metadata": {},
   "outputs": [
    {
     "data": {
      "text/plain": [
       "['Bangalore/Bengaluru',\n",
       " 'Bangalore/Bengaluru',\n",
       " 'Bangalore/Bengaluru',\n",
       " 'Bangalore/Bengaluru',\n",
       " 'Bangalore/Bengaluru(HSR Layout +7)',\n",
       " 'Bangalore/Bengaluru',\n",
       " 'Mumbai, Bangalore/Bengaluru, Greater Noida\\n(WFH during Covid)',\n",
       " 'Hyderabad/Secunderabad, Pune, Bangalore/Bengaluru\\n(WFH during Covid)',\n",
       " 'Bangalore/Bengaluru',\n",
       " 'Bangalore/Bengaluru']"
      ]
     },
     "execution_count": 19,
     "metadata": {},
     "output_type": "execute_result"
    }
   ],
   "source": [
    "#Using for loop\n",
    "location=[]\n",
    "for i in loca_tag:\n",
    "    location.append(i.text)\n",
    "location"
   ]
  },
  {
   "cell_type": "markdown",
   "id": "60722584",
   "metadata": {},
   "source": [
    "## Creating a dataframe"
   ]
  },
  {
   "cell_type": "code",
   "execution_count": 20,
   "id": "8d0cfdf5",
   "metadata": {},
   "outputs": [
    {
     "data": {
      "text/html": [
       "<div>\n",
       "<style scoped>\n",
       "    .dataframe tbody tr th:only-of-type {\n",
       "        vertical-align: middle;\n",
       "    }\n",
       "\n",
       "    .dataframe tbody tr th {\n",
       "        vertical-align: top;\n",
       "    }\n",
       "\n",
       "    .dataframe thead th {\n",
       "        text-align: right;\n",
       "    }\n",
       "</style>\n",
       "<table border=\"1\" class=\"dataframe\">\n",
       "  <thead>\n",
       "    <tr style=\"text-align: right;\">\n",
       "      <th></th>\n",
       "      <th>job-title</th>\n",
       "      <th>job-location</th>\n",
       "      <th>company-name</th>\n",
       "      <th>experience-required</th>\n",
       "    </tr>\n",
       "  </thead>\n",
       "  <tbody>\n",
       "    <tr>\n",
       "      <th>0</th>\n",
       "      <td>Senior Data Analyst - Collibra</td>\n",
       "      <td>Bangalore/Bengaluru</td>\n",
       "      <td>Shell</td>\n",
       "      <td>8-12 Yrs</td>\n",
       "    </tr>\n",
       "    <tr>\n",
       "      <th>1</th>\n",
       "      <td>Hiring -Data Analyst, Business Analyst, MIS An...</td>\n",
       "      <td>Bangalore/Bengaluru</td>\n",
       "      <td>Flipkart</td>\n",
       "      <td>1-6 Yrs</td>\n",
       "    </tr>\n",
       "    <tr>\n",
       "      <th>2</th>\n",
       "      <td>Data analyst</td>\n",
       "      <td>Bangalore/Bengaluru</td>\n",
       "      <td>GSK India</td>\n",
       "      <td>5-9 Yrs</td>\n",
       "    </tr>\n",
       "    <tr>\n",
       "      <th>3</th>\n",
       "      <td>Pipeline/Piping Data Analyst Trainee</td>\n",
       "      <td>Bangalore/Bengaluru</td>\n",
       "      <td>TIMS SOLUTIONS PRIVATE LIMITED</td>\n",
       "      <td>0-4 Yrs</td>\n",
       "    </tr>\n",
       "    <tr>\n",
       "      <th>4</th>\n",
       "      <td>Data Analyst</td>\n",
       "      <td>Bangalore/Bengaluru(HSR Layout +7)</td>\n",
       "      <td>Insure Pro 2.0</td>\n",
       "      <td>0-2 Yrs</td>\n",
       "    </tr>\n",
       "    <tr>\n",
       "      <th>5</th>\n",
       "      <td>Data Analyst</td>\n",
       "      <td>Bangalore/Bengaluru</td>\n",
       "      <td>BERKMEER INDIA PRIVATE LIMITED</td>\n",
       "      <td>0-2 Yrs</td>\n",
       "    </tr>\n",
       "    <tr>\n",
       "      <th>6</th>\n",
       "      <td>Hiring For Data Analyst (SQL &amp; Scala) || Coforge</td>\n",
       "      <td>Mumbai, Bangalore/Bengaluru, Greater Noida\\n(W...</td>\n",
       "      <td>Coforge</td>\n",
       "      <td>4-8 Yrs</td>\n",
       "    </tr>\n",
       "    <tr>\n",
       "      <th>7</th>\n",
       "      <td>Hiring Data Analyst(Immediate joiner preferred...</td>\n",
       "      <td>Hyderabad/Secunderabad, Pune, Bangalore/Bengal...</td>\n",
       "      <td>GlobalLogic</td>\n",
       "      <td>6-9 Yrs</td>\n",
       "    </tr>\n",
       "    <tr>\n",
       "      <th>8</th>\n",
       "      <td>Sr. Data Analyst</td>\n",
       "      <td>Bangalore/Bengaluru</td>\n",
       "      <td>Born Commerce</td>\n",
       "      <td>5-10 Yrs</td>\n",
       "    </tr>\n",
       "    <tr>\n",
       "      <th>9</th>\n",
       "      <td>Data Analyst</td>\n",
       "      <td>Bangalore/Bengaluru</td>\n",
       "      <td>Opkey</td>\n",
       "      <td>2-5 Yrs</td>\n",
       "    </tr>\n",
       "  </tbody>\n",
       "</table>\n",
       "</div>"
      ],
      "text/plain": [
       "                                           job-title  \\\n",
       "0                     Senior Data Analyst - Collibra   \n",
       "1  Hiring -Data Analyst, Business Analyst, MIS An...   \n",
       "2                                       Data analyst   \n",
       "3               Pipeline/Piping Data Analyst Trainee   \n",
       "4                                       Data Analyst   \n",
       "5                                       Data Analyst   \n",
       "6   Hiring For Data Analyst (SQL & Scala) || Coforge   \n",
       "7  Hiring Data Analyst(Immediate joiner preferred...   \n",
       "8                                   Sr. Data Analyst   \n",
       "9                                       Data Analyst   \n",
       "\n",
       "                                        job-location  \\\n",
       "0                                Bangalore/Bengaluru   \n",
       "1                                Bangalore/Bengaluru   \n",
       "2                                Bangalore/Bengaluru   \n",
       "3                                Bangalore/Bengaluru   \n",
       "4                 Bangalore/Bengaluru(HSR Layout +7)   \n",
       "5                                Bangalore/Bengaluru   \n",
       "6  Mumbai, Bangalore/Bengaluru, Greater Noida\\n(W...   \n",
       "7  Hyderabad/Secunderabad, Pune, Bangalore/Bengal...   \n",
       "8                                Bangalore/Bengaluru   \n",
       "9                                Bangalore/Bengaluru   \n",
       "\n",
       "                     company-name experience-required  \n",
       "0                           Shell            8-12 Yrs  \n",
       "1                        Flipkart             1-6 Yrs  \n",
       "2                       GSK India             5-9 Yrs  \n",
       "3  TIMS SOLUTIONS PRIVATE LIMITED             0-4 Yrs  \n",
       "4                  Insure Pro 2.0             0-2 Yrs  \n",
       "5  BERKMEER INDIA PRIVATE LIMITED             0-2 Yrs  \n",
       "6                         Coforge             4-8 Yrs  \n",
       "7                     GlobalLogic             6-9 Yrs  \n",
       "8                   Born Commerce            5-10 Yrs  \n",
       "9                           Opkey             2-5 Yrs  "
      ]
     },
     "execution_count": 20,
     "metadata": {},
     "output_type": "execute_result"
    }
   ],
   "source": [
    "df=pd.DataFrame()\n",
    "df['job-title']=job_heading\n",
    "df['job-location']=location\n",
    "df['company-name']=company_names\n",
    "df['experience-required']=experience\n",
    "df"
   ]
  },
  {
   "cell_type": "code",
   "execution_count": null,
   "id": "e7e47972",
   "metadata": {},
   "outputs": [],
   "source": []
  },
  {
   "cell_type": "markdown",
   "id": "9a40054e",
   "metadata": {},
   "source": [
    "# Problem Statement:\n",
    "\n",
    "#### Q2: Write a python program to scrape data for “Data Scientist” Job position in “Bangalore” location. You have to scrape the job-title, job-location, company_name. You have to scrape first 10 jobs data.\n",
    "##### `This task will be done in following steps:`\n",
    "- 1. First get the webpage https://www.naukri.com/\n",
    "- 2. Enter “Data Scientist” in “Skill, Designations, Companies” field and enter “Bangalore” in “enter the location” field.\n",
    "- 3. Then click the search button.\n",
    "- 4. Then scrape the data for the first 10 jobs results you get.\n",
    "- 5. Finally create a dataframe of the scraped data."
   ]
  },
  {
   "cell_type": "code",
   "execution_count": 21,
   "id": "d3cc4617",
   "metadata": {},
   "outputs": [],
   "source": [
    "# Importing the necessary library\n",
    "import selenium\n",
    "from selenium import webdriver\n",
    "import pandas as pd\n",
    "import numpy as np\n",
    "import warnings\n",
    "warnings.filterwarnings('ignore')"
   ]
  },
  {
   "cell_type": "code",
   "execution_count": 22,
   "id": "5f9390fe",
   "metadata": {},
   "outputs": [],
   "source": [
    "driver.get('https://www.naukri.com/')"
   ]
  },
  {
   "cell_type": "code",
   "execution_count": 23,
   "id": "0e4d7756",
   "metadata": {},
   "outputs": [
    {
     "data": {
      "text/plain": [
       "<selenium.webdriver.remote.webelement.WebElement (session=\"6bc2ca1058b02bbe1b233db68b0ff977\", element=\"f8ab2e0a-a24b-4df5-9d0e-a194b31e25bc\")>"
      ]
     },
     "execution_count": 23,
     "metadata": {},
     "output_type": "execute_result"
    }
   ],
   "source": [
    "# findting the web element got job search bar\n",
    "search_job=driver.find_element_by_class_name(\"suggestor-input\")\n",
    "search_job"
   ]
  },
  {
   "cell_type": "code",
   "execution_count": 24,
   "id": "dccd6ee4",
   "metadata": {},
   "outputs": [],
   "source": [
    "search_job.send_keys(\"Data Scientist\")"
   ]
  },
  {
   "cell_type": "code",
   "execution_count": 25,
   "id": "095e8ce0",
   "metadata": {},
   "outputs": [
    {
     "data": {
      "text/plain": [
       "<selenium.webdriver.remote.webelement.WebElement (session=\"6bc2ca1058b02bbe1b233db68b0ff977\", element=\"aa79155b-7851-424a-8cc2-eca365e39457\")>"
      ]
     },
     "execution_count": 25,
     "metadata": {},
     "output_type": "execute_result"
    }
   ],
   "source": [
    "# finding the web element for location\n",
    "location=driver.find_element_by_xpath(\"/html/body/div/div[2]/div[3]/div/div/div[3]/div/div/div/input\")\n",
    "location"
   ]
  },
  {
   "cell_type": "code",
   "execution_count": 26,
   "id": "5c5fae92",
   "metadata": {},
   "outputs": [],
   "source": [
    "location.send_keys('Bangalore')"
   ]
  },
  {
   "cell_type": "code",
   "execution_count": 27,
   "id": "d9a811e2",
   "metadata": {},
   "outputs": [],
   "source": [
    "# clicking the search key\n",
    "search_key=driver.find_element_by_class_name(\"qsbSubmit\")"
   ]
  },
  {
   "cell_type": "code",
   "execution_count": 28,
   "id": "dfd66dc5",
   "metadata": {},
   "outputs": [],
   "source": [
    "search_key.click()"
   ]
  },
  {
   "cell_type": "markdown",
   "id": "4074b429",
   "metadata": {},
   "source": [
    "### Scraping the job  titles      "
   ]
  },
  {
   "cell_type": "code",
   "execution_count": 29,
   "id": "7ff39890",
   "metadata": {},
   "outputs": [
    {
     "data": {
      "text/plain": [
       "[<selenium.webdriver.remote.webelement.WebElement (session=\"6bc2ca1058b02bbe1b233db68b0ff977\", element=\"755a877c-6c76-4628-8f29-8b7d66eebf2b\")>,\n",
       " <selenium.webdriver.remote.webelement.WebElement (session=\"6bc2ca1058b02bbe1b233db68b0ff977\", element=\"8159a0ae-638a-487e-a735-24ae15c5dee9\")>,\n",
       " <selenium.webdriver.remote.webelement.WebElement (session=\"6bc2ca1058b02bbe1b233db68b0ff977\", element=\"bf666867-6c23-4d21-a46c-a198009f7558\")>,\n",
       " <selenium.webdriver.remote.webelement.WebElement (session=\"6bc2ca1058b02bbe1b233db68b0ff977\", element=\"1e59289e-d7a9-4f07-9415-6028e654e056\")>,\n",
       " <selenium.webdriver.remote.webelement.WebElement (session=\"6bc2ca1058b02bbe1b233db68b0ff977\", element=\"91006dd1-5cbe-46fd-bbf0-f1c4cc655436\")>,\n",
       " <selenium.webdriver.remote.webelement.WebElement (session=\"6bc2ca1058b02bbe1b233db68b0ff977\", element=\"c4664290-84de-46ee-80c9-510f3ed33215\")>,\n",
       " <selenium.webdriver.remote.webelement.WebElement (session=\"6bc2ca1058b02bbe1b233db68b0ff977\", element=\"aace8018-cdfb-4228-ac21-9c618ec65662\")>,\n",
       " <selenium.webdriver.remote.webelement.WebElement (session=\"6bc2ca1058b02bbe1b233db68b0ff977\", element=\"03cd7a3e-7db4-418e-bd6a-5290daa9e4b9\")>,\n",
       " <selenium.webdriver.remote.webelement.WebElement (session=\"6bc2ca1058b02bbe1b233db68b0ff977\", element=\"ee3afc4e-583f-4d82-a9b0-22182c2ecb10\")>,\n",
       " <selenium.webdriver.remote.webelement.WebElement (session=\"6bc2ca1058b02bbe1b233db68b0ff977\", element=\"ec6c86c4-93e4-4005-b2db-d2ae20b2813e\")>,\n",
       " <selenium.webdriver.remote.webelement.WebElement (session=\"6bc2ca1058b02bbe1b233db68b0ff977\", element=\"81ae4dc3-169c-4a99-9bc6-4aa568582896\")>,\n",
       " <selenium.webdriver.remote.webelement.WebElement (session=\"6bc2ca1058b02bbe1b233db68b0ff977\", element=\"259320e3-5fff-426e-8e18-0d25544dc1a3\")>,\n",
       " <selenium.webdriver.remote.webelement.WebElement (session=\"6bc2ca1058b02bbe1b233db68b0ff977\", element=\"0b99aa0d-dd53-4003-8d20-4dcc94109d27\")>,\n",
       " <selenium.webdriver.remote.webelement.WebElement (session=\"6bc2ca1058b02bbe1b233db68b0ff977\", element=\"8913d614-ccf5-4c9d-a939-a19059bc5dc8\")>,\n",
       " <selenium.webdriver.remote.webelement.WebElement (session=\"6bc2ca1058b02bbe1b233db68b0ff977\", element=\"9c57c57a-cea9-4ee1-93a5-a19ea2a856a8\")>,\n",
       " <selenium.webdriver.remote.webelement.WebElement (session=\"6bc2ca1058b02bbe1b233db68b0ff977\", element=\"81274619-c762-4354-a99d-fc344c63a45a\")>,\n",
       " <selenium.webdriver.remote.webelement.WebElement (session=\"6bc2ca1058b02bbe1b233db68b0ff977\", element=\"ddfb2825-68e8-4015-93b7-6427c11d3101\")>,\n",
       " <selenium.webdriver.remote.webelement.WebElement (session=\"6bc2ca1058b02bbe1b233db68b0ff977\", element=\"63901d41-d81a-436a-b124-ff107adc846f\")>,\n",
       " <selenium.webdriver.remote.webelement.WebElement (session=\"6bc2ca1058b02bbe1b233db68b0ff977\", element=\"16674cce-c3e6-41e7-b7db-13047f11d99d\")>,\n",
       " <selenium.webdriver.remote.webelement.WebElement (session=\"6bc2ca1058b02bbe1b233db68b0ff977\", element=\"7a99a68c-5efc-401b-b042-bf2ad1726cee\")>]"
      ]
     },
     "execution_count": 29,
     "metadata": {},
     "output_type": "execute_result"
    }
   ],
   "source": [
    "title_tags=driver.find_elements_by_xpath('//a[@class=\"title fw500 ellipsis\"]')\n",
    "title_tags"
   ]
  },
  {
   "cell_type": "code",
   "execution_count": 30,
   "id": "b980710d",
   "metadata": {},
   "outputs": [],
   "source": [
    "job_titles=[]\n",
    "for i in title_tags:\n",
    "    job_titles.append(i.text)\n",
    "job_titles=job_titles[:10]"
   ]
  },
  {
   "cell_type": "code",
   "execution_count": 31,
   "id": "93de9ce8",
   "metadata": {},
   "outputs": [
    {
     "data": {
      "text/plain": [
       "10"
      ]
     },
     "execution_count": 31,
     "metadata": {},
     "output_type": "execute_result"
    }
   ],
   "source": [
    "len(job_titles)"
   ]
  },
  {
   "cell_type": "markdown",
   "id": "2d8367d9",
   "metadata": {},
   "source": [
    "### Sraping the Location"
   ]
  },
  {
   "cell_type": "code",
   "execution_count": 32,
   "id": "73e60c9e",
   "metadata": {},
   "outputs": [
    {
     "data": {
      "text/plain": [
       "[<selenium.webdriver.remote.webelement.WebElement (session=\"6bc2ca1058b02bbe1b233db68b0ff977\", element=\"67dad592-0a39-467f-b6dd-343d783c57a1\")>,\n",
       " <selenium.webdriver.remote.webelement.WebElement (session=\"6bc2ca1058b02bbe1b233db68b0ff977\", element=\"8d2e1b23-e992-4357-b683-07fc684b9802\")>,\n",
       " <selenium.webdriver.remote.webelement.WebElement (session=\"6bc2ca1058b02bbe1b233db68b0ff977\", element=\"997dff30-4b00-4a60-951c-3b63db88adf6\")>,\n",
       " <selenium.webdriver.remote.webelement.WebElement (session=\"6bc2ca1058b02bbe1b233db68b0ff977\", element=\"096bc195-2f4c-4466-b16f-49b66042f874\")>,\n",
       " <selenium.webdriver.remote.webelement.WebElement (session=\"6bc2ca1058b02bbe1b233db68b0ff977\", element=\"468e6a88-8df3-4ee8-8244-702726ce5c61\")>,\n",
       " <selenium.webdriver.remote.webelement.WebElement (session=\"6bc2ca1058b02bbe1b233db68b0ff977\", element=\"94de1bce-4bc7-497d-b450-f7f727f3fa92\")>,\n",
       " <selenium.webdriver.remote.webelement.WebElement (session=\"6bc2ca1058b02bbe1b233db68b0ff977\", element=\"cbc5f802-9b4e-4c40-a14b-9e9863868013\")>,\n",
       " <selenium.webdriver.remote.webelement.WebElement (session=\"6bc2ca1058b02bbe1b233db68b0ff977\", element=\"a201eda8-2e07-4bc1-b70f-ed41e4139834\")>,\n",
       " <selenium.webdriver.remote.webelement.WebElement (session=\"6bc2ca1058b02bbe1b233db68b0ff977\", element=\"1da2a9aa-0a30-46cb-a175-425604a4b7a8\")>,\n",
       " <selenium.webdriver.remote.webelement.WebElement (session=\"6bc2ca1058b02bbe1b233db68b0ff977\", element=\"5659856c-5c04-49b4-9b6a-c56f55e67d63\")>,\n",
       " <selenium.webdriver.remote.webelement.WebElement (session=\"6bc2ca1058b02bbe1b233db68b0ff977\", element=\"067a1748-cd15-464f-901a-ce8bf9cdfe76\")>,\n",
       " <selenium.webdriver.remote.webelement.WebElement (session=\"6bc2ca1058b02bbe1b233db68b0ff977\", element=\"38b07893-1812-4fc3-ab90-69f7e742237b\")>,\n",
       " <selenium.webdriver.remote.webelement.WebElement (session=\"6bc2ca1058b02bbe1b233db68b0ff977\", element=\"3c88227f-ae51-40b8-a09f-7448e64b509b\")>,\n",
       " <selenium.webdriver.remote.webelement.WebElement (session=\"6bc2ca1058b02bbe1b233db68b0ff977\", element=\"fadcd7c0-c1e2-4eac-8e62-f8b7f10ce792\")>,\n",
       " <selenium.webdriver.remote.webelement.WebElement (session=\"6bc2ca1058b02bbe1b233db68b0ff977\", element=\"f8ff852e-2664-47d1-939c-36854b31aedc\")>,\n",
       " <selenium.webdriver.remote.webelement.WebElement (session=\"6bc2ca1058b02bbe1b233db68b0ff977\", element=\"d0e6fb4c-c424-41d2-ba2d-c494462158f3\")>,\n",
       " <selenium.webdriver.remote.webelement.WebElement (session=\"6bc2ca1058b02bbe1b233db68b0ff977\", element=\"22a0f23e-c485-410e-9a6f-46d1f72f8123\")>,\n",
       " <selenium.webdriver.remote.webelement.WebElement (session=\"6bc2ca1058b02bbe1b233db68b0ff977\", element=\"b9914d05-d404-425c-b9d4-ddc162743db0\")>,\n",
       " <selenium.webdriver.remote.webelement.WebElement (session=\"6bc2ca1058b02bbe1b233db68b0ff977\", element=\"ffd92dab-f0ae-401e-a094-29e657e05678\")>,\n",
       " <selenium.webdriver.remote.webelement.WebElement (session=\"6bc2ca1058b02bbe1b233db68b0ff977\", element=\"a40e2127-a72d-4446-a051-6235def663c3\")>]"
      ]
     },
     "execution_count": 32,
     "metadata": {},
     "output_type": "execute_result"
    }
   ],
   "source": [
    "loc_tags=driver.find_elements_by_xpath('//li[@class=\"fleft grey-text br2 placeHolderLi location\"]')\n",
    "loc_tags"
   ]
  },
  {
   "cell_type": "code",
   "execution_count": 33,
   "id": "8751143e",
   "metadata": {},
   "outputs": [
    {
     "name": "stdout",
     "output_type": "stream",
     "text": [
      "10\n"
     ]
    }
   ],
   "source": [
    "job_location=[]\n",
    "for i in loc_tags:\n",
    "    job_location.append(i.text)\n",
    "job_location=job_location[:10]\n",
    "print(len(job_location))"
   ]
  },
  {
   "cell_type": "markdown",
   "id": "3791f113",
   "metadata": {},
   "source": [
    "### Extracting the company names"
   ]
  },
  {
   "cell_type": "code",
   "execution_count": 34,
   "id": "ef6b2b97",
   "metadata": {},
   "outputs": [
    {
     "data": {
      "text/plain": [
       "[<selenium.webdriver.remote.webelement.WebElement (session=\"6bc2ca1058b02bbe1b233db68b0ff977\", element=\"db017f3c-ccf3-45bb-88cc-7f793769ae37\")>,\n",
       " <selenium.webdriver.remote.webelement.WebElement (session=\"6bc2ca1058b02bbe1b233db68b0ff977\", element=\"51db8703-ac68-4b8b-895e-213da862c360\")>,\n",
       " <selenium.webdriver.remote.webelement.WebElement (session=\"6bc2ca1058b02bbe1b233db68b0ff977\", element=\"a01bdc58-7a43-4bc7-990f-3453aa401200\")>,\n",
       " <selenium.webdriver.remote.webelement.WebElement (session=\"6bc2ca1058b02bbe1b233db68b0ff977\", element=\"3f3cf88e-2757-48a2-a604-2d6c4242d36f\")>,\n",
       " <selenium.webdriver.remote.webelement.WebElement (session=\"6bc2ca1058b02bbe1b233db68b0ff977\", element=\"a1e03b64-4b27-4d53-9e76-9b771c22ce48\")>,\n",
       " <selenium.webdriver.remote.webelement.WebElement (session=\"6bc2ca1058b02bbe1b233db68b0ff977\", element=\"f7c26b0f-ce49-41b6-838a-6206b35d7baf\")>,\n",
       " <selenium.webdriver.remote.webelement.WebElement (session=\"6bc2ca1058b02bbe1b233db68b0ff977\", element=\"81d7708c-69c9-4380-87a0-863817678bba\")>,\n",
       " <selenium.webdriver.remote.webelement.WebElement (session=\"6bc2ca1058b02bbe1b233db68b0ff977\", element=\"cbe00102-4463-4b08-b6e8-cfd72b759a43\")>,\n",
       " <selenium.webdriver.remote.webelement.WebElement (session=\"6bc2ca1058b02bbe1b233db68b0ff977\", element=\"e993ce23-ba46-47ad-900f-556747b53fad\")>,\n",
       " <selenium.webdriver.remote.webelement.WebElement (session=\"6bc2ca1058b02bbe1b233db68b0ff977\", element=\"ec94a794-24bd-4bf3-bd30-02cf03790502\")>,\n",
       " <selenium.webdriver.remote.webelement.WebElement (session=\"6bc2ca1058b02bbe1b233db68b0ff977\", element=\"6ff0a9e0-7ebe-4404-912c-8df189841554\")>,\n",
       " <selenium.webdriver.remote.webelement.WebElement (session=\"6bc2ca1058b02bbe1b233db68b0ff977\", element=\"224e6f0b-c5f0-4990-be53-375728d272e6\")>,\n",
       " <selenium.webdriver.remote.webelement.WebElement (session=\"6bc2ca1058b02bbe1b233db68b0ff977\", element=\"af04adcc-c4c2-4061-bdc8-3c3d54044bd7\")>,\n",
       " <selenium.webdriver.remote.webelement.WebElement (session=\"6bc2ca1058b02bbe1b233db68b0ff977\", element=\"a4bf0b3d-e865-463c-a6b9-be291484cf96\")>,\n",
       " <selenium.webdriver.remote.webelement.WebElement (session=\"6bc2ca1058b02bbe1b233db68b0ff977\", element=\"87a525f7-b28b-47b7-b63c-24a31945f605\")>,\n",
       " <selenium.webdriver.remote.webelement.WebElement (session=\"6bc2ca1058b02bbe1b233db68b0ff977\", element=\"1551832b-6b31-4449-9e31-a07035f7ebef\")>,\n",
       " <selenium.webdriver.remote.webelement.WebElement (session=\"6bc2ca1058b02bbe1b233db68b0ff977\", element=\"3e0754c1-f051-4549-b8da-14770dcb5332\")>,\n",
       " <selenium.webdriver.remote.webelement.WebElement (session=\"6bc2ca1058b02bbe1b233db68b0ff977\", element=\"de56ed4f-3201-48d6-8b6d-598cb785d410\")>,\n",
       " <selenium.webdriver.remote.webelement.WebElement (session=\"6bc2ca1058b02bbe1b233db68b0ff977\", element=\"37f138a6-74b2-4bc7-aa3d-60abdfd34bb0\")>,\n",
       " <selenium.webdriver.remote.webelement.WebElement (session=\"6bc2ca1058b02bbe1b233db68b0ff977\", element=\"648dd9a5-f69b-4c7b-8cb5-2a0a041cebe4\")>]"
      ]
     },
     "execution_count": 34,
     "metadata": {},
     "output_type": "execute_result"
    }
   ],
   "source": [
    "name_tags=driver.find_elements_by_xpath('//a[@class=\"subTitle ellipsis fleft\"]')\n",
    "name_tags"
   ]
  },
  {
   "cell_type": "code",
   "execution_count": 35,
   "id": "b5d11c98",
   "metadata": {},
   "outputs": [
    {
     "name": "stdout",
     "output_type": "stream",
     "text": [
      "10\n"
     ]
    }
   ],
   "source": [
    "company_names=[]\n",
    "for i in name_tags:\n",
    "    company_names.append(i.text)\n",
    "company_names=company_names[:10]\n",
    "print(len(company_names))"
   ]
  },
  {
   "cell_type": "markdown",
   "id": "3f91900d",
   "metadata": {},
   "source": [
    "## Let's Create the dataframe"
   ]
  },
  {
   "cell_type": "code",
   "execution_count": 36,
   "id": "f4d62a38",
   "metadata": {},
   "outputs": [
    {
     "data": {
      "text/html": [
       "<div>\n",
       "<style scoped>\n",
       "    .dataframe tbody tr th:only-of-type {\n",
       "        vertical-align: middle;\n",
       "    }\n",
       "\n",
       "    .dataframe tbody tr th {\n",
       "        vertical-align: top;\n",
       "    }\n",
       "\n",
       "    .dataframe thead th {\n",
       "        text-align: right;\n",
       "    }\n",
       "</style>\n",
       "<table border=\"1\" class=\"dataframe\">\n",
       "  <thead>\n",
       "    <tr style=\"text-align: right;\">\n",
       "      <th></th>\n",
       "      <th>Job_titles</th>\n",
       "      <th>Job_location</th>\n",
       "      <th>Company_name</th>\n",
       "    </tr>\n",
       "  </thead>\n",
       "  <tbody>\n",
       "    <tr>\n",
       "      <th>0</th>\n",
       "      <td>Global Tax Automation &amp; Operations - Data Scie...</td>\n",
       "      <td>Bangalore/Bengaluru</td>\n",
       "      <td>Dell</td>\n",
       "    </tr>\n",
       "    <tr>\n",
       "      <th>1</th>\n",
       "      <td>Data Scientist / ML Engineer</td>\n",
       "      <td>Noida, Kota, Mumbai, Chandigarh, Lucknow, Agra...</td>\n",
       "      <td>AVE-Promagne</td>\n",
       "    </tr>\n",
       "    <tr>\n",
       "      <th>2</th>\n",
       "      <td>Data Scientist - Lead / Architect - Looking Fo...</td>\n",
       "      <td>Kochi/Cochin, Kolkata, Pune, Gurgaon/Gurugram,...</td>\n",
       "      <td>Wipro</td>\n",
       "    </tr>\n",
       "    <tr>\n",
       "      <th>3</th>\n",
       "      <td>Sr Data Scientist</td>\n",
       "      <td>Bangalore/Bengaluru\\n(WFH during Covid)</td>\n",
       "      <td>Fragma data systems pvt ltd</td>\n",
       "    </tr>\n",
       "    <tr>\n",
       "      <th>4</th>\n",
       "      <td>Associate Data Scientist</td>\n",
       "      <td>Bangalore/Bengaluru</td>\n",
       "      <td>Kaplan</td>\n",
       "    </tr>\n",
       "    <tr>\n",
       "      <th>5</th>\n",
       "      <td>Data Scientist / Analyst</td>\n",
       "      <td>Hyderabad/Secunderabad, Bangalore/Bengaluru, D...</td>\n",
       "      <td>Talentify</td>\n",
       "    </tr>\n",
       "    <tr>\n",
       "      <th>6</th>\n",
       "      <td>Principal Data Scientist</td>\n",
       "      <td>Bangalore/Bengaluru</td>\n",
       "      <td>Signify</td>\n",
       "    </tr>\n",
       "    <tr>\n",
       "      <th>7</th>\n",
       "      <td>Data Scientist: Artificial Intelligence</td>\n",
       "      <td>Bangalore/Bengaluru</td>\n",
       "      <td>IBM</td>\n",
       "    </tr>\n",
       "    <tr>\n",
       "      <th>8</th>\n",
       "      <td>Deputy Manager - Data Scientist</td>\n",
       "      <td>Bangalore/Bengaluru</td>\n",
       "      <td>HDFC LIFE INSURANCE COMPANY LIMITED</td>\n",
       "    </tr>\n",
       "    <tr>\n",
       "      <th>9</th>\n",
       "      <td>Senior Data Scientist, Speech Synthesis</td>\n",
       "      <td>Hyderabad/Secunderabad, Pune, Bangalore/Bengaluru</td>\n",
       "      <td>NVIDIA</td>\n",
       "    </tr>\n",
       "  </tbody>\n",
       "</table>\n",
       "</div>"
      ],
      "text/plain": [
       "                                          Job_titles  \\\n",
       "0  Global Tax Automation & Operations - Data Scie...   \n",
       "1                       Data Scientist / ML Engineer   \n",
       "2  Data Scientist - Lead / Architect - Looking Fo...   \n",
       "3                                  Sr Data Scientist   \n",
       "4                           Associate Data Scientist   \n",
       "5                           Data Scientist / Analyst   \n",
       "6                           Principal Data Scientist   \n",
       "7            Data Scientist: Artificial Intelligence   \n",
       "8                    Deputy Manager - Data Scientist   \n",
       "9            Senior Data Scientist, Speech Synthesis   \n",
       "\n",
       "                                        Job_location  \\\n",
       "0                                Bangalore/Bengaluru   \n",
       "1  Noida, Kota, Mumbai, Chandigarh, Lucknow, Agra...   \n",
       "2  Kochi/Cochin, Kolkata, Pune, Gurgaon/Gurugram,...   \n",
       "3            Bangalore/Bengaluru\\n(WFH during Covid)   \n",
       "4                                Bangalore/Bengaluru   \n",
       "5  Hyderabad/Secunderabad, Bangalore/Bengaluru, D...   \n",
       "6                                Bangalore/Bengaluru   \n",
       "7                                Bangalore/Bengaluru   \n",
       "8                                Bangalore/Bengaluru   \n",
       "9  Hyderabad/Secunderabad, Pune, Bangalore/Bengaluru   \n",
       "\n",
       "                          Company_name  \n",
       "0                                 Dell  \n",
       "1                         AVE-Promagne  \n",
       "2                                Wipro  \n",
       "3          Fragma data systems pvt ltd  \n",
       "4                               Kaplan  \n",
       "5                            Talentify  \n",
       "6                              Signify  \n",
       "7                                  IBM  \n",
       "8  HDFC LIFE INSURANCE COMPANY LIMITED  \n",
       "9                               NVIDIA  "
      ]
     },
     "execution_count": 36,
     "metadata": {},
     "output_type": "execute_result"
    }
   ],
   "source": [
    "df2=pd.DataFrame()\n",
    "df2['Job_titles']=job_titles\n",
    "df2['Job_location']=job_location\n",
    "df2['Company_name']=company_names\n",
    "df2"
   ]
  },
  {
   "cell_type": "markdown",
   "id": "5bde6605",
   "metadata": {},
   "source": [
    "# Problem Statement\n",
    "\n",
    "##### Q3: In this question you have to scrape data with keeping below points in mind.\n",
    "- You have to use the location and salary filter.\n",
    "- You have to scrape data for “Data Scientist” designation for first 10 job results.\n",
    "- You have to scrape the job-title, job-location, company name, experience required.\n",
    "- The location filter to be used is “Delhi/NCR”. The salary filter to be used is “3-6” lakhs\n"
   ]
  },
  {
   "cell_type": "markdown",
   "id": "e85dec53",
   "metadata": {},
   "source": [
    "The task will be done as shown in the below steps:\n",
    "1. first get the webpage https://www.naukri.com/\n",
    "2. Enter “Data Scientist” in “Skill, Designations, and Companies” field.\n",
    "3. Then click the search button.\n",
    "4. Then apply the location filter and salary filter by checking the respective boxes\n",
    "5. Then scrape the data for the first 10 jobs results you get.\n",
    "6. Finally create a dataframe of the scraped data."
   ]
  },
  {
   "cell_type": "code",
   "execution_count": 37,
   "id": "ba6f4df6",
   "metadata": {},
   "outputs": [],
   "source": [
    "# Importing the necessary library\n",
    "import selenium\n",
    "from selenium import webdriver\n",
    "import pandas as pd\n",
    "import numpy as np\n",
    "import warnings\n",
    "warnings.filterwarnings('ignore')"
   ]
  },
  {
   "cell_type": "code",
   "execution_count": 38,
   "id": "f3863a51",
   "metadata": {},
   "outputs": [],
   "source": [
    "driver.get('https://www.naukri.com/')"
   ]
  },
  {
   "cell_type": "code",
   "execution_count": 39,
   "id": "79564049",
   "metadata": {},
   "outputs": [
    {
     "data": {
      "text/plain": [
       "<selenium.webdriver.remote.webelement.WebElement (session=\"6bc2ca1058b02bbe1b233db68b0ff977\", element=\"50ceac32-261f-4a4c-9aee-5176b8f85a10\")>"
      ]
     },
     "execution_count": 39,
     "metadata": {},
     "output_type": "execute_result"
    }
   ],
   "source": [
    "# findting the web element got job search bar\n",
    "search_job=driver.find_element_by_class_name(\"suggestor-input\")\n",
    "search_job"
   ]
  },
  {
   "cell_type": "code",
   "execution_count": 40,
   "id": "8bab9a4b",
   "metadata": {},
   "outputs": [],
   "source": [
    "search_job.send_keys(\"Data Scientist\")"
   ]
  },
  {
   "cell_type": "code",
   "execution_count": 41,
   "id": "e8cfe9bd",
   "metadata": {},
   "outputs": [],
   "source": [
    "# clicking the search key\n",
    "search_key=driver.find_element_by_class_name(\"qsbSubmit\")"
   ]
  },
  {
   "cell_type": "code",
   "execution_count": 42,
   "id": "eb1f7e0d",
   "metadata": {},
   "outputs": [],
   "source": [
    "search_key.click()"
   ]
  },
  {
   "cell_type": "code",
   "execution_count": 43,
   "id": "570747a0",
   "metadata": {},
   "outputs": [
    {
     "data": {
      "text/plain": [
       "<selenium.webdriver.remote.webelement.WebElement (session=\"6bc2ca1058b02bbe1b233db68b0ff977\", element=\"2564d28c-01b4-4850-8d22-712e640bdb21\")>"
      ]
     },
     "execution_count": 43,
     "metadata": {},
     "output_type": "execute_result"
    }
   ],
   "source": [
    "## Clicking on salary filter\n",
    "sal_filter=driver.find_element_by_xpath('/html/body/div[1]/div[3]/div[2]/section[1]/div[2]/div[4]/div[2]/div[2]/label/i')\n",
    "sal_filter"
   ]
  },
  {
   "cell_type": "code",
   "execution_count": 44,
   "id": "9ed45f6c",
   "metadata": {},
   "outputs": [],
   "source": [
    "sal_filter.click()"
   ]
  },
  {
   "cell_type": "code",
   "execution_count": 45,
   "id": "830d6300",
   "metadata": {},
   "outputs": [
    {
     "data": {
      "text/plain": [
       "<selenium.webdriver.remote.webelement.WebElement (session=\"6bc2ca1058b02bbe1b233db68b0ff977\", element=\"5872f726-542a-47d4-9325-e68cc6cec635\")>"
      ]
     },
     "execution_count": 45,
     "metadata": {},
     "output_type": "execute_result"
    }
   ],
   "source": [
    "## clicking on Location filter\\\n",
    "loc_filter=driver.find_element_by_xpath('/html/body/div[1]/div[3]/div[2]/section[1]/div[2]/div[4]/div[2]/div[3]/label/i')\n",
    "loc_filter"
   ]
  },
  {
   "cell_type": "code",
   "execution_count": 46,
   "id": "2002e8f1",
   "metadata": {},
   "outputs": [],
   "source": [
    "loc_filter.click()"
   ]
  },
  {
   "cell_type": "markdown",
   "id": "1541826f",
   "metadata": {},
   "source": [
    "## Extracting the Job_titles"
   ]
  },
  {
   "cell_type": "code",
   "execution_count": 47,
   "id": "18bdf2e7",
   "metadata": {},
   "outputs": [
    {
     "data": {
      "text/plain": [
       "[<selenium.webdriver.remote.webelement.WebElement (session=\"6bc2ca1058b02bbe1b233db68b0ff977\", element=\"a89dd590-cd3a-4364-ac37-a9f82185fbf1\")>,\n",
       " <selenium.webdriver.remote.webelement.WebElement (session=\"6bc2ca1058b02bbe1b233db68b0ff977\", element=\"ffadd053-fe50-485d-b5af-af1b101a56ee\")>,\n",
       " <selenium.webdriver.remote.webelement.WebElement (session=\"6bc2ca1058b02bbe1b233db68b0ff977\", element=\"025f299b-24eb-4d81-ae9e-58e5443cb708\")>,\n",
       " <selenium.webdriver.remote.webelement.WebElement (session=\"6bc2ca1058b02bbe1b233db68b0ff977\", element=\"0c302910-e7a7-4bfe-835d-478ad360197f\")>,\n",
       " <selenium.webdriver.remote.webelement.WebElement (session=\"6bc2ca1058b02bbe1b233db68b0ff977\", element=\"0f59ebeb-af3b-45dd-ad7a-5a585bba1cb6\")>,\n",
       " <selenium.webdriver.remote.webelement.WebElement (session=\"6bc2ca1058b02bbe1b233db68b0ff977\", element=\"558e97a2-2041-4004-a4db-27ed57965857\")>,\n",
       " <selenium.webdriver.remote.webelement.WebElement (session=\"6bc2ca1058b02bbe1b233db68b0ff977\", element=\"899caa5b-fece-49cf-a15d-3bc95040f23e\")>,\n",
       " <selenium.webdriver.remote.webelement.WebElement (session=\"6bc2ca1058b02bbe1b233db68b0ff977\", element=\"084ffac4-37e2-4627-8449-e4a668b17010\")>,\n",
       " <selenium.webdriver.remote.webelement.WebElement (session=\"6bc2ca1058b02bbe1b233db68b0ff977\", element=\"763eed85-d9ea-4265-b2b2-4e0628593eb9\")>,\n",
       " <selenium.webdriver.remote.webelement.WebElement (session=\"6bc2ca1058b02bbe1b233db68b0ff977\", element=\"7b3af3b2-3e00-4535-a7c3-6f2e4392694c\")>,\n",
       " <selenium.webdriver.remote.webelement.WebElement (session=\"6bc2ca1058b02bbe1b233db68b0ff977\", element=\"155de349-cf0f-4b71-86ab-fd34d6bdb51a\")>,\n",
       " <selenium.webdriver.remote.webelement.WebElement (session=\"6bc2ca1058b02bbe1b233db68b0ff977\", element=\"c1573695-b0c4-4078-890e-06ed1f0de9ee\")>,\n",
       " <selenium.webdriver.remote.webelement.WebElement (session=\"6bc2ca1058b02bbe1b233db68b0ff977\", element=\"a34910c2-97b8-4e6b-8a4b-7eef4b414bbb\")>,\n",
       " <selenium.webdriver.remote.webelement.WebElement (session=\"6bc2ca1058b02bbe1b233db68b0ff977\", element=\"a54392d8-b34f-4aa3-86e8-35d39a0563c7\")>,\n",
       " <selenium.webdriver.remote.webelement.WebElement (session=\"6bc2ca1058b02bbe1b233db68b0ff977\", element=\"cc727f67-ee76-4ebf-8e91-2fd96b3c176b\")>,\n",
       " <selenium.webdriver.remote.webelement.WebElement (session=\"6bc2ca1058b02bbe1b233db68b0ff977\", element=\"704a61bb-6b7b-497f-8c0f-6299aaf7fa5d\")>,\n",
       " <selenium.webdriver.remote.webelement.WebElement (session=\"6bc2ca1058b02bbe1b233db68b0ff977\", element=\"e5d030fe-ec0b-4abe-a8bf-7d9c462798b1\")>,\n",
       " <selenium.webdriver.remote.webelement.WebElement (session=\"6bc2ca1058b02bbe1b233db68b0ff977\", element=\"f91964b0-751f-45d5-83da-69975ff50f23\")>,\n",
       " <selenium.webdriver.remote.webelement.WebElement (session=\"6bc2ca1058b02bbe1b233db68b0ff977\", element=\"725eb98d-b5b9-4803-9df9-4fc9e6b6e190\")>,\n",
       " <selenium.webdriver.remote.webelement.WebElement (session=\"6bc2ca1058b02bbe1b233db68b0ff977\", element=\"7dbb439e-489a-4315-91de-7904dca03cff\")>]"
      ]
     },
     "execution_count": 47,
     "metadata": {},
     "output_type": "execute_result"
    }
   ],
   "source": [
    "title_tags=driver.find_elements_by_xpath('//a[@class=\"title fw500 ellipsis\"]')\n",
    "title_tags"
   ]
  },
  {
   "cell_type": "code",
   "execution_count": 48,
   "id": "cb6765d8",
   "metadata": {},
   "outputs": [
    {
     "name": "stdout",
     "output_type": "stream",
     "text": [
      "10\n"
     ]
    }
   ],
   "source": [
    "job_titles=[]\n",
    "for i in title_tags:\n",
    "    job_titles.append(i.text)\n",
    "job_titles=job_titles[:10]\n",
    "print(len(job_titles))"
   ]
  },
  {
   "cell_type": "markdown",
   "id": "dc190344",
   "metadata": {},
   "source": [
    "## Extracting the Job_location"
   ]
  },
  {
   "cell_type": "code",
   "execution_count": 49,
   "id": "a84ffa45",
   "metadata": {},
   "outputs": [
    {
     "data": {
      "text/plain": [
       "[<selenium.webdriver.remote.webelement.WebElement (session=\"6bc2ca1058b02bbe1b233db68b0ff977\", element=\"ef887512-1d7f-4769-b7ab-abe7654807bd\")>,\n",
       " <selenium.webdriver.remote.webelement.WebElement (session=\"6bc2ca1058b02bbe1b233db68b0ff977\", element=\"ebc3fd14-d6ca-419e-9b46-ef95a01979d1\")>,\n",
       " <selenium.webdriver.remote.webelement.WebElement (session=\"6bc2ca1058b02bbe1b233db68b0ff977\", element=\"73278565-5e82-4603-9b1d-71e62073c596\")>,\n",
       " <selenium.webdriver.remote.webelement.WebElement (session=\"6bc2ca1058b02bbe1b233db68b0ff977\", element=\"aec48144-7450-4c69-aa91-950fcfd72621\")>,\n",
       " <selenium.webdriver.remote.webelement.WebElement (session=\"6bc2ca1058b02bbe1b233db68b0ff977\", element=\"8b810e87-8eac-457c-a233-13e9b82514ec\")>,\n",
       " <selenium.webdriver.remote.webelement.WebElement (session=\"6bc2ca1058b02bbe1b233db68b0ff977\", element=\"c192e368-3e6a-432f-91c0-34a6dbefcc82\")>,\n",
       " <selenium.webdriver.remote.webelement.WebElement (session=\"6bc2ca1058b02bbe1b233db68b0ff977\", element=\"467027ad-0f86-4fdb-990a-ced40434034b\")>,\n",
       " <selenium.webdriver.remote.webelement.WebElement (session=\"6bc2ca1058b02bbe1b233db68b0ff977\", element=\"27ba4e9b-0280-46de-8c46-c82bfad0cdec\")>,\n",
       " <selenium.webdriver.remote.webelement.WebElement (session=\"6bc2ca1058b02bbe1b233db68b0ff977\", element=\"19ef75b4-4501-4cc8-b471-e014a84bf817\")>,\n",
       " <selenium.webdriver.remote.webelement.WebElement (session=\"6bc2ca1058b02bbe1b233db68b0ff977\", element=\"7eb7d052-c1ee-4814-a675-94a72066a86c\")>,\n",
       " <selenium.webdriver.remote.webelement.WebElement (session=\"6bc2ca1058b02bbe1b233db68b0ff977\", element=\"e2f6b606-94ba-484e-b68d-c565eeccd975\")>,\n",
       " <selenium.webdriver.remote.webelement.WebElement (session=\"6bc2ca1058b02bbe1b233db68b0ff977\", element=\"d99fbf2a-12a4-4f0a-a7db-638ccc093d41\")>,\n",
       " <selenium.webdriver.remote.webelement.WebElement (session=\"6bc2ca1058b02bbe1b233db68b0ff977\", element=\"af2cf06d-ac3d-467f-bc47-9081151c1bb9\")>,\n",
       " <selenium.webdriver.remote.webelement.WebElement (session=\"6bc2ca1058b02bbe1b233db68b0ff977\", element=\"c2652294-7afc-48fe-a9ee-68f56a81b5a0\")>,\n",
       " <selenium.webdriver.remote.webelement.WebElement (session=\"6bc2ca1058b02bbe1b233db68b0ff977\", element=\"a0bba261-2c91-438e-b421-e8d0070e6a16\")>,\n",
       " <selenium.webdriver.remote.webelement.WebElement (session=\"6bc2ca1058b02bbe1b233db68b0ff977\", element=\"f6488c0d-5b27-4a65-bd74-da5028ea06d1\")>,\n",
       " <selenium.webdriver.remote.webelement.WebElement (session=\"6bc2ca1058b02bbe1b233db68b0ff977\", element=\"c84e66c8-c8e3-4cce-beb4-c56a61fde8a9\")>,\n",
       " <selenium.webdriver.remote.webelement.WebElement (session=\"6bc2ca1058b02bbe1b233db68b0ff977\", element=\"99f05cac-5e8d-4049-863a-a91ed2efe5ca\")>,\n",
       " <selenium.webdriver.remote.webelement.WebElement (session=\"6bc2ca1058b02bbe1b233db68b0ff977\", element=\"907104f9-05dc-43ea-81b1-3954cadeb829\")>,\n",
       " <selenium.webdriver.remote.webelement.WebElement (session=\"6bc2ca1058b02bbe1b233db68b0ff977\", element=\"bf54f90e-6900-4fa3-a822-680c504ce06a\")>]"
      ]
     },
     "execution_count": 49,
     "metadata": {},
     "output_type": "execute_result"
    }
   ],
   "source": [
    "loc_tags=driver.find_elements_by_xpath('//li[@class=\"fleft grey-text br2 placeHolderLi location\"]')\n",
    "loc_tags"
   ]
  },
  {
   "cell_type": "code",
   "execution_count": 50,
   "id": "6fd74fd4",
   "metadata": {},
   "outputs": [
    {
     "name": "stdout",
     "output_type": "stream",
     "text": [
      "10\n"
     ]
    }
   ],
   "source": [
    "job_location=[]\n",
    "for i in loc_tags:\n",
    "    job_location.append(i.text)\n",
    "job_location=job_location[:10]\n",
    "print(len(job_location))"
   ]
  },
  {
   "cell_type": "markdown",
   "id": "aedb1adb",
   "metadata": {},
   "source": [
    "## Extracting the Required_Experience"
   ]
  },
  {
   "cell_type": "code",
   "execution_count": 51,
   "id": "2c9cda10",
   "metadata": {},
   "outputs": [
    {
     "data": {
      "text/plain": [
       "[<selenium.webdriver.remote.webelement.WebElement (session=\"6bc2ca1058b02bbe1b233db68b0ff977\", element=\"01f04dc8-c46d-4a32-9718-1ffb27f497c0\")>,\n",
       " <selenium.webdriver.remote.webelement.WebElement (session=\"6bc2ca1058b02bbe1b233db68b0ff977\", element=\"4e41137e-f117-454e-834b-b3a9fcfe3e3e\")>,\n",
       " <selenium.webdriver.remote.webelement.WebElement (session=\"6bc2ca1058b02bbe1b233db68b0ff977\", element=\"f83646a8-2b04-4750-8b95-7cf9a7ecda5b\")>,\n",
       " <selenium.webdriver.remote.webelement.WebElement (session=\"6bc2ca1058b02bbe1b233db68b0ff977\", element=\"5f479bd3-5ddd-4f28-89b5-3768f64339cc\")>,\n",
       " <selenium.webdriver.remote.webelement.WebElement (session=\"6bc2ca1058b02bbe1b233db68b0ff977\", element=\"9c8a6d53-2e3f-4adb-904b-ef502d15650e\")>,\n",
       " <selenium.webdriver.remote.webelement.WebElement (session=\"6bc2ca1058b02bbe1b233db68b0ff977\", element=\"7435cecc-a300-45e7-a0cd-e69547d2894e\")>,\n",
       " <selenium.webdriver.remote.webelement.WebElement (session=\"6bc2ca1058b02bbe1b233db68b0ff977\", element=\"70774840-6a0f-400b-8331-9daea89b5c0b\")>,\n",
       " <selenium.webdriver.remote.webelement.WebElement (session=\"6bc2ca1058b02bbe1b233db68b0ff977\", element=\"5719f6ed-8141-4e00-aa8a-96804ac4c6b6\")>,\n",
       " <selenium.webdriver.remote.webelement.WebElement (session=\"6bc2ca1058b02bbe1b233db68b0ff977\", element=\"f996721c-9ce5-4cca-ae03-2d898feb5b3c\")>,\n",
       " <selenium.webdriver.remote.webelement.WebElement (session=\"6bc2ca1058b02bbe1b233db68b0ff977\", element=\"be67c0bd-0a26-4f38-a0cb-52f9fc3aa591\")>,\n",
       " <selenium.webdriver.remote.webelement.WebElement (session=\"6bc2ca1058b02bbe1b233db68b0ff977\", element=\"80b7987c-4209-490f-bf13-b08cc150dbe2\")>,\n",
       " <selenium.webdriver.remote.webelement.WebElement (session=\"6bc2ca1058b02bbe1b233db68b0ff977\", element=\"2c58b196-2e83-4f55-a7ac-b68d0804b2bd\")>,\n",
       " <selenium.webdriver.remote.webelement.WebElement (session=\"6bc2ca1058b02bbe1b233db68b0ff977\", element=\"8dd5f2bb-faa4-4ea5-8bb9-d309288640a2\")>,\n",
       " <selenium.webdriver.remote.webelement.WebElement (session=\"6bc2ca1058b02bbe1b233db68b0ff977\", element=\"db2831a8-cbea-49f1-bd49-29035406326a\")>,\n",
       " <selenium.webdriver.remote.webelement.WebElement (session=\"6bc2ca1058b02bbe1b233db68b0ff977\", element=\"2ac8ddd2-85db-4614-8cd6-52df8a307a34\")>,\n",
       " <selenium.webdriver.remote.webelement.WebElement (session=\"6bc2ca1058b02bbe1b233db68b0ff977\", element=\"28022894-38bc-4e3e-a972-0836f6ab46f0\")>,\n",
       " <selenium.webdriver.remote.webelement.WebElement (session=\"6bc2ca1058b02bbe1b233db68b0ff977\", element=\"4af68562-726b-44a7-ac59-cefc9f38b18a\")>,\n",
       " <selenium.webdriver.remote.webelement.WebElement (session=\"6bc2ca1058b02bbe1b233db68b0ff977\", element=\"79f11382-16d2-4cba-b733-6cb0da920b4d\")>,\n",
       " <selenium.webdriver.remote.webelement.WebElement (session=\"6bc2ca1058b02bbe1b233db68b0ff977\", element=\"1c540265-4f97-4f2d-89c7-5a70833a4a4c\")>,\n",
       " <selenium.webdriver.remote.webelement.WebElement (session=\"6bc2ca1058b02bbe1b233db68b0ff977\", element=\"a78376dd-8212-4898-b44b-7b6abbf3b27b\")>]"
      ]
     },
     "execution_count": 51,
     "metadata": {},
     "output_type": "execute_result"
    }
   ],
   "source": [
    "exp_tags=driver.find_elements_by_xpath('//*[contains(@title,\"Yrs \")]')\n",
    "exp_tags"
   ]
  },
  {
   "cell_type": "code",
   "execution_count": 52,
   "id": "775a3520",
   "metadata": {},
   "outputs": [
    {
     "data": {
      "text/plain": [
       "['2-6 Yrs',\n",
       " '1-5 Yrs',\n",
       " '3-7 Yrs',\n",
       " '3-7 Yrs',\n",
       " '3-8 Yrs',\n",
       " '3-7 Yrs',\n",
       " '1-4 Yrs',\n",
       " '5-8 Yrs',\n",
       " '2-6 Yrs',\n",
       " '0-4 Yrs']"
      ]
     },
     "execution_count": 52,
     "metadata": {},
     "output_type": "execute_result"
    }
   ],
   "source": [
    "experience=[]\n",
    "for i in exp_tags:\n",
    "    experience.append(i.text)\n",
    "experience=experience[:10]\n",
    "experience"
   ]
  },
  {
   "cell_type": "markdown",
   "id": "1649b748",
   "metadata": {},
   "source": [
    "## Extracting Company_name"
   ]
  },
  {
   "cell_type": "code",
   "execution_count": 53,
   "id": "63a3e0a4",
   "metadata": {},
   "outputs": [
    {
     "name": "stdout",
     "output_type": "stream",
     "text": [
      "10\n"
     ]
    }
   ],
   "source": [
    "names=driver.find_elements_by_xpath('//a[@class=\"subTitle ellipsis fleft\"]')\n",
    "company_names=[]\n",
    "for i in names:\n",
    "    company_names.append(i.text)\n",
    "company_names=company_names[:10]\n",
    "print(len(company_names))"
   ]
  },
  {
   "cell_type": "markdown",
   "id": "157be8c8",
   "metadata": {},
   "source": [
    "## Creating the DataFrame"
   ]
  },
  {
   "cell_type": "code",
   "execution_count": 54,
   "id": "3f238b5a",
   "metadata": {},
   "outputs": [],
   "source": [
    "df3=pd.DataFrame()\n",
    "df3['Job_titles']=job_titles\n",
    "df3['Job_location']=job_location\n",
    "df3['Require_experience']=experience\n",
    "df3['Company_name']=company_names"
   ]
  },
  {
   "cell_type": "code",
   "execution_count": 55,
   "id": "00ea1bed",
   "metadata": {},
   "outputs": [
    {
     "data": {
      "text/html": [
       "<div>\n",
       "<style scoped>\n",
       "    .dataframe tbody tr th:only-of-type {\n",
       "        vertical-align: middle;\n",
       "    }\n",
       "\n",
       "    .dataframe tbody tr th {\n",
       "        vertical-align: top;\n",
       "    }\n",
       "\n",
       "    .dataframe thead th {\n",
       "        text-align: right;\n",
       "    }\n",
       "</style>\n",
       "<table border=\"1\" class=\"dataframe\">\n",
       "  <thead>\n",
       "    <tr style=\"text-align: right;\">\n",
       "      <th></th>\n",
       "      <th>Job_titles</th>\n",
       "      <th>Job_location</th>\n",
       "      <th>Require_experience</th>\n",
       "      <th>Company_name</th>\n",
       "    </tr>\n",
       "  </thead>\n",
       "  <tbody>\n",
       "    <tr>\n",
       "      <th>0</th>\n",
       "      <td>Data Scientist II</td>\n",
       "      <td>Delhi / NCR</td>\n",
       "      <td>2-6 Yrs</td>\n",
       "      <td>Chegg</td>\n",
       "    </tr>\n",
       "    <tr>\n",
       "      <th>1</th>\n",
       "      <td>Opening For Data Scientist</td>\n",
       "      <td>Gurgaon/Gurugram</td>\n",
       "      <td>1-5 Yrs</td>\n",
       "      <td>Care Health Insurance</td>\n",
       "    </tr>\n",
       "    <tr>\n",
       "      <th>2</th>\n",
       "      <td>Data &amp; Applied Scientist</td>\n",
       "      <td>Noida, Hyderabad/Secunderabad, Bangalore/Benga...</td>\n",
       "      <td>3-7 Yrs</td>\n",
       "      <td>Microsoft</td>\n",
       "    </tr>\n",
       "    <tr>\n",
       "      <th>3</th>\n",
       "      <td>Data and applied Scientist</td>\n",
       "      <td>Noida, Hyderabad/Secunderabad, Bangalore/Benga...</td>\n",
       "      <td>3-7 Yrs</td>\n",
       "      <td>Microsoft</td>\n",
       "    </tr>\n",
       "    <tr>\n",
       "      <th>4</th>\n",
       "      <td>Data Scientist</td>\n",
       "      <td>Noida</td>\n",
       "      <td>3-8 Yrs</td>\n",
       "      <td>Stefanini</td>\n",
       "    </tr>\n",
       "    <tr>\n",
       "      <th>5</th>\n",
       "      <td>Data Scientist (ML AI Engineer) / InfoObjects ...</td>\n",
       "      <td>Indore, Jaipur, Delhi / NCR\\n(WFH during Covid)</td>\n",
       "      <td>3-7 Yrs</td>\n",
       "      <td>INFOOBJECTS SOFTWARE ( INDIA) PRIVATE LIMITED</td>\n",
       "    </tr>\n",
       "    <tr>\n",
       "      <th>6</th>\n",
       "      <td>Associate Data Scientist - Java/ Scala/ Apache...</td>\n",
       "      <td>Noida</td>\n",
       "      <td>1-4 Yrs</td>\n",
       "      <td>Smart work Consultants</td>\n",
       "    </tr>\n",
       "    <tr>\n",
       "      <th>7</th>\n",
       "      <td>Data Scientist</td>\n",
       "      <td>Gurgaon/Gurugram\\n(WFH during Covid)</td>\n",
       "      <td>5-8 Yrs</td>\n",
       "      <td>Zekardo Automotive Solutions</td>\n",
       "    </tr>\n",
       "    <tr>\n",
       "      <th>8</th>\n",
       "      <td>Data Scientist</td>\n",
       "      <td>New Delhi</td>\n",
       "      <td>2-6 Yrs</td>\n",
       "      <td>Team Computers Pvt Ltd</td>\n",
       "    </tr>\n",
       "    <tr>\n",
       "      <th>9</th>\n",
       "      <td>Data Scientist / Senior DS/ Team Lead</td>\n",
       "      <td>Mumbai, Gurgaon/Gurugram(Cyber City +1)</td>\n",
       "      <td>0-4 Yrs</td>\n",
       "      <td>NebulARC Technologies Private Limited</td>\n",
       "    </tr>\n",
       "  </tbody>\n",
       "</table>\n",
       "</div>"
      ],
      "text/plain": [
       "                                          Job_titles  \\\n",
       "0                                  Data Scientist II   \n",
       "1                         Opening For Data Scientist   \n",
       "2                           Data & Applied Scientist   \n",
       "3                         Data and applied Scientist   \n",
       "4                                     Data Scientist   \n",
       "5  Data Scientist (ML AI Engineer) / InfoObjects ...   \n",
       "6  Associate Data Scientist - Java/ Scala/ Apache...   \n",
       "7                                     Data Scientist   \n",
       "8                                     Data Scientist   \n",
       "9              Data Scientist / Senior DS/ Team Lead   \n",
       "\n",
       "                                        Job_location Require_experience  \\\n",
       "0                                        Delhi / NCR            2-6 Yrs   \n",
       "1                                   Gurgaon/Gurugram            1-5 Yrs   \n",
       "2  Noida, Hyderabad/Secunderabad, Bangalore/Benga...            3-7 Yrs   \n",
       "3  Noida, Hyderabad/Secunderabad, Bangalore/Benga...            3-7 Yrs   \n",
       "4                                              Noida            3-8 Yrs   \n",
       "5    Indore, Jaipur, Delhi / NCR\\n(WFH during Covid)            3-7 Yrs   \n",
       "6                                              Noida            1-4 Yrs   \n",
       "7               Gurgaon/Gurugram\\n(WFH during Covid)            5-8 Yrs   \n",
       "8                                          New Delhi            2-6 Yrs   \n",
       "9            Mumbai, Gurgaon/Gurugram(Cyber City +1)            0-4 Yrs   \n",
       "\n",
       "                                    Company_name  \n",
       "0                                          Chegg  \n",
       "1                          Care Health Insurance  \n",
       "2                                      Microsoft  \n",
       "3                                      Microsoft  \n",
       "4                                      Stefanini  \n",
       "5  INFOOBJECTS SOFTWARE ( INDIA) PRIVATE LIMITED  \n",
       "6                         Smart work Consultants  \n",
       "7                   Zekardo Automotive Solutions  \n",
       "8                         Team Computers Pvt Ltd  \n",
       "9          NebulARC Technologies Private Limited  "
      ]
     },
     "execution_count": 55,
     "metadata": {},
     "output_type": "execute_result"
    }
   ],
   "source": [
    "df3"
   ]
  },
  {
   "cell_type": "code",
   "execution_count": null,
   "id": "281de46a",
   "metadata": {},
   "outputs": [],
   "source": []
  },
  {
   "cell_type": "markdown",
   "id": "b70e8501",
   "metadata": {},
   "source": [
    "# Problem Statement:\n",
    "##### Q4: Scrape data of first 100 sunglasses listings on flipkart.com. You have to scrape four attributes:\n",
    "1. Brand\n",
    "2. Product Description\n",
    "3. Price\n",
    "\n",
    "To scrape the data you have to go through following steps:\n",
    "1. Go to Flipkart webpage by url : https://www.flipkart.com/\n",
    "2. Enter “sunglasses” in the search field where “search for products, brands andmore” is written and click the search icon\n",
    "3. After that you will reach to the page having a lot of sunglasses. From this pageyou can scrap the required data as usual.\n",
    "4. After scraping data from the first page, go to the “Next” Button at the bottom ofthe page , then click on it.\n",
    "5. Now scrape data from this page as usual\n",
    "6. Repeat this until you get data for 100 sunglasses."
   ]
  },
  {
   "cell_type": "code",
   "execution_count": 56,
   "id": "0a4405fd",
   "metadata": {},
   "outputs": [],
   "source": [
    "# Importing the necessary library\n",
    "import selenium\n",
    "from selenium import webdriver\n",
    "import pandas as pd\n",
    "import numpy as np\n",
    "import warnings\n",
    "warnings.filterwarnings('ignore')"
   ]
  },
  {
   "cell_type": "code",
   "execution_count": 57,
   "id": "99d76ffa",
   "metadata": {},
   "outputs": [],
   "source": [
    "driver.get('https://www.flipkart.com/')"
   ]
  },
  {
   "cell_type": "code",
   "execution_count": 58,
   "id": "e459cc1c",
   "metadata": {},
   "outputs": [
    {
     "data": {
      "text/plain": [
       "<selenium.webdriver.remote.webelement.WebElement (session=\"6bc2ca1058b02bbe1b233db68b0ff977\", element=\"3d1f9c9f-70db-4f86-b7b7-e1b96edc834b\")>"
      ]
     },
     "execution_count": 58,
     "metadata": {},
     "output_type": "execute_result"
    }
   ],
   "source": [
    "search=driver.find_element_by_xpath('/html/body/div[1]/div/div[1]/div[1]/div[2]/div[2]/form/div/div/input')\n",
    "search"
   ]
  },
  {
   "cell_type": "code",
   "execution_count": 59,
   "id": "90372e33",
   "metadata": {},
   "outputs": [],
   "source": [
    "search.send_keys('sunglasses')"
   ]
  },
  {
   "cell_type": "code",
   "execution_count": 60,
   "id": "f71538db",
   "metadata": {},
   "outputs": [],
   "source": [
    "search_button=driver.find_element_by_xpath('/html/body/div[1]/div/div[1]/div[1]/div[2]/div[2]/form/div/button')\n"
   ]
  },
  {
   "cell_type": "code",
   "execution_count": 61,
   "id": "05a2cb9f",
   "metadata": {},
   "outputs": [],
   "source": [
    "search_button.click()"
   ]
  },
  {
   "cell_type": "markdown",
   "id": "8ea2f3eb",
   "metadata": {},
   "source": [
    "## Extracting the Brand_name For page_1"
   ]
  },
  {
   "cell_type": "code",
   "execution_count": 63,
   "id": "f1c4991d",
   "metadata": {},
   "outputs": [
    {
     "data": {
      "text/plain": [
       "40"
      ]
     },
     "execution_count": 63,
     "metadata": {},
     "output_type": "execute_result"
    }
   ],
   "source": [
    "brand_tags=driver.find_elements_by_xpath('//div[@class=\"_2WkVRV\"]')\n",
    "len(brand_tags)"
   ]
  },
  {
   "cell_type": "code",
   "execution_count": 64,
   "id": "50af44e6",
   "metadata": {},
   "outputs": [
    {
     "data": {
      "text/plain": [
       "['VINCENT CHASE',\n",
       " 'VINCENT CHASE',\n",
       " 'Elligator',\n",
       " 'Fastrack',\n",
       " 'SHAAH COLLECTIONS',\n",
       " 'SUNBEE',\n",
       " 'New Specs',\n",
       " 'elegante',\n",
       " 'kingsunglasses',\n",
       " 'SRPM',\n",
       " 'Fastrack',\n",
       " 'Singco India',\n",
       " 'PHENOMENAL',\n",
       " 'PIRASO',\n",
       " 'PHENOMENAL',\n",
       " 'ROZZETTA CRAFT',\n",
       " 'Fastrack',\n",
       " 'PIRASO',\n",
       " 'Elligator',\n",
       " 'VINCENT CHASE',\n",
       " 'Elligator',\n",
       " 'kingsunglasses',\n",
       " 'PHENOMENAL',\n",
       " 'ROZZETTA CRAFT',\n",
       " 'DEIXELS',\n",
       " 'Fastrack',\n",
       " 'SHAAH COLLECTIONS',\n",
       " 'AISLIN',\n",
       " 'PIRASO',\n",
       " 'PHENOMENAL',\n",
       " 'New Specs',\n",
       " 'Singco India',\n",
       " 'GANSTA',\n",
       " 'SUNBEE',\n",
       " 'ROZZETTA CRAFT',\n",
       " 'ROZZETTA CRAFT',\n",
       " 'Johaena',\n",
       " 'ROZZETTA CRAFT',\n",
       " 'PIRASO',\n",
       " 'VINCENT CHASE']"
      ]
     },
     "execution_count": 64,
     "metadata": {},
     "output_type": "execute_result"
    }
   ],
   "source": [
    "Brand_name=[]\n",
    "for i in brand_tags:\n",
    "    Brand_name.append(i.text)\n",
    "Brand_name"
   ]
  },
  {
   "cell_type": "markdown",
   "id": "9ad64e20",
   "metadata": {},
   "source": [
    "## Extracting the Product_description for page_1"
   ]
  },
  {
   "cell_type": "code",
   "execution_count": 65,
   "id": "3a11f1bf",
   "metadata": {},
   "outputs": [
    {
     "name": "stdout",
     "output_type": "stream",
     "text": [
      "40\n"
     ]
    }
   ],
   "source": [
    "prod_des=driver.find_elements_by_xpath('//a[@class=\"IRpwTa\"]')\n",
    "print(len(prod_des))"
   ]
  },
  {
   "cell_type": "code",
   "execution_count": 66,
   "id": "4ac1aea7",
   "metadata": {},
   "outputs": [
    {
     "data": {
      "text/plain": [
       "['by Lenskart Polarized, UV Protection Wayfarer Sunglasse...',\n",
       " 'by Lenskart Polarized, UV Protection Wayfarer Sunglasse...',\n",
       " 'UV Protection Round Sunglasses (54)',\n",
       " 'UV Protection Rectangular Sunglasses (Free Size)',\n",
       " 'UV Protection, Polarized, Mirrored Rectangular Sunglass...',\n",
       " 'UV Protection, Polarized, Mirrored Round Sunglasses (Fr...',\n",
       " 'UV Protection Rectangular Sunglasses (Free Size)',\n",
       " 'UV Protection Oval Sunglasses (Free Size)',\n",
       " 'UV Protection Round Sunglasses (54)',\n",
       " 'UV Protection Wayfarer Sunglasses (50)',\n",
       " 'Gradient, UV Protection Wayfarer Sunglasses (Free Size)',\n",
       " 'UV Protection, Riding Glasses, Others Aviator, Wayfarer...',\n",
       " 'UV Protection Retro Square Sunglasses (53)',\n",
       " 'UV Protection Aviator Sunglasses (54)',\n",
       " 'UV Protection, Mirrored Retro Square Sunglasses (53)',\n",
       " 'UV Protection, Gradient Retro Square Sunglasses (62)',\n",
       " 'UV Protection Wayfarer Sunglasses (Free Size)',\n",
       " 'UV Protection Aviator Sunglasses (54)',\n",
       " 'UV Protection Round Sunglasses (54)',\n",
       " 'by Lenskart Polarized, UV Protection Round Sunglasses (...',\n",
       " 'UV Protection Round Sunglasses (53)',\n",
       " 'UV Protection Rectangular Sunglasses (Free Size)',\n",
       " 'UV Protection Retro Square Sunglasses (Free Size)',\n",
       " 'UV Protection, Riding Glasses Rectangular Sunglasses (F...',\n",
       " 'UV Protection Aviator, Wayfarer Sunglasses (Free Size)',\n",
       " 'UV Protection Wayfarer Sunglasses (55)',\n",
       " 'UV Protection, Polarized, Mirrored Rectangular Sunglass...',\n",
       " 'UV Protection, Gradient Cat-eye Sunglasses (58)',\n",
       " 'UV Protection Aviator Sunglasses (54)',\n",
       " 'UV Protection, Mirrored Retro Square Sunglasses (53)',\n",
       " 'UV Protection Round Sunglasses (Free Size)',\n",
       " 'UV Protection, Riding Glasses, Others Wayfarer, Retro S...',\n",
       " 'UV Protection Aviator Sunglasses (57)',\n",
       " 'UV Protection, Polarized, Mirrored Retro Square Sunglas...',\n",
       " 'Polarized, Night Vision, Riding Glasses Sports, Wrap-ar...',\n",
       " 'Polarized, Night Vision, Riding Glasses Sports, Wrap-ar...',\n",
       " 'Riding Glasses, UV Protection Oval Sunglasses (48)',\n",
       " 'UV Protection, Gradient Rectangular Sunglasses (Free Si...',\n",
       " 'UV Protection Wayfarer Sunglasses (32)',\n",
       " 'by Lenskart Polarized, UV Protection Wayfarer Sunglasse...']"
      ]
     },
     "execution_count": 66,
     "metadata": {},
     "output_type": "execute_result"
    }
   ],
   "source": [
    "description=[]\n",
    "for i in prod_des:\n",
    "    description.append(i.text)\n",
    "description"
   ]
  },
  {
   "cell_type": "markdown",
   "id": "5e193576",
   "metadata": {},
   "source": [
    "## Extracting prince for page_1"
   ]
  },
  {
   "cell_type": "code",
   "execution_count": 67,
   "id": "ba8d25ff",
   "metadata": {},
   "outputs": [
    {
     "name": "stdout",
     "output_type": "stream",
     "text": [
      "40\n"
     ]
    }
   ],
   "source": [
    "price=driver.find_elements_by_xpath('//div[@class=\"_30jeq3\"]')\n",
    "print(len(price))"
   ]
  },
  {
   "cell_type": "code",
   "execution_count": 68,
   "id": "da1613db",
   "metadata": {},
   "outputs": [
    {
     "data": {
      "text/plain": [
       "['1,533',\n",
       " '1,533',\n",
       " '248',\n",
       " '639',\n",
       " '165',\n",
       " '271',\n",
       " '239',\n",
       " '389',\n",
       " '178',\n",
       " '188',\n",
       " '549',\n",
       " '203',\n",
       " '265',\n",
       " '229',\n",
       " '299',\n",
       " '499',\n",
       " '579',\n",
       " '225',\n",
       " '265',\n",
       " '1,415',\n",
       " '189',\n",
       " '172',\n",
       " '309',\n",
       " '426',\n",
       " '202',\n",
       " '521',\n",
       " '181',\n",
       " '459',\n",
       " '225',\n",
       " '299',\n",
       " '232',\n",
       " '299',\n",
       " '269',\n",
       " '235',\n",
       " '474',\n",
       " '474',\n",
       " '146',\n",
       " '383',\n",
       " '225',\n",
       " '1,415']"
      ]
     },
     "execution_count": 68,
     "metadata": {},
     "output_type": "execute_result"
    }
   ],
   "source": [
    "Price=[]\n",
    "for i in price:\n",
    "    Price.append(i.text.replace('₹',''))\n",
    "Price  "
   ]
  },
  {
   "cell_type": "markdown",
   "id": "dcb5975e",
   "metadata": {},
   "source": [
    "## Clicking on next page"
   ]
  },
  {
   "cell_type": "code",
   "execution_count": 70,
   "id": "7f6a35d6",
   "metadata": {},
   "outputs": [],
   "source": [
    "next_page=driver.find_element_by_xpath('/html/body/div[1]/div/div[3]/div[1]/div[2]/div[12]/div/div/nav/a[11]/span')"
   ]
  },
  {
   "cell_type": "code",
   "execution_count": 71,
   "id": "423d36ee",
   "metadata": {},
   "outputs": [],
   "source": [
    "next_page.click()"
   ]
  },
  {
   "cell_type": "markdown",
   "id": "6de1b5d8",
   "metadata": {},
   "source": [
    "## Extracting Brand name for page_2"
   ]
  },
  {
   "cell_type": "code",
   "execution_count": 72,
   "id": "6d05a728",
   "metadata": {},
   "outputs": [
    {
     "name": "stdout",
     "output_type": "stream",
     "text": [
      "40\n"
     ]
    }
   ],
   "source": [
    "brand=driver.find_elements_by_xpath('//div[@class=\"_2WkVRV\"]')\n",
    "print(len(brand))\n"
   ]
  },
  {
   "cell_type": "code",
   "execution_count": 73,
   "id": "3a30ec12",
   "metadata": {},
   "outputs": [
    {
     "data": {
      "text/plain": [
       "80"
      ]
     },
     "execution_count": 73,
     "metadata": {},
     "output_type": "execute_result"
    }
   ],
   "source": [
    "for i in brand:\n",
    "    Brand_name.append(i.text)\n",
    "len(Brand_name)"
   ]
  },
  {
   "cell_type": "markdown",
   "id": "c55d98d6",
   "metadata": {},
   "source": [
    "## Extracting Product_description for page_2"
   ]
  },
  {
   "cell_type": "code",
   "execution_count": 74,
   "id": "65b7f251",
   "metadata": {},
   "outputs": [
    {
     "data": {
      "text/plain": [
       "40"
      ]
     },
     "execution_count": 74,
     "metadata": {},
     "output_type": "execute_result"
    }
   ],
   "source": [
    "description_tags=driver.find_elements_by_class_name(\"IRpwTa\")\n",
    "len(description_tags)"
   ]
  },
  {
   "cell_type": "code",
   "execution_count": 75,
   "id": "b1c7881c",
   "metadata": {},
   "outputs": [
    {
     "data": {
      "text/plain": [
       "80"
      ]
     },
     "execution_count": 75,
     "metadata": {},
     "output_type": "execute_result"
    }
   ],
   "source": [
    "for i in description_tags:\n",
    "    description.append(i.text)\n",
    "len(description)"
   ]
  },
  {
   "cell_type": "markdown",
   "id": "b2202524",
   "metadata": {},
   "source": [
    "## Extracting Product_price for page_2"
   ]
  },
  {
   "cell_type": "code",
   "execution_count": 76,
   "id": "327a5760",
   "metadata": {},
   "outputs": [
    {
     "data": {
      "text/plain": [
       "40"
      ]
     },
     "execution_count": 76,
     "metadata": {},
     "output_type": "execute_result"
    }
   ],
   "source": [
    "price_tags=driver.find_elements_by_xpath('//div[@class=\"_30jeq3\"]')\n",
    "len(price_tags)"
   ]
  },
  {
   "cell_type": "code",
   "execution_count": 77,
   "id": "5c574d9e",
   "metadata": {},
   "outputs": [
    {
     "data": {
      "text/plain": [
       "80"
      ]
     },
     "execution_count": 77,
     "metadata": {},
     "output_type": "execute_result"
    }
   ],
   "source": [
    "for i in price_tags:\n",
    "    Price.append(i.text)\n",
    "    \n",
    "len(Price)"
   ]
  },
  {
   "cell_type": "markdown",
   "id": "0a5d1493",
   "metadata": {},
   "source": [
    "## Clicking on NEXT BUTTON"
   ]
  },
  {
   "cell_type": "code",
   "execution_count": 78,
   "id": "bc66d72d",
   "metadata": {},
   "outputs": [],
   "source": [
    "next_button=driver.find_element_by_xpath('/html/body/div/div/div[3]/div[1]/div[2]/div[12]/div/div/nav/a[12]/span')\n"
   ]
  },
  {
   "cell_type": "code",
   "execution_count": 79,
   "id": "eadcadba",
   "metadata": {},
   "outputs": [],
   "source": [
    "next_button.click()"
   ]
  },
  {
   "cell_type": "markdown",
   "id": "76b71c1c",
   "metadata": {},
   "source": [
    "## Extracting the Brand_Name for page_3"
   ]
  },
  {
   "cell_type": "code",
   "execution_count": 80,
   "id": "369d7901",
   "metadata": {},
   "outputs": [
    {
     "name": "stdout",
     "output_type": "stream",
     "text": [
      "40\n",
      "100\n"
     ]
    }
   ],
   "source": [
    "name_tags=driver.find_elements_by_xpath('//div[@class=\"_2WkVRV\"]')\n",
    "print(len(name_tags))\n",
    "for i in name_tags:\n",
    "    Brand_name.append(i.text)\n",
    "Brand_name=Brand_name[:100]\n",
    "print(len(Brand_name))"
   ]
  },
  {
   "cell_type": "markdown",
   "id": "de04fa0f",
   "metadata": {},
   "source": [
    "## Extracting the Product_description for Page_3"
   ]
  },
  {
   "cell_type": "code",
   "execution_count": 81,
   "id": "4f961f7a",
   "metadata": {},
   "outputs": [
    {
     "name": "stdout",
     "output_type": "stream",
     "text": [
      "[<selenium.webdriver.remote.webelement.WebElement (session=\"6bc2ca1058b02bbe1b233db68b0ff977\", element=\"712ebbde-1df8-4991-8668-37b160e373fe\")>, <selenium.webdriver.remote.webelement.WebElement (session=\"6bc2ca1058b02bbe1b233db68b0ff977\", element=\"49a12536-9428-48fd-a77a-7c9c3cb352db\")>, <selenium.webdriver.remote.webelement.WebElement (session=\"6bc2ca1058b02bbe1b233db68b0ff977\", element=\"1c77683b-94c8-4f82-99a0-ae97f1fd1c89\")>, <selenium.webdriver.remote.webelement.WebElement (session=\"6bc2ca1058b02bbe1b233db68b0ff977\", element=\"cb14a93c-dd4b-44c6-be4c-787072304f42\")>, <selenium.webdriver.remote.webelement.WebElement (session=\"6bc2ca1058b02bbe1b233db68b0ff977\", element=\"bb8c0d97-8b89-44f1-a407-b524b3294fe8\")>, <selenium.webdriver.remote.webelement.WebElement (session=\"6bc2ca1058b02bbe1b233db68b0ff977\", element=\"63bb6a7f-80cb-4da2-af44-161dbe0ea6b0\")>, <selenium.webdriver.remote.webelement.WebElement (session=\"6bc2ca1058b02bbe1b233db68b0ff977\", element=\"df26044c-9a08-435b-bc11-01e279ee1ec9\")>, <selenium.webdriver.remote.webelement.WebElement (session=\"6bc2ca1058b02bbe1b233db68b0ff977\", element=\"1ac8e35f-2f5e-4d6a-bd85-064ea66218de\")>, <selenium.webdriver.remote.webelement.WebElement (session=\"6bc2ca1058b02bbe1b233db68b0ff977\", element=\"7497c1d6-f635-4976-90e4-dd610eceb10e\")>, <selenium.webdriver.remote.webelement.WebElement (session=\"6bc2ca1058b02bbe1b233db68b0ff977\", element=\"7cf0bab0-1899-475a-88bc-a5fdc764459b\")>, <selenium.webdriver.remote.webelement.WebElement (session=\"6bc2ca1058b02bbe1b233db68b0ff977\", element=\"1609e8c3-d9d8-47a1-adf5-0c32f7fcc359\")>, <selenium.webdriver.remote.webelement.WebElement (session=\"6bc2ca1058b02bbe1b233db68b0ff977\", element=\"6effc697-9de0-4965-ad68-43165e1a0e17\")>, <selenium.webdriver.remote.webelement.WebElement (session=\"6bc2ca1058b02bbe1b233db68b0ff977\", element=\"78175bfd-b85f-4345-82e4-5e145d3c65da\")>, <selenium.webdriver.remote.webelement.WebElement (session=\"6bc2ca1058b02bbe1b233db68b0ff977\", element=\"a46f3d91-82b8-438f-b3df-e3df2c3ead46\")>, <selenium.webdriver.remote.webelement.WebElement (session=\"6bc2ca1058b02bbe1b233db68b0ff977\", element=\"fe784634-2f8a-4ca5-869c-b15e024c9e86\")>, <selenium.webdriver.remote.webelement.WebElement (session=\"6bc2ca1058b02bbe1b233db68b0ff977\", element=\"e0f43110-e23a-4591-8a3a-eb4125eaba46\")>, <selenium.webdriver.remote.webelement.WebElement (session=\"6bc2ca1058b02bbe1b233db68b0ff977\", element=\"a0053a97-34c9-4ab2-baad-af092eff8e64\")>, <selenium.webdriver.remote.webelement.WebElement (session=\"6bc2ca1058b02bbe1b233db68b0ff977\", element=\"c37062ae-ece6-4be0-a15d-4dcb829f38ed\")>, <selenium.webdriver.remote.webelement.WebElement (session=\"6bc2ca1058b02bbe1b233db68b0ff977\", element=\"2b4c8621-24ab-4973-8ca3-a1ea75b73c90\")>, <selenium.webdriver.remote.webelement.WebElement (session=\"6bc2ca1058b02bbe1b233db68b0ff977\", element=\"5443a7a1-a8cc-45ff-8573-5f799eba0715\")>, <selenium.webdriver.remote.webelement.WebElement (session=\"6bc2ca1058b02bbe1b233db68b0ff977\", element=\"fbc56ce3-3409-4242-a498-7f2b0c287eaf\")>, <selenium.webdriver.remote.webelement.WebElement (session=\"6bc2ca1058b02bbe1b233db68b0ff977\", element=\"a06729f9-f61c-442b-9bbc-5ee3af34ecb6\")>, <selenium.webdriver.remote.webelement.WebElement (session=\"6bc2ca1058b02bbe1b233db68b0ff977\", element=\"7ff19635-1aeb-4e09-86be-dd18bcb2995b\")>, <selenium.webdriver.remote.webelement.WebElement (session=\"6bc2ca1058b02bbe1b233db68b0ff977\", element=\"9d5a7ed1-b959-4079-8dc9-7bc4a9c5388b\")>, <selenium.webdriver.remote.webelement.WebElement (session=\"6bc2ca1058b02bbe1b233db68b0ff977\", element=\"19affed8-e8a9-412d-b42c-d6d420b32c83\")>, <selenium.webdriver.remote.webelement.WebElement (session=\"6bc2ca1058b02bbe1b233db68b0ff977\", element=\"06c3673a-e2fa-4108-8793-527a260670d5\")>, <selenium.webdriver.remote.webelement.WebElement (session=\"6bc2ca1058b02bbe1b233db68b0ff977\", element=\"7ef91d4c-6dff-4db4-b8b0-fe02e8a51f8b\")>, <selenium.webdriver.remote.webelement.WebElement (session=\"6bc2ca1058b02bbe1b233db68b0ff977\", element=\"954bfad6-6f00-4f19-9fdf-9f83dc13901d\")>, <selenium.webdriver.remote.webelement.WebElement (session=\"6bc2ca1058b02bbe1b233db68b0ff977\", element=\"0bef081f-0ec7-47ee-a879-12085624c601\")>, <selenium.webdriver.remote.webelement.WebElement (session=\"6bc2ca1058b02bbe1b233db68b0ff977\", element=\"0d94c29b-c20c-4e94-a56c-4dc4b250e8aa\")>, <selenium.webdriver.remote.webelement.WebElement (session=\"6bc2ca1058b02bbe1b233db68b0ff977\", element=\"df0e1d32-dbb3-4a43-af28-cc2d9c805095\")>, <selenium.webdriver.remote.webelement.WebElement (session=\"6bc2ca1058b02bbe1b233db68b0ff977\", element=\"cf2f52d8-89c1-4d16-8ae0-bcfc0f6b82d5\")>, <selenium.webdriver.remote.webelement.WebElement (session=\"6bc2ca1058b02bbe1b233db68b0ff977\", element=\"ecab5f08-07aa-47e6-a548-90b0499b95b4\")>, <selenium.webdriver.remote.webelement.WebElement (session=\"6bc2ca1058b02bbe1b233db68b0ff977\", element=\"b3179881-5ad5-418a-b146-187960b8da66\")>, <selenium.webdriver.remote.webelement.WebElement (session=\"6bc2ca1058b02bbe1b233db68b0ff977\", element=\"bb8c3a51-cff3-46e4-aa60-9814a796287a\")>, <selenium.webdriver.remote.webelement.WebElement (session=\"6bc2ca1058b02bbe1b233db68b0ff977\", element=\"969bbb4a-30cb-43f8-89f0-ba69001ebb9e\")>, <selenium.webdriver.remote.webelement.WebElement (session=\"6bc2ca1058b02bbe1b233db68b0ff977\", element=\"3e9fb92e-67c2-4341-b565-5f93d3c50c80\")>, <selenium.webdriver.remote.webelement.WebElement (session=\"6bc2ca1058b02bbe1b233db68b0ff977\", element=\"2e6a4e72-1c7b-45bf-8924-2fd3c1277f7b\")>, <selenium.webdriver.remote.webelement.WebElement (session=\"6bc2ca1058b02bbe1b233db68b0ff977\", element=\"599622d7-425b-4b1c-94c1-63851ab199b0\")>, <selenium.webdriver.remote.webelement.WebElement (session=\"6bc2ca1058b02bbe1b233db68b0ff977\", element=\"2a712cdf-62ef-4342-a480-a984fd2801ef\")>]\n",
      "100\n"
     ]
    }
   ],
   "source": [
    "desc_tags=driver.find_elements_by_xpath('//a[@class=\"IRpwTa\"]')\n",
    "print(desc_tags)\n",
    "for i in desc_tags:\n",
    "    description.append(i.text)\n",
    "description=description[:100]\n",
    "print(len(description))"
   ]
  },
  {
   "cell_type": "markdown",
   "id": "613f1801",
   "metadata": {},
   "source": [
    "## Extracting the product_price for page_3"
   ]
  },
  {
   "cell_type": "code",
   "execution_count": 82,
   "id": "52a19116",
   "metadata": {},
   "outputs": [
    {
     "name": "stdout",
     "output_type": "stream",
     "text": [
      "40\n",
      "100\n"
     ]
    }
   ],
   "source": [
    "price3=driver.find_elements_by_xpath('//div[@class=\"_30jeq3\"]')\n",
    "print(len(price3))\n",
    "for  i in price3:\n",
    "    Price.append(i.text)\n",
    "Price=Price[:100]\n",
    "print(len(Price))"
   ]
  },
  {
   "cell_type": "markdown",
   "id": "2d3cde6e",
   "metadata": {},
   "source": [
    "## Creating a DataFrame"
   ]
  },
  {
   "cell_type": "code",
   "execution_count": 83,
   "id": "48eaea53",
   "metadata": {},
   "outputs": [
    {
     "data": {
      "text/html": [
       "<div>\n",
       "<style scoped>\n",
       "    .dataframe tbody tr th:only-of-type {\n",
       "        vertical-align: middle;\n",
       "    }\n",
       "\n",
       "    .dataframe tbody tr th {\n",
       "        vertical-align: top;\n",
       "    }\n",
       "\n",
       "    .dataframe thead th {\n",
       "        text-align: right;\n",
       "    }\n",
       "</style>\n",
       "<table border=\"1\" class=\"dataframe\">\n",
       "  <thead>\n",
       "    <tr style=\"text-align: right;\">\n",
       "      <th></th>\n",
       "      <th>Brand_name</th>\n",
       "      <th>Product_description</th>\n",
       "      <th>Price</th>\n",
       "    </tr>\n",
       "  </thead>\n",
       "  <tbody>\n",
       "    <tr>\n",
       "      <th>0</th>\n",
       "      <td>VINCENT CHASE</td>\n",
       "      <td>by Lenskart Polarized, UV Protection Wayfarer ...</td>\n",
       "      <td>1,533</td>\n",
       "    </tr>\n",
       "    <tr>\n",
       "      <th>1</th>\n",
       "      <td>VINCENT CHASE</td>\n",
       "      <td>by Lenskart Polarized, UV Protection Wayfarer ...</td>\n",
       "      <td>1,533</td>\n",
       "    </tr>\n",
       "    <tr>\n",
       "      <th>2</th>\n",
       "      <td>Elligator</td>\n",
       "      <td>UV Protection Round Sunglasses (54)</td>\n",
       "      <td>248</td>\n",
       "    </tr>\n",
       "    <tr>\n",
       "      <th>3</th>\n",
       "      <td>Fastrack</td>\n",
       "      <td>UV Protection Rectangular Sunglasses (Free Size)</td>\n",
       "      <td>639</td>\n",
       "    </tr>\n",
       "    <tr>\n",
       "      <th>4</th>\n",
       "      <td>SHAAH COLLECTIONS</td>\n",
       "      <td>UV Protection, Polarized, Mirrored Rectangular...</td>\n",
       "      <td>165</td>\n",
       "    </tr>\n",
       "    <tr>\n",
       "      <th>...</th>\n",
       "      <td>...</td>\n",
       "      <td>...</td>\n",
       "      <td>...</td>\n",
       "    </tr>\n",
       "    <tr>\n",
       "      <th>95</th>\n",
       "      <td>elegante</td>\n",
       "      <td>UV Protection Wayfarer Sunglasses (Free Size)</td>\n",
       "      <td>₹399</td>\n",
       "    </tr>\n",
       "    <tr>\n",
       "      <th>96</th>\n",
       "      <td>kingsunglasses</td>\n",
       "      <td>Mirrored, UV Protection Aviator Sunglasses (56)</td>\n",
       "      <td>₹209</td>\n",
       "    </tr>\n",
       "    <tr>\n",
       "      <th>97</th>\n",
       "      <td>SRPM</td>\n",
       "      <td>Night Vision, UV Protection Round Sunglasses (54)</td>\n",
       "      <td>₹199</td>\n",
       "    </tr>\n",
       "    <tr>\n",
       "      <th>98</th>\n",
       "      <td>IDEE</td>\n",
       "      <td>UV Protection Cat-eye Sunglasses (17)</td>\n",
       "      <td>₹1,079</td>\n",
       "    </tr>\n",
       "    <tr>\n",
       "      <th>99</th>\n",
       "      <td>elegante</td>\n",
       "      <td>UV Protection Over-sized Sunglasses (Free Size)</td>\n",
       "      <td>₹399</td>\n",
       "    </tr>\n",
       "  </tbody>\n",
       "</table>\n",
       "<p>100 rows × 3 columns</p>\n",
       "</div>"
      ],
      "text/plain": [
       "           Brand_name                                Product_description  \\\n",
       "0       VINCENT CHASE  by Lenskart Polarized, UV Protection Wayfarer ...   \n",
       "1       VINCENT CHASE  by Lenskart Polarized, UV Protection Wayfarer ...   \n",
       "2           Elligator                UV Protection Round Sunglasses (54)   \n",
       "3            Fastrack   UV Protection Rectangular Sunglasses (Free Size)   \n",
       "4   SHAAH COLLECTIONS  UV Protection, Polarized, Mirrored Rectangular...   \n",
       "..                ...                                                ...   \n",
       "95           elegante      UV Protection Wayfarer Sunglasses (Free Size)   \n",
       "96     kingsunglasses    Mirrored, UV Protection Aviator Sunglasses (56)   \n",
       "97               SRPM  Night Vision, UV Protection Round Sunglasses (54)   \n",
       "98               IDEE              UV Protection Cat-eye Sunglasses (17)   \n",
       "99           elegante    UV Protection Over-sized Sunglasses (Free Size)   \n",
       "\n",
       "     Price  \n",
       "0    1,533  \n",
       "1    1,533  \n",
       "2      248  \n",
       "3      639  \n",
       "4      165  \n",
       "..     ...  \n",
       "95    ₹399  \n",
       "96    ₹209  \n",
       "97    ₹199  \n",
       "98  ₹1,079  \n",
       "99    ₹399  \n",
       "\n",
       "[100 rows x 3 columns]"
      ]
     },
     "execution_count": 83,
     "metadata": {},
     "output_type": "execute_result"
    }
   ],
   "source": [
    "df4=pd.DataFrame()\n",
    "df4['Brand_name']=Brand_name\n",
    "df4['Product_description']=description\n",
    "df4['Price']=Price\n",
    "df4"
   ]
  },
  {
   "cell_type": "code",
   "execution_count": 84,
   "id": "315492ba",
   "metadata": {},
   "outputs": [
    {
     "data": {
      "text/plain": [
       "(100, 3)"
      ]
     },
     "execution_count": 84,
     "metadata": {},
     "output_type": "execute_result"
    }
   ],
   "source": [
    "# checking the shape\n",
    "df4.shape"
   ]
  },
  {
   "cell_type": "code",
   "execution_count": null,
   "id": "fbd8b062",
   "metadata": {},
   "outputs": [],
   "source": []
  },
  {
   "cell_type": "markdown",
   "id": "ddb3ac68",
   "metadata": {},
   "source": [
    "# Problem Statement:\n",
    "\n",
    "##### Q5: Scrape 100 reviews data from flipkart.com for iphone11 phone. You have to go the link:\n",
    "https://www.flipkart.com/apple-iphone-11-black-64-gb/product-reviews/itm4e5041ba101fd?pid=MOBFWQ6BXGJCEYNY&lid=LSTMOBFWQ6BXGJCEYNYL0BETT&marketplace=FLIPKART\n",
    "\n",
    "When you will open the above link you will reach to the webpage.\n",
    "\n",
    "As shown in the above page you have to scrape the tick marked attributes.These are:\n",
    "1. Rating\n",
    "2. Review summary\n",
    "3. Full review\n",
    "4. You have to scrape this data for first 100 reviews"
   ]
  },
  {
   "cell_type": "code",
   "execution_count": 130,
   "id": "c5c3f695",
   "metadata": {},
   "outputs": [
    {
     "data": {
      "text/plain": [
       "<selenium.webdriver.chrome.webdriver.WebDriver (session=\"703caf7b261951618b82180c309501eb\")>"
      ]
     },
     "execution_count": 130,
     "metadata": {},
     "output_type": "execute_result"
    }
   ],
   "source": [
    "driver=webdriver.Chrome('chromedriver.exe')\n",
    "\n",
    "driver"
   ]
  },
  {
   "cell_type": "code",
   "execution_count": 131,
   "id": "95109e9f",
   "metadata": {},
   "outputs": [],
   "source": [
    "links_1_2=['https://www.flipkart.com/apple-iphone-11-black-64-gb-includes-earpods-power-adapter/product-reviews/itm0f37c2240b217?pid=MOBFKCTSVZAXUHGR&lid=LSTMOBFKCTSVZAXUHGREPBFGI&marketplace=FLIPKART',\n",
    "      'https://www.flipkart.com/apple-iphone-11-black-64-gb-includes-earpods-power-adapter/product-reviews/itm0f37c2240b217?pid=MOBFKCTSVZAXUHGR&lid=LSTMOBFKCTSVZAXUHGREPBFGI&marketplace=FLIPKART&page=2']"
   ]
  },
  {
   "cell_type": "code",
   "execution_count": 132,
   "id": "cc83e8dd",
   "metadata": {},
   "outputs": [],
   "source": [
    "rev=[]\n",
    "for link in links_1_2:\n",
    "    driver.get(link)\n",
    "    rating2=driver.find_elements_by_xpath('//div[@class=\"_3LWZlK _1BLPMq\"]')\n",
    "    for i in rating2:\n",
    "        rev.append(i.text)"
   ]
  },
  {
   "cell_type": "code",
   "execution_count": 133,
   "id": "22383bc9",
   "metadata": {},
   "outputs": [
    {
     "data": {
      "text/plain": [
       "20"
      ]
     },
     "execution_count": 133,
     "metadata": {},
     "output_type": "execute_result"
    }
   ],
   "source": [
    "len(rev)"
   ]
  },
  {
   "cell_type": "code",
   "execution_count": 134,
   "id": "9c97cd5e",
   "metadata": {},
   "outputs": [
    {
     "data": {
      "text/plain": [
       "20"
      ]
     },
     "execution_count": 134,
     "metadata": {},
     "output_type": "execute_result"
    }
   ],
   "source": [
    "Review=[]\n",
    "for link in links_1_2:\n",
    "    driver.get(link)\n",
    "    review=driver.find_elements_by_xpath('//p[@class=\"_2-N8zT\"]')\n",
    "    for i  in review:\n",
    "        Review.append(i.text)\n",
    "len(Review)"
   ]
  },
  {
   "cell_type": "code",
   "execution_count": 135,
   "id": "9ed3ca35",
   "metadata": {},
   "outputs": [
    {
     "data": {
      "text/plain": [
       "20"
      ]
     },
     "execution_count": 135,
     "metadata": {},
     "output_type": "execute_result"
    }
   ],
   "source": [
    "des=[]\n",
    "for link  in links_1_2:\n",
    "    driver.get(link)\n",
    "    tags=driver.find_elements_by_xpath('//div[@class=\"t-ZTKy\"]')\n",
    "    for i in tags:\n",
    "        des.append(i.text)\n",
    "len(des)"
   ]
  },
  {
   "cell_type": "markdown",
   "id": "a1ba9e0d",
   "metadata": {},
   "source": [
    "## Extracting elements for page 3 & 4"
   ]
  },
  {
   "cell_type": "code",
   "execution_count": 136,
   "id": "b55e0324",
   "metadata": {},
   "outputs": [],
   "source": [
    "link_3_4=['https://www.flipkart.com/apple-iphone-11-black-64-gb-includes-earpods-power-adapter/product-reviews/itm0f37c2240b217?pid=MOBFKCTSVZAXUHGR&lid=LSTMOBFKCTSVZAXUHGREPBFGI&marketplace=FLIPKART&page=3',\n",
    "     'https://www.flipkart.com/apple-iphone-11-black-64-gb-includes-earpods-power-adapter/product-reviews/itm0f37c2240b217?pid=MOBFKCTSVZAXUHGR&lid=LSTMOBFKCTSVZAXUHGREPBFGI&marketplace=FLIPKART&page=4']"
   ]
  },
  {
   "cell_type": "code",
   "execution_count": 137,
   "id": "a2aa577c",
   "metadata": {},
   "outputs": [
    {
     "data": {
      "text/plain": [
       "18"
      ]
     },
     "execution_count": 137,
     "metadata": {},
     "output_type": "execute_result"
    }
   ],
   "source": [
    "rev2=[]\n",
    "for link in link_3_4:\n",
    "    driver.get(link)\n",
    "    rating=driver.find_elements_by_xpath('//div[@class=\"_3LWZlK _1BLPMq\"]')\n",
    "    for i in rating:\n",
    "        rev2.append(i.text)\n",
    "len(rev2)"
   ]
  },
  {
   "cell_type": "code",
   "execution_count": 138,
   "id": "d5a5f85a",
   "metadata": {},
   "outputs": [],
   "source": [
    "rev2.insert(7,'1')\n",
    "rev2.insert(-1,'1')"
   ]
  },
  {
   "cell_type": "code",
   "execution_count": 139,
   "id": "b910dad7",
   "metadata": {},
   "outputs": [
    {
     "data": {
      "text/plain": [
       "['5',\n",
       " '4',\n",
       " '5',\n",
       " '5',\n",
       " '5',\n",
       " '5',\n",
       " '4',\n",
       " '1',\n",
       " '5',\n",
       " '5',\n",
       " '5',\n",
       " '5',\n",
       " '4',\n",
       " '5',\n",
       " '5',\n",
       " '5',\n",
       " '5',\n",
       " '5',\n",
       " '1',\n",
       " '5']"
      ]
     },
     "execution_count": 139,
     "metadata": {},
     "output_type": "execute_result"
    }
   ],
   "source": [
    "rev2"
   ]
  },
  {
   "cell_type": "code",
   "execution_count": 140,
   "id": "aa73d424",
   "metadata": {},
   "outputs": [
    {
     "data": {
      "text/plain": [
       "20"
      ]
     },
     "execution_count": 140,
     "metadata": {},
     "output_type": "execute_result"
    }
   ],
   "source": [
    "len(rev2)"
   ]
  },
  {
   "cell_type": "code",
   "execution_count": 142,
   "id": "cc63e50c",
   "metadata": {},
   "outputs": [
    {
     "data": {
      "text/plain": [
       "40"
      ]
     },
     "execution_count": 142,
     "metadata": {},
     "output_type": "execute_result"
    }
   ],
   "source": [
    "for link in link_3_4:\n",
    "    driver.get(link)\n",
    "    review=driver.find_elements_by_xpath('//p[@class=\"_2-N8zT\"]')\n",
    "    for i  in review:\n",
    "        Review.append(i.text)\n",
    "len(Review)"
   ]
  },
  {
   "cell_type": "code",
   "execution_count": 143,
   "id": "ae678bd7",
   "metadata": {},
   "outputs": [
    {
     "data": {
      "text/plain": [
       "40"
      ]
     },
     "execution_count": 143,
     "metadata": {},
     "output_type": "execute_result"
    }
   ],
   "source": [
    "for link  in link_3_4:\n",
    "    driver.get(link)\n",
    "    tags=driver.find_elements_by_xpath('//div[@class=\"t-ZTKy\"]')\n",
    "    for i in tags:\n",
    "        des.append(i.text)\n",
    "len(des)"
   ]
  },
  {
   "cell_type": "markdown",
   "id": "b3be1c50",
   "metadata": {},
   "source": [
    "## Extracting for page5 & page 6 & page 7"
   ]
  },
  {
   "cell_type": "code",
   "execution_count": 107,
   "id": "c0d7f89f",
   "metadata": {},
   "outputs": [
    {
     "data": {
      "text/plain": [
       "<selenium.webdriver.chrome.webdriver.WebDriver (session=\"ab8233cbd41ba6a8c30e745d34f8cd49\")>"
      ]
     },
     "execution_count": 107,
     "metadata": {},
     "output_type": "execute_result"
    }
   ],
   "source": [
    "driver=webdriver.Chrome('chromedriver.exe')\n",
    "\n",
    "driver\n"
   ]
  },
  {
   "cell_type": "code",
   "execution_count": 144,
   "id": "78209db2",
   "metadata": {},
   "outputs": [],
   "source": [
    "links_5_6_7=['https://www.flipkart.com/apple-iphone-11-black-64-gb-includes-earpods-power-adapter/product-reviews/itm0f37c2240b217?pid=MOBFKCTSVZAXUHGR&lid=LSTMOBFKCTSVZAXUHGREPBFGI&marketplace=FLIPKART&page=5',\n",
    "             'https://www.flipkart.com/apple-iphone-11-black-64-gb-includes-earpods-power-adapter/product-reviews/itm0f37c2240b217?pid=MOBFKCTSVZAXUHGR&lid=LSTMOBFKCTSVZAXUHGREPBFGI&marketplace=FLIPKART&page=6',\n",
    "             'https://www.flipkart.com/apple-iphone-11-black-64-gb-includes-earpods-power-adapter/product-reviews/itm0f37c2240b217?pid=MOBFKCTSVZAXUHGR&lid=LSTMOBFKCTSVZAXUHGREPBFGI&marketplace=FLIPKART&page=7'\n",
    "]"
   ]
  },
  {
   "cell_type": "code",
   "execution_count": 145,
   "id": "ff4a6f3c",
   "metadata": {},
   "outputs": [
    {
     "data": {
      "text/plain": [
       "29"
      ]
     },
     "execution_count": 145,
     "metadata": {},
     "output_type": "execute_result"
    }
   ],
   "source": [
    "## Extracting the ratings\n",
    "rev3=[]\n",
    "for link in links_5_6_7:\n",
    "    driver.get(link)\n",
    "    rating=driver.find_elements_by_xpath('//div[@class=\"_3LWZlK _1BLPMq\"]')\n",
    "    for i in rating:\n",
    "        rev3.append(i.text)\n",
    "len(rev3)"
   ]
  },
  {
   "cell_type": "code",
   "execution_count": 146,
   "id": "360483f7",
   "metadata": {},
   "outputs": [],
   "source": [
    "rev3.insert(4,'1')"
   ]
  },
  {
   "cell_type": "code",
   "execution_count": 147,
   "id": "6d93c64e",
   "metadata": {},
   "outputs": [
    {
     "data": {
      "text/plain": [
       "30"
      ]
     },
     "execution_count": 147,
     "metadata": {},
     "output_type": "execute_result"
    }
   ],
   "source": [
    "len(rev3)"
   ]
  },
  {
   "cell_type": "code",
   "execution_count": 148,
   "id": "16a064c7",
   "metadata": {},
   "outputs": [
    {
     "data": {
      "text/plain": [
       "70"
      ]
     },
     "execution_count": 148,
     "metadata": {},
     "output_type": "execute_result"
    }
   ],
   "source": [
    "## Extracting Review summery\n",
    "\n",
    "for link in links_5_6_7:\n",
    "    driver.get(link)\n",
    "    review=driver.find_elements_by_xpath('//p[@class=\"_2-N8zT\"]')\n",
    "    for i  in review:\n",
    "        Review.append(i.text)\n",
    "len(Review)"
   ]
  },
  {
   "cell_type": "code",
   "execution_count": 149,
   "id": "81a2ba4b",
   "metadata": {},
   "outputs": [
    {
     "data": {
      "text/plain": [
       "70"
      ]
     },
     "execution_count": 149,
     "metadata": {},
     "output_type": "execute_result"
    }
   ],
   "source": [
    "### Extracting Full Review\n",
    "\n",
    "for link  in links_5_6_7:\n",
    "    driver.get(link)\n",
    "    tags=driver.find_elements_by_xpath('//div[@class=\"t-ZTKy\"]')\n",
    "    for i in tags:\n",
    "        des.append(i.text)\n",
    "len(des)"
   ]
  },
  {
   "cell_type": "code",
   "execution_count": null,
   "id": "fe028475",
   "metadata": {},
   "outputs": [],
   "source": []
  },
  {
   "cell_type": "code",
   "execution_count": 118,
   "id": "19ad48c8",
   "metadata": {},
   "outputs": [
    {
     "data": {
      "text/plain": [
       "<selenium.webdriver.chrome.webdriver.WebDriver (session=\"7418a5564822b5d9845bb09db981df20\")>"
      ]
     },
     "execution_count": 118,
     "metadata": {},
     "output_type": "execute_result"
    }
   ],
   "source": [
    "driver=webdriver.Chrome('chromedriver.exe')\n",
    "\n",
    "driver"
   ]
  },
  {
   "cell_type": "code",
   "execution_count": 150,
   "id": "59ff5770",
   "metadata": {},
   "outputs": [],
   "source": [
    "links_8_9_10=['https://www.flipkart.com/apple-iphone-11-black-64-gb-includes-earpods-power-adapter/product-reviews/itm0f37c2240b217?pid=MOBFKCTSVZAXUHGR&lid=LSTMOBFKCTSVZAXUHGREPBFGI&marketplace=FLIPKART&page=8',\n",
    "             'https://www.flipkart.com/apple-iphone-11-black-64-gb-includes-earpods-power-adapter/product-reviews/itm0f37c2240b217?pid=MOBFKCTSVZAXUHGR&lid=LSTMOBFKCTSVZAXUHGREPBFGI&marketplace=FLIPKART&page=9',\n",
    "             'https://www.flipkart.com/apple-iphone-11-black-64-gb-includes-earpods-power-adapter/product-reviews/itm0f37c2240b217?pid=MOBFKCTSVZAXUHGR&lid=LSTMOBFKCTSVZAXUHGREPBFGI&marketplace=FLIPKART&page=10']"
   ]
  },
  {
   "cell_type": "code",
   "execution_count": 151,
   "id": "8c616142",
   "metadata": {},
   "outputs": [
    {
     "data": {
      "text/plain": [
       "27"
      ]
     },
     "execution_count": 151,
     "metadata": {},
     "output_type": "execute_result"
    }
   ],
   "source": [
    "## Extracting the rating \n",
    "rev4=[]\n",
    "for link in links_8_9_10:\n",
    "    driver.get(link)\n",
    "    rating=driver.find_elements_by_xpath('//div[@class=\"_3LWZlK _1BLPMq\"]')\n",
    "    for i in rating:\n",
    "        rev4.append(i.text)\n",
    "len(rev4)"
   ]
  },
  {
   "cell_type": "code",
   "execution_count": 152,
   "id": "5f3ec363",
   "metadata": {},
   "outputs": [],
   "source": [
    "## re-intiating poor rating:"
   ]
  },
  {
   "cell_type": "code",
   "execution_count": 153,
   "id": "8e27dae8",
   "metadata": {},
   "outputs": [],
   "source": [
    "rev4.insert(1,'1')"
   ]
  },
  {
   "cell_type": "code",
   "execution_count": 154,
   "id": "2925e58a",
   "metadata": {},
   "outputs": [],
   "source": [
    "rev4.insert(4,'1')"
   ]
  },
  {
   "cell_type": "code",
   "execution_count": 155,
   "id": "8a78e437",
   "metadata": {},
   "outputs": [],
   "source": [
    "rev4.insert(24,'1')"
   ]
  },
  {
   "cell_type": "code",
   "execution_count": 156,
   "id": "7942f3d9",
   "metadata": {},
   "outputs": [
    {
     "data": {
      "text/plain": [
       "30"
      ]
     },
     "execution_count": 156,
     "metadata": {},
     "output_type": "execute_result"
    }
   ],
   "source": [
    "len(rev4)"
   ]
  },
  {
   "cell_type": "code",
   "execution_count": 157,
   "id": "14d67e5f",
   "metadata": {},
   "outputs": [
    {
     "data": {
      "text/plain": [
       "100"
      ]
     },
     "execution_count": 157,
     "metadata": {},
     "output_type": "execute_result"
    }
   ],
   "source": [
    "## Extracting Review summery\n",
    "\n",
    "for link in links_8_9_10:\n",
    "    driver.get(link)\n",
    "    review=driver.find_elements_by_xpath('//p[@class=\"_2-N8zT\"]')\n",
    "    for i  in review:\n",
    "        Review.append(i.text)\n",
    "len(Review)"
   ]
  },
  {
   "cell_type": "code",
   "execution_count": 158,
   "id": "a84de66d",
   "metadata": {},
   "outputs": [
    {
     "data": {
      "text/plain": [
       "100"
      ]
     },
     "execution_count": 158,
     "metadata": {},
     "output_type": "execute_result"
    }
   ],
   "source": [
    "### Extracting Full Review\n",
    "\n",
    "for link  in links_8_9_10:\n",
    "    driver.get(link)\n",
    "    tags=driver.find_elements_by_xpath('//div[@class=\"t-ZTKy\"]')\n",
    "    for i in tags:\n",
    "        des.append(i.text)\n",
    "len(des)"
   ]
  },
  {
   "cell_type": "markdown",
   "id": "531b25e5",
   "metadata": {},
   "source": [
    "## Joining the Rating lists"
   ]
  },
  {
   "cell_type": "code",
   "execution_count": 159,
   "id": "6128d329",
   "metadata": {},
   "outputs": [
    {
     "data": {
      "text/plain": [
       "100"
      ]
     },
     "execution_count": 159,
     "metadata": {},
     "output_type": "execute_result"
    }
   ],
   "source": [
    "Rating=rev+rev2+rev3+rev4\n",
    "len(Rating)"
   ]
  },
  {
   "cell_type": "code",
   "execution_count": null,
   "id": "fd99ef2a",
   "metadata": {},
   "outputs": [],
   "source": []
  },
  {
   "cell_type": "markdown",
   "id": "d1b60b7f",
   "metadata": {},
   "source": [
    "### Creating a DataFrame"
   ]
  },
  {
   "cell_type": "code",
   "execution_count": 160,
   "id": "189e5230",
   "metadata": {},
   "outputs": [
    {
     "data": {
      "text/html": [
       "<div>\n",
       "<style scoped>\n",
       "    .dataframe tbody tr th:only-of-type {\n",
       "        vertical-align: middle;\n",
       "    }\n",
       "\n",
       "    .dataframe tbody tr th {\n",
       "        vertical-align: top;\n",
       "    }\n",
       "\n",
       "    .dataframe thead th {\n",
       "        text-align: right;\n",
       "    }\n",
       "</style>\n",
       "<table border=\"1\" class=\"dataframe\">\n",
       "  <thead>\n",
       "    <tr style=\"text-align: right;\">\n",
       "      <th></th>\n",
       "      <th>I-phone11_Rating</th>\n",
       "      <th>I-phone11_review_summery</th>\n",
       "      <th>I-phone11_review_description</th>\n",
       "    </tr>\n",
       "  </thead>\n",
       "  <tbody>\n",
       "    <tr>\n",
       "      <th>0</th>\n",
       "      <td>5</td>\n",
       "      <td>Brilliant</td>\n",
       "      <td>The Best Phone for the Money\\n\\nThe iPhone 11 ...</td>\n",
       "    </tr>\n",
       "    <tr>\n",
       "      <th>1</th>\n",
       "      <td>5</td>\n",
       "      <td>Good choice</td>\n",
       "      <td>Really satisfied with the Product I received.....</td>\n",
       "    </tr>\n",
       "    <tr>\n",
       "      <th>2</th>\n",
       "      <td>5</td>\n",
       "      <td>Perfect product!</td>\n",
       "      <td>Great iPhone very snappy experience as apple k...</td>\n",
       "    </tr>\n",
       "    <tr>\n",
       "      <th>3</th>\n",
       "      <td>5</td>\n",
       "      <td>Wonderful</td>\n",
       "      <td>Amazing phone with great cameras and better ba...</td>\n",
       "    </tr>\n",
       "    <tr>\n",
       "      <th>4</th>\n",
       "      <td>5</td>\n",
       "      <td>Terrific purchase</td>\n",
       "      <td>Previously I was using one plus 3t it was a gr...</td>\n",
       "    </tr>\n",
       "    <tr>\n",
       "      <th>...</th>\n",
       "      <td>...</td>\n",
       "      <td>...</td>\n",
       "      <td>...</td>\n",
       "    </tr>\n",
       "    <tr>\n",
       "      <th>95</th>\n",
       "      <td>5</td>\n",
       "      <td>Terrific</td>\n",
       "      <td>I got this beast today. And I must say the pic...</td>\n",
       "    </tr>\n",
       "    <tr>\n",
       "      <th>96</th>\n",
       "      <td>5</td>\n",
       "      <td>Highly recommended</td>\n",
       "      <td>Amazing camera quality as expected, battery al...</td>\n",
       "    </tr>\n",
       "    <tr>\n",
       "      <th>97</th>\n",
       "      <td>5</td>\n",
       "      <td>Must buy!</td>\n",
       "      <td>Dear friends... I want to share my experience ...</td>\n",
       "    </tr>\n",
       "    <tr>\n",
       "      <th>98</th>\n",
       "      <td>5</td>\n",
       "      <td>Must buy!</td>\n",
       "      <td>Camera is excellent just lack of telephoto mod...</td>\n",
       "    </tr>\n",
       "    <tr>\n",
       "      <th>99</th>\n",
       "      <td>5</td>\n",
       "      <td>Excellent</td>\n",
       "      <td>It was amazing experience for me. Honestly i a...</td>\n",
       "    </tr>\n",
       "  </tbody>\n",
       "</table>\n",
       "<p>100 rows × 3 columns</p>\n",
       "</div>"
      ],
      "text/plain": [
       "   I-phone11_Rating I-phone11_review_summery  \\\n",
       "0                 5                Brilliant   \n",
       "1                 5              Good choice   \n",
       "2                 5         Perfect product!   \n",
       "3                 5                Wonderful   \n",
       "4                 5        Terrific purchase   \n",
       "..              ...                      ...   \n",
       "95                5                 Terrific   \n",
       "96                5       Highly recommended   \n",
       "97                5                Must buy!   \n",
       "98                5                Must buy!   \n",
       "99                5                Excellent   \n",
       "\n",
       "                         I-phone11_review_description  \n",
       "0   The Best Phone for the Money\\n\\nThe iPhone 11 ...  \n",
       "1   Really satisfied with the Product I received.....  \n",
       "2   Great iPhone very snappy experience as apple k...  \n",
       "3   Amazing phone with great cameras and better ba...  \n",
       "4   Previously I was using one plus 3t it was a gr...  \n",
       "..                                                ...  \n",
       "95  I got this beast today. And I must say the pic...  \n",
       "96  Amazing camera quality as expected, battery al...  \n",
       "97  Dear friends... I want to share my experience ...  \n",
       "98  Camera is excellent just lack of telephoto mod...  \n",
       "99  It was amazing experience for me. Honestly i a...  \n",
       "\n",
       "[100 rows x 3 columns]"
      ]
     },
     "execution_count": 160,
     "metadata": {},
     "output_type": "execute_result"
    }
   ],
   "source": [
    "df5=pd.DataFrame()\n",
    "df5['I-phone11_Rating']=Rating\n",
    "df5['I-phone11_review_summery']= Review\n",
    "df5['I-phone11_review_description']=des\n",
    "df5"
   ]
  },
  {
   "cell_type": "code",
   "execution_count": 161,
   "id": "7848f6f7",
   "metadata": {},
   "outputs": [
    {
     "data": {
      "text/plain": [
       "(100, 3)"
      ]
     },
     "execution_count": 161,
     "metadata": {},
     "output_type": "execute_result"
    }
   ],
   "source": [
    "df5.shape"
   ]
  },
  {
   "cell_type": "code",
   "execution_count": null,
   "id": "116285ac",
   "metadata": {},
   "outputs": [],
   "source": []
  },
  {
   "cell_type": "markdown",
   "id": "703dfb3d",
   "metadata": {},
   "source": [
    "# Problem Statement:\n",
    "\n",
    "###### Q6: Scrape data for first 100 sneakers you find when you visit flipkart.com andsearch for “sneakers” in the search field.\n",
    "You have to scrape 4 attributes of each sneaker:\n",
    "1. Brand\n",
    "2. Product Description\n",
    "3. Price\n",
    "\n"
   ]
  },
  {
   "cell_type": "code",
   "execution_count": 25,
   "id": "3979dc9f",
   "metadata": {},
   "outputs": [],
   "source": [
    "import selenium\n",
    "from selenium import webdriver\n",
    "import pandas as pd\n",
    "import numpy as np\n",
    "import warnings\n",
    "warnings.filterwarnings('ignore')"
   ]
  },
  {
   "cell_type": "code",
   "execution_count": 26,
   "id": "f100a381",
   "metadata": {},
   "outputs": [
    {
     "data": {
      "text/plain": [
       "<selenium.webdriver.chrome.webdriver.WebDriver (session=\"d2c47a6ec6a0b47d2ae56338c3caca56\")>"
      ]
     },
     "execution_count": 26,
     "metadata": {},
     "output_type": "execute_result"
    }
   ],
   "source": [
    "driver=webdriver.Chrome('chromedriver.exe')\n",
    "driver"
   ]
  },
  {
   "cell_type": "code",
   "execution_count": 27,
   "id": "9ae5a7a8",
   "metadata": {},
   "outputs": [],
   "source": [
    "driver.get('https://www.flipkart.com/')"
   ]
  },
  {
   "cell_type": "code",
   "execution_count": 28,
   "id": "ecf299f0",
   "metadata": {},
   "outputs": [],
   "source": [
    "search=driver.find_element_by_class_name(\"_3704LK\")"
   ]
  },
  {
   "cell_type": "code",
   "execution_count": 29,
   "id": "dace4e0f",
   "metadata": {},
   "outputs": [],
   "source": [
    "search.send_keys('seankers')"
   ]
  },
  {
   "cell_type": "code",
   "execution_count": 30,
   "id": "19ac9dc3",
   "metadata": {},
   "outputs": [],
   "source": [
    "search_button=driver.find_element_by_class_name(\"L0Z3Pu\")\n",
    "search_button.click()"
   ]
  },
  {
   "cell_type": "code",
   "execution_count": 31,
   "id": "29eb7d10",
   "metadata": {},
   "outputs": [
    {
     "name": "stdout",
     "output_type": "stream",
     "text": [
      "40\n"
     ]
    },
    {
     "data": {
      "text/plain": [
       "['BRUTON',\n",
       " 'Chevit',\n",
       " 'World Wear Footwear',\n",
       " 'GVSSHOES',\n",
       " 'SCATCHITE',\n",
       " 'CLYMB',\n",
       " 'Labbin',\n",
       " 'FLYING MACHINE',\n",
       " 'BRUTON',\n",
       " 'Chevit',\n",
       " 'luxury fashion',\n",
       " 'HRX by Hrithik Roshan',\n",
       " 'BRUTON',\n",
       " 'BIRDE',\n",
       " 'RapidBox',\n",
       " 'Roadster',\n",
       " 'Shoes Bank',\n",
       " 'PUMA',\n",
       " 'PUMA',\n",
       " 'sixXplus',\n",
       " 'Rzisbo',\n",
       " 'URBANBOX',\n",
       " 'DRESTA',\n",
       " 'ESSENCE',\n",
       " 'Kraasa',\n",
       " 'BRUTON',\n",
       " 'World Wear Footwear',\n",
       " 'Cipramo',\n",
       " 'Numenzo',\n",
       " 'PUMA',\n",
       " 'Noztile',\n",
       " 'FLYING MACHINE',\n",
       " 'Xtoon',\n",
       " 'ASTEROID',\n",
       " 'ASTEROID',\n",
       " 'FLYING MACHINE',\n",
       " 'CLYMB',\n",
       " 'aadi',\n",
       " 'Chevit',\n",
       " 'Roadster']"
      ]
     },
     "execution_count": 31,
     "metadata": {},
     "output_type": "execute_result"
    }
   ],
   "source": [
    "## Extracting Brand_name for page_1\n",
    "tags=driver.find_elements_by_xpath('//div[@class=\"_2WkVRV\"]')\n",
    "print(len(tags))\n",
    "Brand_name=[]\n",
    "for i in tags:\n",
    "    Brand_name.append(i.text)\n",
    "Brand_name"
   ]
  },
  {
   "cell_type": "code",
   "execution_count": 32,
   "id": "88af7dc1",
   "metadata": {},
   "outputs": [
    {
     "data": {
      "text/plain": [
       "['Combo Pack Of 4 Casual Shoes Loafer Shoes Sneakers For ...',\n",
       " 'Super Stylish & Trendy Combo Pack of 02 Pairs Sneakers ...',\n",
       " '5011-Latest Collection Stylish Casual Loafer Sneakers S...',\n",
       " 'Sneakers For Men',\n",
       " 'Sneakers Sneakers For Men',\n",
       " \"Perfect Sports Shoes for Men's Running ,Cycling & Trekk...\",\n",
       " 'Sneakers For Men',\n",
       " 'MARWICK Sneakers For Men',\n",
       " 'Modern Trendy Sneakers Shoes Sneakers For Men',\n",
       " 'Perfect & Affordable Combo Pack of 02 Pairs Sneakers Ou...',\n",
       " 'Sneakers For Men',\n",
       " 'Men White Printed Sneakers Sneakers For Men',\n",
       " 'Combo Pack Of 2 Latest Stylish Casual Shoes for Men Lac...',\n",
       " 'Sports Running Shoes Sneakers For Men',\n",
       " 'Sneakers For Men',\n",
       " 'Men Blue Solid Sneakers Sneakers For Men',\n",
       " \"White Sneaker For Men's/Boy's Sneakers For Men\",\n",
       " 'Ferrari Race X-Ray 2 Sneakers For Men',\n",
       " 'X-Ray 2 Square Sneakers For Men',\n",
       " 'Casual Sneakers black Shoes For Men Sneakers For Men',\n",
       " 'Sneakers For Men',\n",
       " 'Sneakers Sneakers For Men',\n",
       " \"Original Luxury Branded Fashionable Men's Casual Walkin...\",\n",
       " 'Luxury Fashionable casual sneaker shoes and shoes Sneak...',\n",
       " 'Shark-41 Sneakers For Men',\n",
       " 'Modern & Trendy Collection Combo Pack of 02 Shoes for M...',\n",
       " 'Sneakers For Men',\n",
       " 'Casual Sneaker Shoe For Men Sneakers For Men',\n",
       " '411 Casual Sneakers For Men',\n",
       " 'Ontario Sneakers For Men',\n",
       " 'Sneakers For Men',\n",
       " 'Sneakers For Men',\n",
       " \"white Casual shoes,Sneakers for men's Sneakers For Men\",\n",
       " \"Original Luxury Branded Fashionable Men's Casual Walkin...\",\n",
       " \"Original Luxury Branded Fashionable Men's Casual Walkin...\",\n",
       " 'Sneakers For Men',\n",
       " 'Clymb Training & Gym Shoes For Men Sneakers For Men',\n",
       " 'Sneakers For Men',\n",
       " '516 Trendy Star Perfect Sneakers For Men',\n",
       " 'Men Grey Solid Mid-Top Sneakers Sneakers For Men']"
      ]
     },
     "execution_count": 32,
     "metadata": {},
     "output_type": "execute_result"
    }
   ],
   "source": [
    "## Extracting Product_description for page_1\n",
    "tags=driver.find_elements_by_class_name(\"_2B099V\")\n",
    "Product_description=[]\n",
    "for i in tags:\n",
    "    Product_description.append(i.text.split('\\n')[1])\n",
    "    \n",
    "Product_description"
   ]
  },
  {
   "cell_type": "code",
   "execution_count": 33,
   "id": "19fc2c47",
   "metadata": {},
   "outputs": [
    {
     "name": "stdout",
     "output_type": "stream",
     "text": [
      "40\n"
     ]
    },
    {
     "data": {
      "text/plain": [
       "['424',\n",
       " '536',\n",
       " '199',\n",
       " '449',\n",
       " '377',\n",
       " '249',\n",
       " '474',\n",
       " '1,499',\n",
       " '259',\n",
       " '447',\n",
       " '449',\n",
       " '2,499',\n",
       " '499',\n",
       " '299',\n",
       " '680',\n",
       " '1,399',\n",
       " '345',\n",
       " '7,859',\n",
       " '2,481',\n",
       " '449',\n",
       " '549',\n",
       " '247',\n",
       " '499',\n",
       " '399',\n",
       " '444',\n",
       " '424',\n",
       " '259',\n",
       " '799',\n",
       " '426',\n",
       " '1,047',\n",
       " '429',\n",
       " '915',\n",
       " '499',\n",
       " '474',\n",
       " '474',\n",
       " '995',\n",
       " '249',\n",
       " '319',\n",
       " '259',\n",
       " '1,999']"
      ]
     },
     "execution_count": 33,
     "metadata": {},
     "output_type": "execute_result"
    }
   ],
   "source": [
    "## Extracting Product_price for page_1\n",
    "tags=driver.find_elements_by_xpath('//div[@class=\"_30jeq3\"]')\n",
    "print(len(tags))\n",
    "Product_price=[]\n",
    "for i in tags:\n",
    "    Product_price.append(i.text.replace('₹',''))\n",
    "Product_price\n",
    "    "
   ]
  },
  {
   "cell_type": "code",
   "execution_count": 34,
   "id": "a8b30f84",
   "metadata": {},
   "outputs": [
    {
     "name": "stdout",
     "output_type": "stream",
     "text": [
      "40\n"
     ]
    },
    {
     "data": {
      "text/plain": [
       "['87% off',\n",
       " '66% off',\n",
       " '60% off',\n",
       " '55% off',\n",
       " '62% off',\n",
       " '75% off',\n",
       " '52% off',\n",
       " '40% off',\n",
       " '80% off',\n",
       " '75% off',\n",
       " '65% off',\n",
       " '41% off',\n",
       " '80% off',\n",
       " '40% off',\n",
       " '31% off',\n",
       " '50% off',\n",
       " '65% off',\n",
       " '1% off',\n",
       " '64% off',\n",
       " '55% off',\n",
       " '45% off',\n",
       " '75% off',\n",
       " '75% off',\n",
       " '60% off',\n",
       " '55% off',\n",
       " '83% off',\n",
       " '48% off',\n",
       " '20% off',\n",
       " '78% off',\n",
       " '65% off',\n",
       " '78% off',\n",
       " '60% off',\n",
       " '66% off',\n",
       " '76% off',\n",
       " '52% off',\n",
       " '60% off',\n",
       " '75% off',\n",
       " '68% off',\n",
       " '67% off',\n",
       " '28% off']"
      ]
     },
     "execution_count": 34,
     "metadata": {},
     "output_type": "execute_result"
    }
   ],
   "source": [
    "## Extracting Product_discount for page_1\n",
    "tags=driver.find_elements_by_xpath('//div[@class=\"_3Ay6Sb\"]')\n",
    "print(len(tags))\n",
    "Product_discount=[]\n",
    "for i in tags:\n",
    "    Product_discount.append(i.text)\n",
    "Product_discount"
   ]
  },
  {
   "cell_type": "code",
   "execution_count": 35,
   "id": "37393e92",
   "metadata": {},
   "outputs": [],
   "source": [
    "## clicking to next page\n",
    "page2=driver.find_element_by_xpath('//a[@class=\"_1LKTO3\"]')\n",
    "page2.click()"
   ]
  },
  {
   "cell_type": "code",
   "execution_count": 36,
   "id": "61fe1966",
   "metadata": {},
   "outputs": [
    {
     "name": "stdout",
     "output_type": "stream",
     "text": [
      "40\n"
     ]
    },
    {
     "data": {
      "text/plain": [
       "['BRUTON',\n",
       " 'Chevit',\n",
       " 'World Wear Footwear',\n",
       " 'GVSSHOES',\n",
       " 'SCATCHITE',\n",
       " 'CLYMB',\n",
       " 'Labbin',\n",
       " 'FLYING MACHINE',\n",
       " 'BRUTON',\n",
       " 'Chevit',\n",
       " 'luxury fashion',\n",
       " 'HRX by Hrithik Roshan',\n",
       " 'BRUTON',\n",
       " 'BIRDE',\n",
       " 'RapidBox',\n",
       " 'Roadster',\n",
       " 'Shoes Bank',\n",
       " 'PUMA',\n",
       " 'PUMA',\n",
       " 'sixXplus',\n",
       " 'Rzisbo',\n",
       " 'URBANBOX',\n",
       " 'DRESTA',\n",
       " 'ESSENCE',\n",
       " 'Kraasa',\n",
       " 'BRUTON',\n",
       " 'World Wear Footwear',\n",
       " 'Cipramo',\n",
       " 'Numenzo',\n",
       " 'PUMA',\n",
       " 'Noztile',\n",
       " 'FLYING MACHINE',\n",
       " 'Xtoon',\n",
       " 'ASTEROID',\n",
       " 'ASTEROID',\n",
       " 'FLYING MACHINE',\n",
       " 'CLYMB',\n",
       " 'aadi',\n",
       " 'Chevit',\n",
       " 'Roadster',\n",
       " 'CLYMB',\n",
       " 'BRUTON',\n",
       " 'aadi',\n",
       " 'SiR CORBETT',\n",
       " 'PUMA',\n",
       " 'World Wear Footwear',\n",
       " 'aadi',\n",
       " 'Flizzo Shoes',\n",
       " 'Zsyto',\n",
       " 'BRUTON',\n",
       " 'Robbie jones',\n",
       " 'HRX by Hrithik Roshan',\n",
       " 'Magnolia',\n",
       " 'ASIAN',\n",
       " 'HOTSTYLE',\n",
       " 'believe',\n",
       " 'Kraasa',\n",
       " 'Arohi',\n",
       " 'aadi',\n",
       " 'Strollin',\n",
       " 'D-SNEAKERZ',\n",
       " 'Robbie jones',\n",
       " 'PUMA',\n",
       " 'bluemaker',\n",
       " 'BRUTON',\n",
       " 'Chevit',\n",
       " 'Numenzo',\n",
       " 'HRX by Hrithik Roshan',\n",
       " 'India hub',\n",
       " 'bluemaker',\n",
       " 'RODDICK SHOES',\n",
       " 'BIRDE',\n",
       " 'RODDICK SHOES',\n",
       " 'KNIGHT WALKERS',\n",
       " 'Robbie jones',\n",
       " 'HRX by Hrithik Roshan',\n",
       " 'BRUTON',\n",
       " 'Echor',\n",
       " 'Pieds',\n",
       " 'ZIPAZXA']"
      ]
     },
     "execution_count": 36,
     "metadata": {},
     "output_type": "execute_result"
    }
   ],
   "source": [
    "## Extracting Brand_name for page_2\n",
    "tags=driver.find_elements_by_xpath('//div[@class=\"_2WkVRV\"]')\n",
    "print(len(tags))\n",
    "\n",
    "for i in tags:\n",
    "    Brand_name.append(i.text)\n",
    "Brand_name"
   ]
  },
  {
   "cell_type": "code",
   "execution_count": 37,
   "id": "ffad9df8",
   "metadata": {},
   "outputs": [
    {
     "data": {
      "text/plain": [
       "80"
      ]
     },
     "execution_count": 37,
     "metadata": {},
     "output_type": "execute_result"
    }
   ],
   "source": [
    "len(Brand_name)"
   ]
  },
  {
   "cell_type": "code",
   "execution_count": 38,
   "id": "c3f03399",
   "metadata": {},
   "outputs": [
    {
     "data": {
      "text/plain": [
       "80"
      ]
     },
     "execution_count": 38,
     "metadata": {},
     "output_type": "execute_result"
    }
   ],
   "source": [
    "## Extracting Product_description for page_2\n",
    "tags=driver.find_elements_by_class_name(\"_2B099V\")\n",
    "\n",
    "for i in tags:\n",
    "    Product_description.append(i.text.split('\\n')[1])\n",
    "    \n",
    "len(Product_description)"
   ]
  },
  {
   "cell_type": "code",
   "execution_count": 39,
   "id": "6b3bfc06",
   "metadata": {},
   "outputs": [
    {
     "name": "stdout",
     "output_type": "stream",
     "text": [
      "40\n",
      "80\n"
     ]
    }
   ],
   "source": [
    "## Extracting Product_price for page_2\n",
    "tags=driver.find_elements_by_xpath('//div[@class=\"_30jeq3\"]')\n",
    "print(len(tags))\n",
    "for i in tags:\n",
    "    Product_price.append(i.text.replace('₹',''))\n",
    "print(len(Product_price))\n",
    "    "
   ]
  },
  {
   "cell_type": "code",
   "execution_count": 40,
   "id": "779d1c70",
   "metadata": {},
   "outputs": [
    {
     "name": "stdout",
     "output_type": "stream",
     "text": [
      "40\n"
     ]
    },
    {
     "data": {
      "text/plain": [
       "40"
      ]
     },
     "execution_count": 40,
     "metadata": {},
     "output_type": "execute_result"
    }
   ],
   "source": [
    "## Extracting Product_discount for page_2\n",
    "tags=driver.find_elements_by_xpath('//div[@class=\"_3Ay6Sb\"]')\n",
    "print(len(tags))\n",
    "discount=[]\n",
    "for i in tags:\n",
    "    discount.append(i.text)\n",
    "len(discount)"
   ]
  },
  {
   "cell_type": "code",
   "execution_count": 41,
   "id": "963033bd",
   "metadata": {},
   "outputs": [
    {
     "data": {
      "text/plain": [
       "80"
      ]
     },
     "execution_count": 41,
     "metadata": {},
     "output_type": "execute_result"
    }
   ],
   "source": [
    "All_discount= Product_discount+discount\n",
    "len(All_discount)"
   ]
  },
  {
   "cell_type": "code",
   "execution_count": 42,
   "id": "34d6916b",
   "metadata": {},
   "outputs": [],
   "source": [
    "## Clicking on next button\n",
    "page3=driver.find_element_by_xpath('//a[@class=\"_1LKTO3\"]')\n",
    "page3.click()"
   ]
  },
  {
   "cell_type": "code",
   "execution_count": 43,
   "id": "c8bbd805",
   "metadata": {},
   "outputs": [
    {
     "name": "stdout",
     "output_type": "stream",
     "text": [
      "40\n",
      "120\n"
     ]
    }
   ],
   "source": [
    "## Extracting Brand_name for page_3\n",
    "tags=driver.find_elements_by_xpath('//div[@class=\"_2WkVRV\"]')\n",
    "print(len(tags))\n",
    "\n",
    "for i in tags:\n",
    "    Brand_name.append(i.text)\n",
    "print(len(Brand_name))"
   ]
  },
  {
   "cell_type": "code",
   "execution_count": 44,
   "id": "21a6049d",
   "metadata": {},
   "outputs": [
    {
     "data": {
      "text/plain": [
       "120"
      ]
     },
     "execution_count": 44,
     "metadata": {},
     "output_type": "execute_result"
    }
   ],
   "source": [
    "## Extracting Product_description for page_3\n",
    "tags=driver.find_elements_by_class_name(\"_2B099V\")\n",
    "\n",
    "for i in tags:\n",
    "    Product_description.append(i.text.split('\\n')[1])\n",
    "    \n",
    "len(Product_description)"
   ]
  },
  {
   "cell_type": "code",
   "execution_count": 45,
   "id": "5013bfce",
   "metadata": {},
   "outputs": [
    {
     "name": "stdout",
     "output_type": "stream",
     "text": [
      "40\n",
      "120\n"
     ]
    }
   ],
   "source": [
    "## Extracting Product_price for page_3\n",
    "tags=driver.find_elements_by_xpath('//div[@class=\"_30jeq3\"]')\n",
    "print(len(tags))\n",
    "for i in tags:\n",
    "    Product_price.append(i.text.replace('₹',''))\n",
    "print(len(Product_price))\n",
    "    "
   ]
  },
  {
   "cell_type": "code",
   "execution_count": 46,
   "id": "91769100",
   "metadata": {},
   "outputs": [
    {
     "name": "stdout",
     "output_type": "stream",
     "text": [
      "40\n"
     ]
    },
    {
     "data": {
      "text/plain": [
       "120"
      ]
     },
     "execution_count": 46,
     "metadata": {},
     "output_type": "execute_result"
    }
   ],
   "source": [
    "## Extracting Product_discount for page_3\n",
    "tags=driver.find_elements_by_xpath('//div[@class=\"_3Ay6Sb\"]')\n",
    "print(len(tags))\n",
    "\n",
    "for i in tags:\n",
    "    All_discount.append(i.text)\n",
    "len(All_discount)"
   ]
  },
  {
   "cell_type": "markdown",
   "id": "8d139a27",
   "metadata": {},
   "source": [
    "## Creating A DATA FRAME"
   ]
  },
  {
   "cell_type": "code",
   "execution_count": 47,
   "id": "6d6e7335",
   "metadata": {},
   "outputs": [
    {
     "data": {
      "text/html": [
       "<div>\n",
       "<style scoped>\n",
       "    .dataframe tbody tr th:only-of-type {\n",
       "        vertical-align: middle;\n",
       "    }\n",
       "\n",
       "    .dataframe tbody tr th {\n",
       "        vertical-align: top;\n",
       "    }\n",
       "\n",
       "    .dataframe thead th {\n",
       "        text-align: right;\n",
       "    }\n",
       "</style>\n",
       "<table border=\"1\" class=\"dataframe\">\n",
       "  <thead>\n",
       "    <tr style=\"text-align: right;\">\n",
       "      <th></th>\n",
       "      <th>Brand_name</th>\n",
       "      <th>Product_description</th>\n",
       "      <th>Product_price</th>\n",
       "      <th>Product_discount</th>\n",
       "    </tr>\n",
       "  </thead>\n",
       "  <tbody>\n",
       "    <tr>\n",
       "      <th>0</th>\n",
       "      <td>BRUTON</td>\n",
       "      <td>Combo Pack Of 4 Casual Shoes Loafer Shoes Snea...</td>\n",
       "      <td>424</td>\n",
       "      <td>87% off</td>\n",
       "    </tr>\n",
       "    <tr>\n",
       "      <th>1</th>\n",
       "      <td>Chevit</td>\n",
       "      <td>Super Stylish &amp; Trendy Combo Pack of 02 Pairs ...</td>\n",
       "      <td>536</td>\n",
       "      <td>66% off</td>\n",
       "    </tr>\n",
       "    <tr>\n",
       "      <th>2</th>\n",
       "      <td>World Wear Footwear</td>\n",
       "      <td>5011-Latest Collection Stylish Casual Loafer S...</td>\n",
       "      <td>199</td>\n",
       "      <td>60% off</td>\n",
       "    </tr>\n",
       "    <tr>\n",
       "      <th>3</th>\n",
       "      <td>GVSSHOES</td>\n",
       "      <td>Sneakers For Men</td>\n",
       "      <td>449</td>\n",
       "      <td>55% off</td>\n",
       "    </tr>\n",
       "    <tr>\n",
       "      <th>4</th>\n",
       "      <td>SCATCHITE</td>\n",
       "      <td>Sneakers Sneakers For Men</td>\n",
       "      <td>377</td>\n",
       "      <td>62% off</td>\n",
       "    </tr>\n",
       "    <tr>\n",
       "      <th>...</th>\n",
       "      <td>...</td>\n",
       "      <td>...</td>\n",
       "      <td>...</td>\n",
       "      <td>...</td>\n",
       "    </tr>\n",
       "    <tr>\n",
       "      <th>115</th>\n",
       "      <td>RapidBox</td>\n",
       "      <td>Stylish &amp; Trendy Sneakers For Men</td>\n",
       "      <td>620</td>\n",
       "      <td>37% off</td>\n",
       "    </tr>\n",
       "    <tr>\n",
       "      <th>116</th>\n",
       "      <td>CLYMB</td>\n",
       "      <td>Clymb Training &amp; Gym Shoes For Men Sneakers Fo...</td>\n",
       "      <td>249</td>\n",
       "      <td>75% off</td>\n",
       "    </tr>\n",
       "    <tr>\n",
       "      <th>117</th>\n",
       "      <td>aadi</td>\n",
       "      <td>Sneakers For Men</td>\n",
       "      <td>319</td>\n",
       "      <td>68% off</td>\n",
       "    </tr>\n",
       "    <tr>\n",
       "      <th>118</th>\n",
       "      <td>Chevit</td>\n",
       "      <td>516 Trendy Star Perfect Sneakers For Men</td>\n",
       "      <td>259</td>\n",
       "      <td>67% off</td>\n",
       "    </tr>\n",
       "    <tr>\n",
       "      <th>119</th>\n",
       "      <td>CLYMB</td>\n",
       "      <td>Mesh Running/Walking Shoes/Outdoor Ultra Light...</td>\n",
       "      <td>649</td>\n",
       "      <td>56% off</td>\n",
       "    </tr>\n",
       "  </tbody>\n",
       "</table>\n",
       "<p>120 rows × 4 columns</p>\n",
       "</div>"
      ],
      "text/plain": [
       "              Brand_name                                Product_description  \\\n",
       "0                 BRUTON  Combo Pack Of 4 Casual Shoes Loafer Shoes Snea...   \n",
       "1                 Chevit  Super Stylish & Trendy Combo Pack of 02 Pairs ...   \n",
       "2    World Wear Footwear  5011-Latest Collection Stylish Casual Loafer S...   \n",
       "3               GVSSHOES                                   Sneakers For Men   \n",
       "4              SCATCHITE                          Sneakers Sneakers For Men   \n",
       "..                   ...                                                ...   \n",
       "115             RapidBox                  Stylish & Trendy Sneakers For Men   \n",
       "116                CLYMB  Clymb Training & Gym Shoes For Men Sneakers Fo...   \n",
       "117                 aadi                                   Sneakers For Men   \n",
       "118               Chevit           516 Trendy Star Perfect Sneakers For Men   \n",
       "119                CLYMB  Mesh Running/Walking Shoes/Outdoor Ultra Light...   \n",
       "\n",
       "    Product_price Product_discount  \n",
       "0             424          87% off  \n",
       "1             536          66% off  \n",
       "2             199          60% off  \n",
       "3             449          55% off  \n",
       "4             377          62% off  \n",
       "..            ...              ...  \n",
       "115           620          37% off  \n",
       "116           249          75% off  \n",
       "117           319          68% off  \n",
       "118           259          67% off  \n",
       "119           649          56% off  \n",
       "\n",
       "[120 rows x 4 columns]"
      ]
     },
     "execution_count": 47,
     "metadata": {},
     "output_type": "execute_result"
    }
   ],
   "source": [
    "df6=pd.DataFrame()\n",
    "df6['Brand_name']=Brand_name\n",
    "df6['Product_description']=Product_description\n",
    "df6['Product_price']=Product_price\n",
    "df6['Product_discount']=All_discount\n",
    "df6"
   ]
  },
  {
   "cell_type": "code",
   "execution_count": null,
   "id": "05f9f880",
   "metadata": {},
   "outputs": [],
   "source": []
  },
  {
   "cell_type": "markdown",
   "id": "59ca2fc1",
   "metadata": {},
   "source": [
    "# Problem Statement:\n",
    "\n",
    "##### Q7: Go to the link - https://www.myntra.com/shoes\n",
    "Set Price filter to “Rs. 7149 to Rs. 14099 ” , Color filter to “Black”\n",
    "\n",
    "And then scrape First 100 shoes data you get. The data should include “Brand” of the shoes , Short Shoe\n",
    "description, price of the shoe."
   ]
  },
  {
   "cell_type": "code",
   "execution_count": 25,
   "id": "8b4cd239",
   "metadata": {},
   "outputs": [],
   "source": [
    "import selenium\n",
    "from selenium import webdriver\n",
    "import pandas as pd\n",
    "import numpy as np\n",
    "import warnings\n",
    "warnings.filterwarnings('ignore')"
   ]
  },
  {
   "cell_type": "code",
   "execution_count": 26,
   "id": "d33f33e2",
   "metadata": {},
   "outputs": [
    {
     "data": {
      "text/plain": [
       "<selenium.webdriver.chrome.webdriver.WebDriver (session=\"d2c47a6ec6a0b47d2ae56338c3caca56\")>"
      ]
     },
     "execution_count": 26,
     "metadata": {},
     "output_type": "execute_result"
    }
   ],
   "source": [
    "driver=webdriver.Chrome('chromedriver.exe')\n",
    "driver"
   ]
  },
  {
   "cell_type": "code",
   "execution_count": 48,
   "id": "bd1e3073",
   "metadata": {},
   "outputs": [],
   "source": [
    "driver.get('http://www.myntra.com/shoes')"
   ]
  },
  {
   "cell_type": "code",
   "execution_count": 51,
   "id": "58585429",
   "metadata": {},
   "outputs": [],
   "source": [
    "## setting the  price filter through code\n",
    "price_filter=driver.find_element_by_xpath('/html/body/div[2]/div/div[1]/main/div[3]/div[1]/section/div/div[5]/ul/li[2]/label/div')\n",
    "price_filter.click()"
   ]
  },
  {
   "cell_type": "code",
   "execution_count": 50,
   "id": "614b6681",
   "metadata": {},
   "outputs": [],
   "source": [
    "## setting the color filter as 'Black' through  code\n",
    "color_filter=driver.find_element_by_xpath('/html/body/div[2]/div/div[1]/main/div[3]/div[1]/section/div/div[6]/ul/li[1]/label/div')\n",
    "color_filter.click()"
   ]
  },
  {
   "cell_type": "code",
   "execution_count": 52,
   "id": "c98bd8fe",
   "metadata": {},
   "outputs": [
    {
     "data": {
      "text/plain": [
       "['Nike',\n",
       " 'Nike',\n",
       " 'ALDO',\n",
       " 'Tommy Hilfiger',\n",
       " 'Puma',\n",
       " 'Nike',\n",
       " 'Tommy Hilfiger',\n",
       " 'Tommy Hilfiger',\n",
       " 'PUMA Motorsport',\n",
       " 'Tommy Hilfiger',\n",
       " 'Puma',\n",
       " 'Puma',\n",
       " 'Puma',\n",
       " 'New Balance',\n",
       " 'RARE RABBIT',\n",
       " 'Puma',\n",
       " 'Puma',\n",
       " 'Skechers',\n",
       " 'Tommy Hilfiger',\n",
       " 'New Balance',\n",
       " 'Hush Puppies',\n",
       " 'Skechers',\n",
       " 'Reebok',\n",
       " 'Hush Puppies',\n",
       " 'RARE RABBIT',\n",
       " 'Puma',\n",
       " 'Hush Puppies',\n",
       " 'New Balance',\n",
       " 'Hush Puppies',\n",
       " 'DAVINCHI',\n",
       " 'Saint G',\n",
       " 'Hush Puppies',\n",
       " 'Clarks',\n",
       " 'Xtep',\n",
       " 'Saint G',\n",
       " 'Bugatti',\n",
       " 'Hush Puppies',\n",
       " 'New Balance',\n",
       " 'Saint G',\n",
       " 'Saint G',\n",
       " 'ASICS',\n",
       " 'Geox',\n",
       " 'Puma',\n",
       " 'J.FONTINI',\n",
       " 'Bugatti',\n",
       " 'Heel & Buckle London',\n",
       " 'Hush Puppies',\n",
       " 'MANGO',\n",
       " 'J.FONTINI',\n",
       " 'DAVINCHI']"
      ]
     },
     "execution_count": 52,
     "metadata": {},
     "output_type": "execute_result"
    }
   ],
   "source": [
    "## Extracting Brand name for page1\n",
    "tags=driver.find_elements_by_xpath('//h3[@class=\"product-brand\"]')\n",
    "Brand_name=[]\n",
    "for i in tags:\n",
    "    Brand_name.append(i.text)\n",
    "Brand_name"
   ]
  },
  {
   "cell_type": "code",
   "execution_count": 53,
   "id": "9a4a1ae8",
   "metadata": {},
   "outputs": [
    {
     "name": "stdout",
     "output_type": "stream",
     "text": [
      "50\n"
     ]
    }
   ],
   "source": [
    "print(len(Brand_name))"
   ]
  },
  {
   "cell_type": "code",
   "execution_count": 55,
   "id": "c0e714ba",
   "metadata": {},
   "outputs": [
    {
     "name": "stdout",
     "output_type": "stream",
     "text": [
      "length of tags  50\n",
      "length of description  50\n"
     ]
    },
    {
     "data": {
      "text/plain": [
       "['Men AIR ZOOM PEGASUS 38',\n",
       " 'Men Zoom F3 Basketball Shoes',\n",
       " 'Men Printed Sneakers',\n",
       " 'Men Leather Sneakers',\n",
       " 'Men Jamming 2.0 Running Shoes',\n",
       " 'Men Blazer Court Skateboarding',\n",
       " 'Men Leather Sneakers',\n",
       " 'Men Textured Loafers',\n",
       " 'Unisex Ferrari Drift8 Sneakers',\n",
       " 'Men Leather Sneakers',\n",
       " 'Men Magnify Nitro Running',\n",
       " 'Men Deviate Nitro Running Shoe',\n",
       " 'Men Running Shoes',\n",
       " 'Men Woven Design Running Shoes',\n",
       " 'Men Leather Slip-On Sneakers',\n",
       " 'Men Training or Gym Shoes',\n",
       " 'Women Magnify Nitro Shoes',\n",
       " 'Men Go Run Hyper Burst Running',\n",
       " 'Leather Sandals',\n",
       " 'Men Woven Design Running Shoes',\n",
       " 'Men Solid Leather Formal Slip-Ons',\n",
       " 'Men GLOBAL JOGGER Sneakers',\n",
       " 'Men Astroride Forever Running',\n",
       " 'Men Perforations Leather Slip-On Sneakers',\n",
       " 'Men Leather Flat Boots',\n",
       " 'Women Eternity NITRO Shoes',\n",
       " 'Men Leather Derbys',\n",
       " 'Men Woven Design Running Shoes',\n",
       " 'Men Formal Derbys',\n",
       " 'Ustraa black',\n",
       " 'Men Mid-Top Chelsea Boots',\n",
       " 'Men Solid Formal Slip-Ons',\n",
       " 'Men Leather Formal Loafers',\n",
       " 'Men Running Shoes',\n",
       " 'Men Leather Chelsea Boots',\n",
       " 'Men Walking Shoes',\n",
       " 'Men Solid Leather Formal Derbys',\n",
       " 'Women Woven Running Shoes',\n",
       " 'Women Leather Heeled Boots',\n",
       " 'Women Leather Heeled Boots',\n",
       " 'Men Colourblocked PU Sneakers',\n",
       " 'Men Leather Driving Shoes',\n",
       " 'Women Velocity NITRO Runners',\n",
       " 'Men Black Leather Loafers',\n",
       " 'Men Textured Leather High-Top Flat Boots',\n",
       " 'Men Solid Leather Formal Loafers',\n",
       " 'Men Solid Leather Formal Slip-Ons',\n",
       " 'Women Leather Penny Loafers',\n",
       " 'Men Textured Leather Formal Loafers',\n",
       " 'Men Textured Formal Leather Loafers']"
      ]
     },
     "execution_count": 55,
     "metadata": {},
     "output_type": "execute_result"
    }
   ],
   "source": [
    "## Extracting the Product_description for page_1\n",
    "tags=driver.find_elements_by_xpath('//h4[@class=\"product-product\"]')\n",
    "print('length of tags ', len(tags))\n",
    "Product_description=[]\n",
    "for i in tags:\n",
    "    Product_description.append(i.text)\n",
    "print('length of description ', len(Product_description))\n",
    "Product_description"
   ]
  },
  {
   "cell_type": "code",
   "execution_count": 56,
   "id": "774fb4ac",
   "metadata": {},
   "outputs": [
    {
     "name": "stdout",
     "output_type": "stream",
     "text": [
      "length of tags  50\n",
      "length of Product_price  50\n"
     ]
    },
    {
     "data": {
      "text/plain": [
       "['Rs. 9770Rs. 11495(15% OFF)',\n",
       " 'Rs. 9260Rs. 10895(15% OFF)',\n",
       " 'Rs. 9099Rs. 12999(30% OFF)',\n",
       " 'Rs. 7999',\n",
       " 'Rs. 12999',\n",
       " 'Rs. 7495',\n",
       " 'Rs. 7999',\n",
       " 'Rs. 8599',\n",
       " 'Rs. 7999',\n",
       " 'Rs. 7999',\n",
       " 'Rs. 7799Rs. 12999(40% OFF)',\n",
       " 'Rs. 9749Rs. 14999(35% OFF)',\n",
       " 'Rs. 12999',\n",
       " 'Rs. 7999Rs. 9999(20% OFF)',\n",
       " 'Rs. 7999',\n",
       " 'Rs. 7999',\n",
       " 'Rs. 7799Rs. 12999(40% OFF)',\n",
       " 'Rs. 7224Rs. 8499(15% OFF)',\n",
       " 'Rs. 7599',\n",
       " 'Rs. 8799Rs. 10999(20% OFF)',\n",
       " 'Rs. 8999',\n",
       " 'Rs. 7999',\n",
       " 'Rs. 7199Rs. 7999(10% OFF)',\n",
       " 'Rs. 7999',\n",
       " 'Rs. 7999Rs. 9999(20% OFF)',\n",
       " 'Rs. 12999',\n",
       " 'Rs. 7999',\n",
       " 'Rs. 7999Rs. 9999(20% OFF)',\n",
       " 'Rs. 9999',\n",
       " 'Rs. 8990',\n",
       " 'Rs. 10500Rs. 10900(Rs. 400 OFF)',\n",
       " 'Rs. 9999',\n",
       " 'Rs. 7499',\n",
       " 'Rs. 7699',\n",
       " 'Rs. 10710Rs. 11900(Rs. 1190 OFF)',\n",
       " 'Rs. 7199Rs. 8999(20% OFF)',\n",
       " 'Rs. 9999',\n",
       " 'Rs. 7199Rs. 8999(20% OFF)',\n",
       " 'Rs. 11473Rs. 14900(23% OFF)',\n",
       " 'Rs. 12325Rs. 14500(15% OFF)',\n",
       " 'Rs. 9999',\n",
       " 'Rs. 9999',\n",
       " 'Rs. 7149Rs. 10999(35% OFF)',\n",
       " 'Rs. 8490',\n",
       " 'Rs. 8399Rs. 11999(30% OFF)',\n",
       " 'Rs. 10791Rs. 11990(10% OFF)',\n",
       " 'Rs. 9999',\n",
       " 'Rs. 7191Rs. 7990(10% OFF)',\n",
       " 'Rs. 8990',\n",
       " 'Rs. 8990']"
      ]
     },
     "execution_count": 56,
     "metadata": {},
     "output_type": "execute_result"
    }
   ],
   "source": [
    "## Extracting Product_price for page_1\n",
    "tags=driver.find_elements_by_xpath('//div[@class=\"product-price\"]')\n",
    "print('length of tags ', len(tags))\n",
    "Product_price=[]\n",
    "for i in tags:\n",
    "    Product_price.append(i.text)\n",
    "print('length of Product_price ', len(Product_price))\n",
    "Product_price"
   ]
  },
  {
   "cell_type": "code",
   "execution_count": 57,
   "id": "8b0fd896",
   "metadata": {},
   "outputs": [],
   "source": [
    "## clicking on next button\n",
    "next_button=driver.find_element_by_xpath('/html/body/div[2]/div/div[1]/main/div[3]/div[2]/div/div[2]/section/div[2]/ul/li[12]/a')\n",
    "next_button.click()"
   ]
  },
  {
   "cell_type": "code",
   "execution_count": 58,
   "id": "d077aa9a",
   "metadata": {},
   "outputs": [
    {
     "name": "stdout",
     "output_type": "stream",
     "text": [
      "length of tags  50\n"
     ]
    },
    {
     "data": {
      "text/plain": [
       "['Nike',\n",
       " 'Nike',\n",
       " 'ALDO',\n",
       " 'Tommy Hilfiger',\n",
       " 'Puma',\n",
       " 'Nike',\n",
       " 'Tommy Hilfiger',\n",
       " 'Tommy Hilfiger',\n",
       " 'PUMA Motorsport',\n",
       " 'Tommy Hilfiger',\n",
       " 'Puma',\n",
       " 'Puma',\n",
       " 'Puma',\n",
       " 'New Balance',\n",
       " 'RARE RABBIT',\n",
       " 'Puma',\n",
       " 'Puma',\n",
       " 'Skechers',\n",
       " 'Tommy Hilfiger',\n",
       " 'New Balance',\n",
       " 'Hush Puppies',\n",
       " 'Skechers',\n",
       " 'Reebok',\n",
       " 'Hush Puppies',\n",
       " 'RARE RABBIT',\n",
       " 'Puma',\n",
       " 'Hush Puppies',\n",
       " 'New Balance',\n",
       " 'Hush Puppies',\n",
       " 'DAVINCHI',\n",
       " 'Saint G',\n",
       " 'Hush Puppies',\n",
       " 'Clarks',\n",
       " 'Xtep',\n",
       " 'Saint G',\n",
       " 'Bugatti',\n",
       " 'Hush Puppies',\n",
       " 'New Balance',\n",
       " 'Saint G',\n",
       " 'Saint G',\n",
       " 'ASICS',\n",
       " 'Geox',\n",
       " 'Puma',\n",
       " 'J.FONTINI',\n",
       " 'Bugatti',\n",
       " 'Heel & Buckle London',\n",
       " 'Hush Puppies',\n",
       " 'MANGO',\n",
       " 'J.FONTINI',\n",
       " 'DAVINCHI',\n",
       " 'DAVINCHI',\n",
       " 'Saint G',\n",
       " 'Tommy Hilfiger',\n",
       " 'Bugatti',\n",
       " 'Bugatti',\n",
       " 'Geox',\n",
       " 'Columbia',\n",
       " 'Clarks',\n",
       " 'New Balance',\n",
       " 'Columbia',\n",
       " 'J.FONTINI',\n",
       " 'Columbia',\n",
       " 'New Balance',\n",
       " 'J.FONTINI',\n",
       " 'Columbia',\n",
       " 'J.FONTINI',\n",
       " 'Heel & Buckle London',\n",
       " 'Saint G',\n",
       " 'RARE RABBIT',\n",
       " 'Clarks',\n",
       " 'J.FONTINI',\n",
       " 'J.FONTINI',\n",
       " 'Saint G',\n",
       " 'Bugatti',\n",
       " 'Geox',\n",
       " 'Geox',\n",
       " 'Royal Enfield',\n",
       " 'Geox',\n",
       " 'Clarks',\n",
       " 'DAVINCHI',\n",
       " 'DAVINCHI',\n",
       " 'DAVINCHI',\n",
       " 'DAVINCHI',\n",
       " 'Pavers England',\n",
       " 'New Balance',\n",
       " 'Pavers England',\n",
       " 'Pavers England',\n",
       " 'Saint G',\n",
       " 'Cole Haan',\n",
       " 'ADIDAS',\n",
       " 'Geox',\n",
       " 'Cole Haan',\n",
       " 'Saint G',\n",
       " 'Saint G',\n",
       " 'Saint G',\n",
       " 'ALDO',\n",
       " 'DAVINCHI',\n",
       " 'ASICS',\n",
       " 'Cole Haan',\n",
       " 'Pavers England']"
      ]
     },
     "execution_count": 58,
     "metadata": {},
     "output_type": "execute_result"
    }
   ],
   "source": [
    "## Extracting Brand name for page2\n",
    "tags=driver.find_elements_by_xpath('//h3[@class=\"product-brand\"]')\n",
    "print('length of tags ', len(tags))\n",
    "for i in tags:\n",
    "    Brand_name.append(i.text)\n",
    "Brand_name"
   ]
  },
  {
   "cell_type": "code",
   "execution_count": 59,
   "id": "53752de2",
   "metadata": {},
   "outputs": [
    {
     "data": {
      "text/plain": [
       "100"
      ]
     },
     "execution_count": 59,
     "metadata": {},
     "output_type": "execute_result"
    }
   ],
   "source": [
    "len(Brand_name)"
   ]
  },
  {
   "cell_type": "code",
   "execution_count": 60,
   "id": "2cf85684",
   "metadata": {},
   "outputs": [
    {
     "name": "stdout",
     "output_type": "stream",
     "text": [
      "length of tags  50\n",
      "length of description  100\n"
     ]
    },
    {
     "data": {
      "text/plain": [
       "['Men AIR ZOOM PEGASUS 38',\n",
       " 'Men Zoom F3 Basketball Shoes',\n",
       " 'Men Printed Sneakers',\n",
       " 'Men Leather Sneakers',\n",
       " 'Men Jamming 2.0 Running Shoes',\n",
       " 'Men Blazer Court Skateboarding',\n",
       " 'Men Leather Sneakers',\n",
       " 'Men Textured Loafers',\n",
       " 'Unisex Ferrari Drift8 Sneakers',\n",
       " 'Men Leather Sneakers',\n",
       " 'Men Magnify Nitro Running',\n",
       " 'Men Deviate Nitro Running Shoe',\n",
       " 'Men Running Shoes',\n",
       " 'Men Woven Design Running Shoes',\n",
       " 'Men Leather Slip-On Sneakers',\n",
       " 'Men Training or Gym Shoes',\n",
       " 'Women Magnify Nitro Shoes',\n",
       " 'Men Go Run Hyper Burst Running',\n",
       " 'Leather Sandals',\n",
       " 'Men Woven Design Running Shoes',\n",
       " 'Men Solid Leather Formal Slip-Ons',\n",
       " 'Men GLOBAL JOGGER Sneakers',\n",
       " 'Men Astroride Forever Running',\n",
       " 'Men Perforations Leather Slip-On Sneakers',\n",
       " 'Men Leather Flat Boots',\n",
       " 'Women Eternity NITRO Shoes',\n",
       " 'Men Leather Derbys',\n",
       " 'Men Woven Design Running Shoes',\n",
       " 'Men Formal Derbys',\n",
       " 'Ustraa black',\n",
       " 'Men Mid-Top Chelsea Boots',\n",
       " 'Men Solid Formal Slip-Ons',\n",
       " 'Men Leather Formal Loafers',\n",
       " 'Men Running Shoes',\n",
       " 'Men Leather Chelsea Boots',\n",
       " 'Men Walking Shoes',\n",
       " 'Men Solid Leather Formal Derbys',\n",
       " 'Women Woven Running Shoes',\n",
       " 'Women Leather Heeled Boots',\n",
       " 'Women Leather Heeled Boots',\n",
       " 'Men Colourblocked PU Sneakers',\n",
       " 'Men Leather Driving Shoes',\n",
       " 'Women Velocity NITRO Runners',\n",
       " 'Men Black Leather Loafers',\n",
       " 'Men Textured Leather High-Top Flat Boots',\n",
       " 'Men Solid Leather Formal Loafers',\n",
       " 'Men Solid Leather Formal Slip-Ons',\n",
       " 'Women Leather Penny Loafers',\n",
       " 'Men Textured Leather Formal Loafers',\n",
       " 'Men Textured Formal Leather Loafers',\n",
       " 'Men Textured Formal Leather Loafers',\n",
       " 'Suede High-Top Flatform Heeled Boots',\n",
       " 'Women CLEAT Textured Sneakers',\n",
       " 'Leather Heeled Knee Boots',\n",
       " 'Men Black Walking Shoes',\n",
       " 'Men Leather Driving Shoes',\n",
       " 'NEWTON RIDGE PLUS II WATERPROOF',\n",
       " 'Men Solid Leather Formal Brogues',\n",
       " 'Women Woven Running Shoes',\n",
       " 'Men FACET OUTDRY Trekking Shoe',\n",
       " 'Men Textured Leather Loafers',\n",
       " 'Women REDMOND V2 TrekkingShoe',\n",
       " 'Men VAYGO Running Shoes',\n",
       " 'Men Textured Leather Loafers',\n",
       " 'PEAKFREAK OUTDRY Trekking Shoe',\n",
       " 'Men Solid Loafers',\n",
       " 'Men Formal Leather Derby',\n",
       " 'Striped Suede Flatform Heeled Boots',\n",
       " 'Men Textured Leather Loafers',\n",
       " 'Men Solid Formal Leather Derbys',\n",
       " 'Men Leather Formal Loafers',\n",
       " 'Men Leather Formal Loafers',\n",
       " 'Women Leather Mules',\n",
       " 'Men Sneakers',\n",
       " 'Women Solid Leather Pumps',\n",
       " 'Women Leather Pumps',\n",
       " 'Cabo WP Riding Boots',\n",
       " 'Women Solid Leather Pumps',\n",
       " 'Men Solid Leather Formal Loafers',\n",
       " 'Solid Slip On Shoes',\n",
       " 'Men Formal Leather Slip-Ons',\n",
       " 'Men Solid Leather Formal Derbys',\n",
       " 'Men Textured Formal Leather Loafers',\n",
       " 'Men Leather Driving Shoes',\n",
       " 'Men Fuelcell Running Shoes',\n",
       " 'Men Printed Loafers',\n",
       " 'Men Textured Leather Driving Shoes',\n",
       " 'Women Leather Sneakers',\n",
       " 'Women Sneakers',\n",
       " 'Men X9000L3 Running Shoes',\n",
       " 'Women Solid Leather Ballerinas',\n",
       " 'Women Solid Leather Ballerinas',\n",
       " 'Women Leather Heeled Boots',\n",
       " 'Women Leather Heeled Boots',\n",
       " 'Women Leather Heeled Boots',\n",
       " 'Leather Slim Heels',\n",
       " 'Men Solid Leather Formal Loafers',\n",
       " 'Women Running Shoes',\n",
       " 'Women Leather Loafers',\n",
       " 'Men Solid Leather Formal Loafers']"
      ]
     },
     "execution_count": 60,
     "metadata": {},
     "output_type": "execute_result"
    }
   ],
   "source": [
    "## Extracting the Product_description for page_2\n",
    "tags=driver.find_elements_by_xpath('//h4[@class=\"product-product\"]')\n",
    "print('length of tags ', len(tags))\n",
    "\n",
    "for i in tags:\n",
    "    Product_description.append(i.text)\n",
    "print('length of description ', len(Product_description))\n",
    "Product_description"
   ]
  },
  {
   "cell_type": "code",
   "execution_count": 61,
   "id": "8ae39540",
   "metadata": {},
   "outputs": [
    {
     "name": "stdout",
     "output_type": "stream",
     "text": [
      "length of tags  50\n",
      "length of Product_price  100\n"
     ]
    },
    {
     "data": {
      "text/plain": [
       "['Rs. 9770Rs. 11495(15% OFF)',\n",
       " 'Rs. 9260Rs. 10895(15% OFF)',\n",
       " 'Rs. 9099Rs. 12999(30% OFF)',\n",
       " 'Rs. 7999',\n",
       " 'Rs. 12999',\n",
       " 'Rs. 7495',\n",
       " 'Rs. 7999',\n",
       " 'Rs. 8599',\n",
       " 'Rs. 7999',\n",
       " 'Rs. 7999',\n",
       " 'Rs. 7799Rs. 12999(40% OFF)',\n",
       " 'Rs. 9749Rs. 14999(35% OFF)',\n",
       " 'Rs. 12999',\n",
       " 'Rs. 7999Rs. 9999(20% OFF)',\n",
       " 'Rs. 7999',\n",
       " 'Rs. 7999',\n",
       " 'Rs. 7799Rs. 12999(40% OFF)',\n",
       " 'Rs. 7224Rs. 8499(15% OFF)',\n",
       " 'Rs. 7599',\n",
       " 'Rs. 8799Rs. 10999(20% OFF)',\n",
       " 'Rs. 8999',\n",
       " 'Rs. 7999',\n",
       " 'Rs. 7199Rs. 7999(10% OFF)',\n",
       " 'Rs. 7999',\n",
       " 'Rs. 7999Rs. 9999(20% OFF)',\n",
       " 'Rs. 12999',\n",
       " 'Rs. 7999',\n",
       " 'Rs. 7999Rs. 9999(20% OFF)',\n",
       " 'Rs. 9999',\n",
       " 'Rs. 8990',\n",
       " 'Rs. 10500Rs. 10900(Rs. 400 OFF)',\n",
       " 'Rs. 9999',\n",
       " 'Rs. 7499',\n",
       " 'Rs. 7699',\n",
       " 'Rs. 10710Rs. 11900(Rs. 1190 OFF)',\n",
       " 'Rs. 7199Rs. 8999(20% OFF)',\n",
       " 'Rs. 9999',\n",
       " 'Rs. 7199Rs. 8999(20% OFF)',\n",
       " 'Rs. 11473Rs. 14900(23% OFF)',\n",
       " 'Rs. 12325Rs. 14500(15% OFF)',\n",
       " 'Rs. 9999',\n",
       " 'Rs. 9999',\n",
       " 'Rs. 7149Rs. 10999(35% OFF)',\n",
       " 'Rs. 8490',\n",
       " 'Rs. 8399Rs. 11999(30% OFF)',\n",
       " 'Rs. 10791Rs. 11990(10% OFF)',\n",
       " 'Rs. 9999',\n",
       " 'Rs. 7191Rs. 7990(10% OFF)',\n",
       " 'Rs. 8990',\n",
       " 'Rs. 8990',\n",
       " 'Rs. 8990',\n",
       " 'Rs. 11475Rs. 13500(15% OFF)',\n",
       " 'Rs. 7309Rs. 8599(15% OFF)',\n",
       " 'Rs. 9099Rs. 12999(30% OFF)',\n",
       " 'Rs. 7199Rs. 8999(20% OFF)',\n",
       " 'Rs. 9499',\n",
       " 'Rs. 8499',\n",
       " 'Rs. 7999',\n",
       " 'Rs. 10399Rs. 12999(20% OFF)',\n",
       " 'Rs. 12999',\n",
       " 'Rs. 7990',\n",
       " 'Rs. 7999',\n",
       " 'Rs. 7999Rs. 9999(20% OFF)',\n",
       " 'Rs. 8490',\n",
       " 'Rs. 9999',\n",
       " 'Rs. 8990',\n",
       " 'Rs. 7191Rs. 7990(10% OFF)',\n",
       " 'Rs. 8415Rs. 9900(15% OFF)',\n",
       " 'Rs. 7149Rs. 10999(35% OFF)',\n",
       " 'Rs. 9999',\n",
       " 'Rs. 7490',\n",
       " 'Rs. 7490',\n",
       " 'Rs. 7216Rs. 8200(12% OFF)',\n",
       " 'Rs. 8799Rs. 10999(20% OFF)',\n",
       " 'Rs. 7999',\n",
       " 'Rs. 8999',\n",
       " 'Rs. 8500',\n",
       " 'Rs. 10990',\n",
       " 'Rs. 7999',\n",
       " 'Rs. 7990',\n",
       " 'Rs. 8990',\n",
       " 'Rs. 9990',\n",
       " 'Rs. 8990',\n",
       " 'Rs. 7499',\n",
       " 'Rs. 9599Rs. 11999(20% OFF)',\n",
       " 'Rs. 11999',\n",
       " 'Rs. 9999',\n",
       " 'Rs. 7110Rs. 7900(10% OFF)',\n",
       " 'Rs. 7799Rs. 12999(40% OFF)',\n",
       " 'Rs. 11999',\n",
       " 'Rs. 8999',\n",
       " 'Rs. 9799Rs. 13999(30% OFF)',\n",
       " 'Rs. 12325Rs. 14500(15% OFF)',\n",
       " 'Rs. 14025Rs. 16500(15% OFF)',\n",
       " 'Rs. 11815Rs. 13900(15% OFF)',\n",
       " 'Rs. 8399Rs. 11999(30% OFF)',\n",
       " 'Rs. 8490',\n",
       " 'Rs. 7999',\n",
       " 'Rs. 11899Rs. 16999(30% OFF)',\n",
       " 'Rs. 7999']"
      ]
     },
     "execution_count": 61,
     "metadata": {},
     "output_type": "execute_result"
    }
   ],
   "source": [
    "## Extracting Product_price for page_2\n",
    "tags=driver.find_elements_by_xpath('//div[@class=\"product-price\"]')\n",
    "print('length of tags ', len(tags))\n",
    "\n",
    "for i in tags:\n",
    "    Product_price.append(i.text)\n",
    "print('length of Product_price ', len(Product_price))\n",
    "Product_price"
   ]
  },
  {
   "cell_type": "markdown",
   "id": "5fba3ba1",
   "metadata": {},
   "source": [
    "## Creating A DATAFRAME"
   ]
  },
  {
   "cell_type": "code",
   "execution_count": 62,
   "id": "bf933d82",
   "metadata": {},
   "outputs": [
    {
     "data": {
      "text/html": [
       "<div>\n",
       "<style scoped>\n",
       "    .dataframe tbody tr th:only-of-type {\n",
       "        vertical-align: middle;\n",
       "    }\n",
       "\n",
       "    .dataframe tbody tr th {\n",
       "        vertical-align: top;\n",
       "    }\n",
       "\n",
       "    .dataframe thead th {\n",
       "        text-align: right;\n",
       "    }\n",
       "</style>\n",
       "<table border=\"1\" class=\"dataframe\">\n",
       "  <thead>\n",
       "    <tr style=\"text-align: right;\">\n",
       "      <th></th>\n",
       "      <th>Brand_name</th>\n",
       "      <th>Product_description</th>\n",
       "      <th>Product_price</th>\n",
       "    </tr>\n",
       "  </thead>\n",
       "  <tbody>\n",
       "    <tr>\n",
       "      <th>0</th>\n",
       "      <td>Nike</td>\n",
       "      <td>Men AIR ZOOM PEGASUS 38</td>\n",
       "      <td>Rs. 9770Rs. 11495(15% OFF)</td>\n",
       "    </tr>\n",
       "    <tr>\n",
       "      <th>1</th>\n",
       "      <td>Nike</td>\n",
       "      <td>Men Zoom F3 Basketball Shoes</td>\n",
       "      <td>Rs. 9260Rs. 10895(15% OFF)</td>\n",
       "    </tr>\n",
       "    <tr>\n",
       "      <th>2</th>\n",
       "      <td>ALDO</td>\n",
       "      <td>Men Printed Sneakers</td>\n",
       "      <td>Rs. 9099Rs. 12999(30% OFF)</td>\n",
       "    </tr>\n",
       "    <tr>\n",
       "      <th>3</th>\n",
       "      <td>Tommy Hilfiger</td>\n",
       "      <td>Men Leather Sneakers</td>\n",
       "      <td>Rs. 7999</td>\n",
       "    </tr>\n",
       "    <tr>\n",
       "      <th>4</th>\n",
       "      <td>Puma</td>\n",
       "      <td>Men Jamming 2.0 Running Shoes</td>\n",
       "      <td>Rs. 12999</td>\n",
       "    </tr>\n",
       "    <tr>\n",
       "      <th>...</th>\n",
       "      <td>...</td>\n",
       "      <td>...</td>\n",
       "      <td>...</td>\n",
       "    </tr>\n",
       "    <tr>\n",
       "      <th>95</th>\n",
       "      <td>ALDO</td>\n",
       "      <td>Leather Slim Heels</td>\n",
       "      <td>Rs. 8399Rs. 11999(30% OFF)</td>\n",
       "    </tr>\n",
       "    <tr>\n",
       "      <th>96</th>\n",
       "      <td>DAVINCHI</td>\n",
       "      <td>Men Solid Leather Formal Loafers</td>\n",
       "      <td>Rs. 8490</td>\n",
       "    </tr>\n",
       "    <tr>\n",
       "      <th>97</th>\n",
       "      <td>ASICS</td>\n",
       "      <td>Women Running Shoes</td>\n",
       "      <td>Rs. 7999</td>\n",
       "    </tr>\n",
       "    <tr>\n",
       "      <th>98</th>\n",
       "      <td>Cole Haan</td>\n",
       "      <td>Women Leather Loafers</td>\n",
       "      <td>Rs. 11899Rs. 16999(30% OFF)</td>\n",
       "    </tr>\n",
       "    <tr>\n",
       "      <th>99</th>\n",
       "      <td>Pavers England</td>\n",
       "      <td>Men Solid Leather Formal Loafers</td>\n",
       "      <td>Rs. 7999</td>\n",
       "    </tr>\n",
       "  </tbody>\n",
       "</table>\n",
       "<p>100 rows × 3 columns</p>\n",
       "</div>"
      ],
      "text/plain": [
       "        Brand_name               Product_description  \\\n",
       "0             Nike           Men AIR ZOOM PEGASUS 38   \n",
       "1             Nike      Men Zoom F3 Basketball Shoes   \n",
       "2             ALDO              Men Printed Sneakers   \n",
       "3   Tommy Hilfiger              Men Leather Sneakers   \n",
       "4             Puma     Men Jamming 2.0 Running Shoes   \n",
       "..             ...                               ...   \n",
       "95            ALDO                Leather Slim Heels   \n",
       "96        DAVINCHI  Men Solid Leather Formal Loafers   \n",
       "97           ASICS               Women Running Shoes   \n",
       "98       Cole Haan             Women Leather Loafers   \n",
       "99  Pavers England  Men Solid Leather Formal Loafers   \n",
       "\n",
       "                  Product_price  \n",
       "0    Rs. 9770Rs. 11495(15% OFF)  \n",
       "1    Rs. 9260Rs. 10895(15% OFF)  \n",
       "2    Rs. 9099Rs. 12999(30% OFF)  \n",
       "3                      Rs. 7999  \n",
       "4                     Rs. 12999  \n",
       "..                          ...  \n",
       "95   Rs. 8399Rs. 11999(30% OFF)  \n",
       "96                     Rs. 8490  \n",
       "97                     Rs. 7999  \n",
       "98  Rs. 11899Rs. 16999(30% OFF)  \n",
       "99                     Rs. 7999  \n",
       "\n",
       "[100 rows x 3 columns]"
      ]
     },
     "execution_count": 62,
     "metadata": {},
     "output_type": "execute_result"
    }
   ],
   "source": [
    "df7=pd.DataFrame()\n",
    "df7['Brand_name']=Brand_name\n",
    "df7['Product_description']=Product_description\n",
    "df7['Product_price']=Product_price\n",
    "df7"
   ]
  },
  {
   "cell_type": "code",
   "execution_count": null,
   "id": "b6899b00",
   "metadata": {},
   "outputs": [],
   "source": []
  },
  {
   "cell_type": "markdown",
   "id": "d7979740",
   "metadata": {},
   "source": [
    "# Problem Statement:\n",
    "\n",
    "##### Q8: Go to webpage https://www.amazon.in/\n",
    "Enter “Laptop” in the search field and then click the search icon.\n",
    "Then set CPU Type filter to “Intel Core i7”.\n",
    "\n",
    "After setting the filters scrape first 10 laptops data. You have to scrape 3 attributesfor each laptop:\n",
    "1. Title\n",
    "2. Ratings\n",
    "3. Price\n"
   ]
  },
  {
   "cell_type": "code",
   "execution_count": 2,
   "id": "b5059394",
   "metadata": {},
   "outputs": [],
   "source": [
    "import pandas as pd\n",
    "import numpy as np\n",
    "from selenium import webdriver\n",
    "import warnings\n",
    "warnings.filterwarnings('ignore')\n"
   ]
  },
  {
   "cell_type": "code",
   "execution_count": 3,
   "id": "48f538da",
   "metadata": {},
   "outputs": [],
   "source": [
    "from selenium.webdriver.common.action_chains import ActionChains\n",
    "from selenium.webdriver.common.keys import Keys"
   ]
  },
  {
   "cell_type": "code",
   "execution_count": 4,
   "id": "16c90406",
   "metadata": {},
   "outputs": [
    {
     "data": {
      "text/plain": [
       "<selenium.webdriver.chrome.webdriver.WebDriver (session=\"7f73da4a789cdef7364661df426a615b\")>"
      ]
     },
     "execution_count": 4,
     "metadata": {},
     "output_type": "execute_result"
    }
   ],
   "source": [
    "driver=webdriver.Chrome('chromedriver.exe')\n",
    "driver.maximize_window()\n",
    "driver"
   ]
  },
  {
   "cell_type": "markdown",
   "id": "25a6a369",
   "metadata": {},
   "source": [
    "## Fetching the webpage"
   ]
  },
  {
   "cell_type": "code",
   "execution_count": 5,
   "id": "51852bc2",
   "metadata": {},
   "outputs": [],
   "source": [
    "driver.get('http://www.amazon.in/')\n",
    "driver.implicitly_wait(20)"
   ]
  },
  {
   "cell_type": "code",
   "execution_count": 6,
   "id": "e7838ffa",
   "metadata": {},
   "outputs": [],
   "source": [
    "# find the element for search button and then search laptops\n",
    "driver.find_element_by_xpath('//input[@id=\"twotabsearchtextbox\"]').send_keys('Laptops')"
   ]
  },
  {
   "cell_type": "code",
   "execution_count": 7,
   "id": "e9d228fc",
   "metadata": {},
   "outputs": [],
   "source": [
    "# find the element for clicking the search button\n",
    "driver.find_element_by_xpath('//input[@type=\"submit\"]').click()"
   ]
  },
  {
   "cell_type": "markdown",
   "id": "0419768f",
   "metadata": {},
   "source": [
    "## Applying the 'i7 core CPU' filter"
   ]
  },
  {
   "cell_type": "code",
   "execution_count": 8,
   "id": "4e27dba7",
   "metadata": {},
   "outputs": [],
   "source": [
    "# find the element for i7 core and then click on it\n",
    "driver.find_element_by_xpath('/html/body/div[1]/div[2]/div[1]/div[2]/div/div[3]/span/div[1]/div/div/div[6]/ul[3]/li[12]/span/a/div/label/i').click()"
   ]
  },
  {
   "cell_type": "markdown",
   "id": "1adf8094",
   "metadata": {},
   "source": [
    "# Extracting The Global Rating:"
   ]
  },
  {
   "cell_type": "code",
   "execution_count": 9,
   "id": "01b7b17e",
   "metadata": {},
   "outputs": [
    {
     "name": "stdout",
     "output_type": "stream",
     "text": [
      "length of rating tags is :  26\n",
      "First 10 Laptop's Ratings\n",
      "length of ratings is :  10\n",
      "['71', '37', '60', '13', '21', '1', '36', '71', '57', '128']\n"
     ]
    }
   ],
   "source": [
    "# find the element of global rating:\n",
    "tags=driver.find_elements_by_xpath('//span[@class=\"a-size-base s-underline-text\"]')\n",
    "print('length of rating tags is : ', len(tags))\n",
    "ratings=[]\n",
    "for i in tags:\n",
    "    ratings.append(i.text)\n",
    "print(\"First 10 Laptop's Ratings\")\n",
    "ratings=ratings[:10]\n",
    "print('length of ratings is : ', len(ratings))\n",
    "print(ratings)"
   ]
  },
  {
   "cell_type": "markdown",
   "id": "e3cfbe03",
   "metadata": {},
   "source": [
    "# Extracting The First 10 Laptop's Titles"
   ]
  },
  {
   "cell_type": "code",
   "execution_count": 10,
   "id": "ea61d9f3",
   "metadata": {},
   "outputs": [
    {
     "name": "stdout",
     "output_type": "stream",
     "text": [
      "length of rating tags is :  30\n",
      "First 10 Laptop's Titles\n",
      "length of titles is :  10\n",
      "['LG Gram 16 inches Intel Evo 11th Gen Core i7 Ultra-Light Laptop (16 GB RAM, 512 GB SSD, New Windows 11 Home Preload, Iris Xe Graphics, USC -C x 2 (with Power), 1.19 kg, 16Z90P-G.AH85A2, Black)', 'Fujitsu UH-X 11th Gen Intel i7 Core 13.3” (33.78cm) FHD IPS 400Nits Thin & Light Laptop (16GB/512GB SSD/Windows 11/Office 2021/Iris Xe Graphics/Backlit Kb/ Fingerprint Reader/Black/878gms), 4ZR1F38024', 'HP Pavilion x360 11th Gen Intel Core i7 14 inches FHD, IPS, Convertible Laptop (16 GB RAM/512GB SSD, B&O/Win 11 Home/Backlit keyboard/FPR/ Alexa-Built in/MS Office/Natural Silver/1.52 Kg) -14-dy1013TU', 'ASUS VivoBook 14 (2021), 14-inch (35.56 cms) FHD, Intel Core i7-1065G7 10th Gen, Thin and Light Laptop (16GB/512GB SSD/Integrated Graphics/Office 2021/Windows 11/Silver/1.6 Kg), X415JA-EK701WS', 'ASUS TUF Gaming F15 (2021) 15.6-inch (39.62 cms) FHD 144Hz, Intel Core i7-11800H 11th Gen, RTX 3050 Ti 4GB Graphics, Gaming Laptop (16GB/1TB SSD/Windows 10/Gray/2.3 Kg), FX566HEB-HN248T', 'ASUS TUF Gaming F15 (2021), 15.6\" (39.62 cms) FHD 144Hz, Intel Core i7-11600H 11th Gen, 4GB RTX 3050 Graphics, Gaming Laptop (16GB/512GB SSD/Windows 10/Office 2019/Gray/2.3 Kg), FX566HCB-HN299TS', 'Lenovo ThinkBook 13s Intel 11th Gen Core i7 13.3\"(33.78 cm) WQXGA IPS 300 nits 100% sRGB Dolby Vision Thin and Light Laptop (16GB/512GB SSD/Windows 10/MS Office/FPR/Mineral Grey/1.26 Kg), 20V9A05FIH', 'LG Gram 14 inches Ultra-Light Intel Evo 11th Gen Core i7 Laptop (16 GB RAM, 512 GB SSD, New Windows 11 Home Preload, Iris Xe Graphics, USC -C x 2 (with Power), 0.999Kg, (14Z90P-G.AH85A2, Black)', 'MSI GF75 Thin Gaming, Intel Core i7-10750H, 44cm IPS-Level 144Hz Panel Laptop (8GB/512GB NVMe SSD/Windows 10 Home/Nvidia GeForce GTX 1650/GDDR6 4GB/Black/2.2kg) 10SCXR-654IN', 'LG Gram Intel Evo 11th Gen Core i7 17 inches Ultra-Light Laptop (16 GB RAM, 512 GB SSD, New Windows 11 Home Preload, Iris Xe Graphics, USC -C x 2 (with Power), 1.35 kg, 17Z90P-G.AH85A2, Black)']\n"
     ]
    }
   ],
   "source": [
    "# find the elements of titles\n",
    "tags=driver.find_elements_by_xpath('//span[@class=\"a-size-medium a-color-base a-text-normal\"]')\n",
    "print('length of rating tags is : ', len(tags))\n",
    "titles=[]\n",
    "for i in tags:\n",
    "    titles.append(i.text)\n",
    "print(\"First 10 Laptop's Titles\")\n",
    "titles=titles[:10]\n",
    "print('length of titles is : ', len(titles))\n",
    "print(titles)"
   ]
  },
  {
   "cell_type": "markdown",
   "id": "6c9237cf",
   "metadata": {},
   "source": [
    "# Extracting The Price:"
   ]
  },
  {
   "cell_type": "code",
   "execution_count": 11,
   "id": "1a4454e2",
   "metadata": {},
   "outputs": [
    {
     "name": "stdout",
     "output_type": "stream",
     "text": [
      "The length  of the tags is : 30\n",
      "Price for first 10 Laptops\n",
      "The length of Price list is : 10\n",
      "['92,999', '92,490', '86,990', '59,990', '96,990', '88,990', '84,990', '87,999', '70,000', '99,499']\n"
     ]
    }
   ],
   "source": [
    "# find the element of price tag\n",
    "tags=driver.find_elements_by_xpath('//span[@class=\"a-price\"]')\n",
    "print('The length  of the tags is :', len(tags))\n",
    "price=[]\n",
    "for i in tags:\n",
    "    price.append(i.text.replace('₹',''))\n",
    "print(\"Price for first 10 Laptops\")\n",
    "price=price[:10]\n",
    "print(\"The length of Price list is :\", len(price))\n",
    "print(price)"
   ]
  },
  {
   "cell_type": "markdown",
   "id": "a9a59dc4",
   "metadata": {},
   "source": [
    "# Creating A DataFrame"
   ]
  },
  {
   "cell_type": "code",
   "execution_count": 12,
   "id": "f6101fbf",
   "metadata": {},
   "outputs": [
    {
     "data": {
      "text/html": [
       "<div>\n",
       "<style scoped>\n",
       "    .dataframe tbody tr th:only-of-type {\n",
       "        vertical-align: middle;\n",
       "    }\n",
       "\n",
       "    .dataframe tbody tr th {\n",
       "        vertical-align: top;\n",
       "    }\n",
       "\n",
       "    .dataframe thead th {\n",
       "        text-align: right;\n",
       "    }\n",
       "</style>\n",
       "<table border=\"1\" class=\"dataframe\">\n",
       "  <thead>\n",
       "    <tr style=\"text-align: right;\">\n",
       "      <th></th>\n",
       "      <th>titles</th>\n",
       "      <th>price</th>\n",
       "      <th>global_ratings</th>\n",
       "    </tr>\n",
       "  </thead>\n",
       "  <tbody>\n",
       "    <tr>\n",
       "      <th>0</th>\n",
       "      <td>LG Gram 16 inches Intel Evo 11th Gen Core i7 U...</td>\n",
       "      <td>92,999</td>\n",
       "      <td>71</td>\n",
       "    </tr>\n",
       "    <tr>\n",
       "      <th>1</th>\n",
       "      <td>Fujitsu UH-X 11th Gen Intel i7 Core 13.3” (33....</td>\n",
       "      <td>92,490</td>\n",
       "      <td>37</td>\n",
       "    </tr>\n",
       "    <tr>\n",
       "      <th>2</th>\n",
       "      <td>HP Pavilion x360 11th Gen Intel Core i7 14 inc...</td>\n",
       "      <td>86,990</td>\n",
       "      <td>60</td>\n",
       "    </tr>\n",
       "    <tr>\n",
       "      <th>3</th>\n",
       "      <td>ASUS VivoBook 14 (2021), 14-inch (35.56 cms) F...</td>\n",
       "      <td>59,990</td>\n",
       "      <td>13</td>\n",
       "    </tr>\n",
       "    <tr>\n",
       "      <th>4</th>\n",
       "      <td>ASUS TUF Gaming F15 (2021) 15.6-inch (39.62 cm...</td>\n",
       "      <td>96,990</td>\n",
       "      <td>21</td>\n",
       "    </tr>\n",
       "    <tr>\n",
       "      <th>5</th>\n",
       "      <td>ASUS TUF Gaming F15 (2021), 15.6\" (39.62 cms) ...</td>\n",
       "      <td>88,990</td>\n",
       "      <td>1</td>\n",
       "    </tr>\n",
       "    <tr>\n",
       "      <th>6</th>\n",
       "      <td>Lenovo ThinkBook 13s Intel 11th Gen Core i7 13...</td>\n",
       "      <td>84,990</td>\n",
       "      <td>36</td>\n",
       "    </tr>\n",
       "    <tr>\n",
       "      <th>7</th>\n",
       "      <td>LG Gram 14 inches Ultra-Light Intel Evo 11th G...</td>\n",
       "      <td>87,999</td>\n",
       "      <td>71</td>\n",
       "    </tr>\n",
       "    <tr>\n",
       "      <th>8</th>\n",
       "      <td>MSI GF75 Thin Gaming, Intel Core i7-10750H, 44...</td>\n",
       "      <td>70,000</td>\n",
       "      <td>57</td>\n",
       "    </tr>\n",
       "    <tr>\n",
       "      <th>9</th>\n",
       "      <td>LG Gram Intel Evo 11th Gen Core i7 17 inches U...</td>\n",
       "      <td>99,499</td>\n",
       "      <td>128</td>\n",
       "    </tr>\n",
       "  </tbody>\n",
       "</table>\n",
       "</div>"
      ],
      "text/plain": [
       "                                              titles   price global_ratings\n",
       "0  LG Gram 16 inches Intel Evo 11th Gen Core i7 U...  92,999             71\n",
       "1  Fujitsu UH-X 11th Gen Intel i7 Core 13.3” (33....  92,490             37\n",
       "2  HP Pavilion x360 11th Gen Intel Core i7 14 inc...  86,990             60\n",
       "3  ASUS VivoBook 14 (2021), 14-inch (35.56 cms) F...  59,990             13\n",
       "4  ASUS TUF Gaming F15 (2021) 15.6-inch (39.62 cm...  96,990             21\n",
       "5  ASUS TUF Gaming F15 (2021), 15.6\" (39.62 cms) ...  88,990              1\n",
       "6  Lenovo ThinkBook 13s Intel 11th Gen Core i7 13...  84,990             36\n",
       "7  LG Gram 14 inches Ultra-Light Intel Evo 11th G...  87,999             71\n",
       "8  MSI GF75 Thin Gaming, Intel Core i7-10750H, 44...  70,000             57\n",
       "9  LG Gram Intel Evo 11th Gen Core i7 17 inches U...  99,499            128"
      ]
     },
     "execution_count": 12,
     "metadata": {},
     "output_type": "execute_result"
    }
   ],
   "source": [
    "import pandas as pd\n",
    "data=pd.DataFrame()\n",
    "data['titles']=titles\n",
    "data['price']=price\n",
    "data['global_ratings']=ratings\n",
    "data"
   ]
  },
  {
   "cell_type": "code",
   "execution_count": null,
   "id": "85a410b5",
   "metadata": {},
   "outputs": [],
   "source": []
  },
  {
   "cell_type": "markdown",
   "id": "910118a5",
   "metadata": {},
   "source": [
    "# Problem Statement:\n",
    "\n",
    "##### Q9: Write a python program to scrape data for first 10 job results for Data Scientist Designation in Noida location. You have to scrape company name, No. of days ago when job was posted, Rating of the company.\n",
    "This task will be done in following steps:\n",
    "1. First get the webpage https://www.ambitionbox.com/\n",
    "2. Click on the Job option \n",
    "3. After reaching to the next webpage, In place of “Search by Designations, Companies, Skills” enter “Data Scientist” and click on search button.\n",
    "4. You will reach to the following web page click on location and in place of “Search location” enter “Noida” and select location “Noida”.\n",
    "5. Then scrape the data for the first 10 jobs results you get on the above shown page.\n",
    "6. Finally create a dataframe of the scraped data.\n"
   ]
  },
  {
   "cell_type": "code",
   "execution_count": 25,
   "id": "2cc356a5",
   "metadata": {},
   "outputs": [],
   "source": [
    "import selenium\n",
    "from selenium import webdriver\n",
    "import pandas as pd\n",
    "import numpy as np\n",
    "import warnings\n",
    "warnings.filterwarnings('ignore')"
   ]
  },
  {
   "cell_type": "code",
   "execution_count": 26,
   "id": "4094e23a",
   "metadata": {},
   "outputs": [
    {
     "data": {
      "text/plain": [
       "<selenium.webdriver.chrome.webdriver.WebDriver (session=\"d2c47a6ec6a0b47d2ae56338c3caca56\")>"
      ]
     },
     "execution_count": 26,
     "metadata": {},
     "output_type": "execute_result"
    }
   ],
   "source": [
    "driver=webdriver.Chrome('chromedriver.exe')\n",
    "driver"
   ]
  },
  {
   "cell_type": "code",
   "execution_count": 83,
   "id": "2f1487c3",
   "metadata": {},
   "outputs": [],
   "source": [
    "driver.get('http://www.ambitionbox.com/')"
   ]
  },
  {
   "cell_type": "code",
   "execution_count": 85,
   "id": "2d5631c0",
   "metadata": {},
   "outputs": [],
   "source": [
    "## Clicking on 'Jobs' option\n",
    "job_option= driver.find_element_by_xpath('/html/body/div[1]/nav/nav/a[6]')\n",
    "job_option.click()"
   ]
  },
  {
   "cell_type": "code",
   "execution_count": 86,
   "id": "0f240683",
   "metadata": {},
   "outputs": [],
   "source": [
    "## find element for searching job\n",
    "search=driver.find_element_by_xpath('/html/body/div/div/div/div[2]/div[1]/div/div/div/div/span/input')\n",
    "search.send_keys('Data Scientist')\n"
   ]
  },
  {
   "cell_type": "code",
   "execution_count": 87,
   "id": "9c35ccf3",
   "metadata": {},
   "outputs": [],
   "source": [
    "##clicking on search button\n",
    "search_button=driver.find_element_by_xpath('/html/body/div/div/div/div[2]/div[1]/div/div/div/button')\n",
    "search_button.click()"
   ]
  },
  {
   "cell_type": "code",
   "execution_count": 88,
   "id": "3179c1cb",
   "metadata": {},
   "outputs": [],
   "source": [
    "## Selecting the  location filter\n",
    "location=driver.find_element_by_xpath('/html/body/div/div/div/div[2]/div[2]/div[1]/div/div/div/div[2]/div[1]')\n",
    "location.click()"
   ]
  },
  {
   "cell_type": "code",
   "execution_count": 89,
   "id": "32a85522",
   "metadata": {},
   "outputs": [],
   "source": [
    "## find element for searching location\n",
    "search_loca=driver.find_element_by_xpath('/html/body/div/div/div/div[2]/div[2]/div[1]/div/div/div/div[2]/div[2]/div/div[2]/input')\n",
    "search_loca.send_keys('Noida')"
   ]
  },
  {
   "cell_type": "code",
   "execution_count": 90,
   "id": "e25e6460",
   "metadata": {},
   "outputs": [],
   "source": [
    "## clicking the 'Noida' filter\n",
    "loca_button=driver.find_element_by_xpath('/html/body/div/div/div/div[2]/div[2]/div[1]/div/div/div/div[2]/div[2]/div/div[3]/div[1]/div[1]/div/label')\n",
    "loca_button.click()"
   ]
  },
  {
   "cell_type": "markdown",
   "id": "717790ab",
   "metadata": {},
   "source": [
    "### Extracting Company names"
   ]
  },
  {
   "cell_type": "code",
   "execution_count": 92,
   "id": "fc919fb3",
   "metadata": {},
   "outputs": [
    {
     "name": "stdout",
     "output_type": "stream",
     "text": [
      "length of tags  10\n",
      "The length of Company_names is :  10\n"
     ]
    },
    {
     "data": {
      "text/plain": [
       "['Jubilant Foodworks Limited',\n",
       " 'HCL Technologies',\n",
       " 'Tavant Technologies India Pvt. Ltd.',\n",
       " 'Denave India Pvt Ltd.',\n",
       " 'EY GDS',\n",
       " 'EXL Service',\n",
       " 'Pitney Bowes India Pvt ltd',\n",
       " 'Zyoin',\n",
       " 'Ameriprise Financial',\n",
       " 'Jubilant Foodworks Limited']"
      ]
     },
     "execution_count": 92,
     "metadata": {},
     "output_type": "execute_result"
    }
   ],
   "source": [
    "## through xpath\n",
    "tags=driver.find_elements_by_xpath('//p[@class=\"company body-medium\"]')\n",
    "print('length of tags ', len(tags))\n",
    "Company_names=[]\n",
    "for i in tags:\n",
    "    Company_names.append(i.text)\n",
    "print('The length of Company_names is : ', len(Company_names))\n",
    "Company_names"
   ]
  },
  {
   "cell_type": "markdown",
   "id": "d1fb387c",
   "metadata": {},
   "source": [
    "## Extracting Company post date"
   ]
  },
  {
   "cell_type": "code",
   "execution_count": 101,
   "id": "99944264",
   "metadata": {},
   "outputs": [
    {
     "name": "stdout",
     "output_type": "stream",
     "text": [
      "length of tags  20\n",
      "The length of Company_names is :  20\n"
     ]
    },
    {
     "data": {
      "text/plain": [
       "['9d ago',\n",
       " 'via naukri.com',\n",
       " '22d ago',\n",
       " 'via naukri.com',\n",
       " '3d ago',\n",
       " 'via naukri.com',\n",
       " '3d ago',\n",
       " 'via naukri.com',\n",
       " '23d ago',\n",
       " 'via iimjobs.com',\n",
       " '16d ago',\n",
       " 'via naukri.com',\n",
       " '23d ago',\n",
       " 'via naukri.com',\n",
       " '1d ago',\n",
       " 'via hirist.com',\n",
       " '1mon ago',\n",
       " 'via naukri.com',\n",
       " '29d ago',\n",
       " 'via naukri.com']"
      ]
     },
     "execution_count": 101,
     "metadata": {},
     "output_type": "execute_result"
    }
   ],
   "source": [
    "## through xpath\n",
    "tags=driver.find_elements_by_xpath('//span[@class=\"body-small-l\"]')\n",
    "print('length of tags ', len(tags))\n",
    "posting_date=[]\n",
    "for i in tags:\n",
    "    posting_date.append(i.text)\n",
    "print('The length of Company_names is : ', len(posting_date))\n",
    "posting_date"
   ]
  },
  {
   "cell_type": "code",
   "execution_count": 106,
   "id": "45598a1a",
   "metadata": {},
   "outputs": [
    {
     "name": "stdout",
     "output_type": "stream",
     "text": [
      "['9d ago', '22d ago', '3d ago', '3d ago', '23d ago', '16d ago', '23d ago', '1d ago', '1mon ago', '29d ago']\n",
      "length of dates :  10\n"
     ]
    }
   ],
   "source": [
    "Dates=[]\n",
    "for i in posting_date:\n",
    "    if i[-1]=='o':\n",
    "        Dates.append(i)\n",
    "print(Dates)\n",
    "print('length of dates : ', len(Dates))\n"
   ]
  },
  {
   "cell_type": "markdown",
   "id": "1ca90a5f",
   "metadata": {},
   "source": [
    "## Extracting Rating of  company"
   ]
  },
  {
   "cell_type": "code",
   "execution_count": 107,
   "id": "25b38bd2",
   "metadata": {},
   "outputs": [
    {
     "name": "stdout",
     "output_type": "stream",
     "text": [
      "length of tags is : 10\n",
      "length of Rating is :  10\n"
     ]
    },
    {
     "data": {
      "text/plain": [
       "['3.9', '3.8', '4.0', '4.0', '3.7', '3.8', '4.2', '4.1', '4.0', '3.9']"
      ]
     },
     "execution_count": 107,
     "metadata": {},
     "output_type": "execute_result"
    }
   ],
   "source": [
    "tags=driver.find_elements_by_xpath('//span[@class=\"body-small\"]')\n",
    "print('length of tags is :', len(tags))\n",
    "Rating=[]\n",
    "for i in tags:\n",
    "    Rating.append(i.text)\n",
    "print('length of Rating is : ', len(Rating))\n",
    "Rating"
   ]
  },
  {
   "cell_type": "markdown",
   "id": "3bde1175",
   "metadata": {},
   "source": [
    "## Creating A DataFrame"
   ]
  },
  {
   "cell_type": "code",
   "execution_count": 108,
   "id": "a94a5878",
   "metadata": {},
   "outputs": [
    {
     "data": {
      "text/html": [
       "<div>\n",
       "<style scoped>\n",
       "    .dataframe tbody tr th:only-of-type {\n",
       "        vertical-align: middle;\n",
       "    }\n",
       "\n",
       "    .dataframe tbody tr th {\n",
       "        vertical-align: top;\n",
       "    }\n",
       "\n",
       "    .dataframe thead th {\n",
       "        text-align: right;\n",
       "    }\n",
       "</style>\n",
       "<table border=\"1\" class=\"dataframe\">\n",
       "  <thead>\n",
       "    <tr style=\"text-align: right;\">\n",
       "      <th></th>\n",
       "      <th>Company_names</th>\n",
       "      <th>Posting_date</th>\n",
       "      <th>Company_ratings</th>\n",
       "    </tr>\n",
       "  </thead>\n",
       "  <tbody>\n",
       "    <tr>\n",
       "      <th>0</th>\n",
       "      <td>Jubilant Foodworks Limited</td>\n",
       "      <td>9d ago</td>\n",
       "      <td>3.9</td>\n",
       "    </tr>\n",
       "    <tr>\n",
       "      <th>1</th>\n",
       "      <td>HCL Technologies</td>\n",
       "      <td>22d ago</td>\n",
       "      <td>3.8</td>\n",
       "    </tr>\n",
       "    <tr>\n",
       "      <th>2</th>\n",
       "      <td>Tavant Technologies India Pvt. Ltd.</td>\n",
       "      <td>3d ago</td>\n",
       "      <td>4.0</td>\n",
       "    </tr>\n",
       "    <tr>\n",
       "      <th>3</th>\n",
       "      <td>Denave India Pvt Ltd.</td>\n",
       "      <td>3d ago</td>\n",
       "      <td>4.0</td>\n",
       "    </tr>\n",
       "    <tr>\n",
       "      <th>4</th>\n",
       "      <td>EY GDS</td>\n",
       "      <td>23d ago</td>\n",
       "      <td>3.7</td>\n",
       "    </tr>\n",
       "    <tr>\n",
       "      <th>5</th>\n",
       "      <td>EXL Service</td>\n",
       "      <td>16d ago</td>\n",
       "      <td>3.8</td>\n",
       "    </tr>\n",
       "    <tr>\n",
       "      <th>6</th>\n",
       "      <td>Pitney Bowes India Pvt ltd</td>\n",
       "      <td>23d ago</td>\n",
       "      <td>4.2</td>\n",
       "    </tr>\n",
       "    <tr>\n",
       "      <th>7</th>\n",
       "      <td>Zyoin</td>\n",
       "      <td>1d ago</td>\n",
       "      <td>4.1</td>\n",
       "    </tr>\n",
       "    <tr>\n",
       "      <th>8</th>\n",
       "      <td>Ameriprise Financial</td>\n",
       "      <td>1mon ago</td>\n",
       "      <td>4.0</td>\n",
       "    </tr>\n",
       "    <tr>\n",
       "      <th>9</th>\n",
       "      <td>Jubilant Foodworks Limited</td>\n",
       "      <td>29d ago</td>\n",
       "      <td>3.9</td>\n",
       "    </tr>\n",
       "  </tbody>\n",
       "</table>\n",
       "</div>"
      ],
      "text/plain": [
       "                         Company_names Posting_date Company_ratings\n",
       "0           Jubilant Foodworks Limited       9d ago             3.9\n",
       "1                     HCL Technologies      22d ago             3.8\n",
       "2  Tavant Technologies India Pvt. Ltd.       3d ago             4.0\n",
       "3                Denave India Pvt Ltd.       3d ago             4.0\n",
       "4                               EY GDS      23d ago             3.7\n",
       "5                          EXL Service      16d ago             3.8\n",
       "6           Pitney Bowes India Pvt ltd      23d ago             4.2\n",
       "7                                Zyoin       1d ago             4.1\n",
       "8                 Ameriprise Financial     1mon ago             4.0\n",
       "9           Jubilant Foodworks Limited      29d ago             3.9"
      ]
     },
     "execution_count": 108,
     "metadata": {},
     "output_type": "execute_result"
    }
   ],
   "source": [
    "df9=pd.DataFrame()\n",
    "df9['Company_names']=Company_names\n",
    "df9['Posting_date']=Dates\n",
    "df9['Company_ratings']=Rating\n",
    "df9"
   ]
  },
  {
   "cell_type": "markdown",
   "id": "1e9a189c",
   "metadata": {},
   "source": [
    "# Problem Statement:\n",
    "\n",
    "##### Q10: Write a python program to scrape the salary data for Data Scientist designation.\n",
    "You have to scrape Company name, Number of salaries, Average salary, Minsalary, Max Salary.\n",
    "The above task will be, done as shown in the below steps:\n",
    "1. First get the webpage https://www.ambitionbox.com/\n",
    "2. Click on the salaries option on top of screen\n",
    "3. After reaching to the following webpage, In place of “Search Job Profile” enters “Data Scientist” and then click on “Data Scientist”.\n",
    "4. Scrape the data for the first 10 companies. Scrape the company name, total salary record, average salary, minimum salary, maximum salary, experience required.\n",
    "5. Store the data in a dataframe"
   ]
  },
  {
   "cell_type": "code",
   "execution_count": 13,
   "id": "99cff332",
   "metadata": {},
   "outputs": [],
   "source": [
    "import pandas as pd\n",
    "import numpy as np\n",
    "from selenium import webdriver\n",
    "import warnings\n",
    "warnings.filterwarnings('ignore')\n"
   ]
  },
  {
   "cell_type": "code",
   "execution_count": 14,
   "id": "8d102337",
   "metadata": {},
   "outputs": [],
   "source": [
    "from selenium.webdriver.common.action_chains import ActionChains\n",
    "from selenium.webdriver.common.keys import Keys"
   ]
  },
  {
   "cell_type": "markdown",
   "id": "475360c2",
   "metadata": {},
   "source": [
    "## fechting the chrome driver"
   ]
  },
  {
   "cell_type": "code",
   "execution_count": 15,
   "id": "d78662bf",
   "metadata": {},
   "outputs": [
    {
     "data": {
      "text/plain": [
       "<selenium.webdriver.chrome.webdriver.WebDriver (session=\"5a6ecb1618decff77a8cdb0bdf556325\")>"
      ]
     },
     "execution_count": 15,
     "metadata": {},
     "output_type": "execute_result"
    }
   ],
   "source": [
    "driver=webdriver.Chrome('chromedriver.exe')\n",
    "driver.maximize_window()\n",
    "driver"
   ]
  },
  {
   "cell_type": "markdown",
   "id": "d492ae80",
   "metadata": {},
   "source": [
    "## fechting the web page"
   ]
  },
  {
   "cell_type": "code",
   "execution_count": 16,
   "id": "1db345c4",
   "metadata": {},
   "outputs": [],
   "source": [
    "driver.get('http://www.ambitionbox.com/')\n",
    "driver.implicitly_wait(20)"
   ]
  },
  {
   "cell_type": "code",
   "execution_count": 17,
   "id": "c09283d3",
   "metadata": {},
   "outputs": [],
   "source": [
    "driver.find_element_by_xpath('//a[@title=\"Company Salaries\"]').click()"
   ]
  },
  {
   "cell_type": "code",
   "execution_count": 18,
   "id": "7233608f",
   "metadata": {},
   "outputs": [],
   "source": [
    "driver.find_element_by_xpath('//input[@placeholder=\"Search job profiles\"]').send_keys('Data Scientist')"
   ]
  },
  {
   "cell_type": "code",
   "execution_count": 19,
   "id": "f4fe5c5c",
   "metadata": {},
   "outputs": [],
   "source": [
    "act=ActionChains('driver')"
   ]
  },
  {
   "cell_type": "markdown",
   "id": "9465b19f",
   "metadata": {},
   "source": [
    "##### find the element of dropdown datascientist option"
   ]
  },
  {
   "cell_type": "code",
   "execution_count": 20,
   "id": "1a9158d6",
   "metadata": {},
   "outputs": [],
   "source": [
    "drop_down_data_scientist=driver.find_element_by_xpath('/html/body/div/div/div/main/section[1]/div[2]/div[1]/span/div/div/div[1]')"
   ]
  },
  {
   "cell_type": "code",
   "execution_count": 21,
   "id": "5d9bb129",
   "metadata": {},
   "outputs": [
    {
     "data": {
      "text/plain": [
       "<bound method ActionChains.perform of <selenium.webdriver.common.action_chains.ActionChains object at 0x0000021DD0078460>>"
      ]
     },
     "execution_count": 21,
     "metadata": {},
     "output_type": "execute_result"
    }
   ],
   "source": [
    "act.click(drop_down_data_scientist).perform"
   ]
  },
  {
   "cell_type": "markdown",
   "id": "1af983b3",
   "metadata": {},
   "source": [
    "## Extracting Company Name:"
   ]
  },
  {
   "cell_type": "code",
   "execution_count": 22,
   "id": "2672ee4f",
   "metadata": {},
   "outputs": [],
   "source": [
    "data_sci=driver.find_elements_by_xpath('//div[@class=\"name\"]')"
   ]
  },
  {
   "cell_type": "code",
   "execution_count": 23,
   "id": "1d287064",
   "metadata": {},
   "outputs": [
    {
     "data": {
      "text/plain": [
       "['Tekion,based on 10 salaries',\n",
       " 'Microsoft Corporation,based on 227 salaries',\n",
       " 'Goldman Sachs,based on 12 salaries',\n",
       " 'Flipkart,based on 53 salaries',\n",
       " 'PayPal,based on 22 salaries',\n",
       " 'Amazon,based on 89 salaries',\n",
       " 'Servicenow Software Development India,based on 41 salaries',\n",
       " 'Arcesium,based on 48 salaries',\n",
       " 'Walmart,based on 82 salaries',\n",
       " 'ServiceNow,based on 18 salaries']"
      ]
     },
     "execution_count": 23,
     "metadata": {},
     "output_type": "execute_result"
    }
   ],
   "source": [
    "company_name=[]\n",
    "for i in data_sci:\n",
    "    company_name.append(i.text.replace('\\n',','))\n",
    "company_name"
   ]
  },
  {
   "cell_type": "code",
   "execution_count": 24,
   "id": "a64288ef",
   "metadata": {},
   "outputs": [
    {
     "data": {
      "text/plain": [
       "['Tekion',\n",
       " 'Microsoft Corporation',\n",
       " 'Goldman Sachs',\n",
       " 'Flipkart',\n",
       " 'PayPal',\n",
       " 'Amazon',\n",
       " 'Servicenow Software Development India',\n",
       " 'Arcesium',\n",
       " 'Walmart',\n",
       " 'ServiceNow']"
      ]
     },
     "execution_count": 24,
     "metadata": {},
     "output_type": "execute_result"
    }
   ],
   "source": [
    "company=[]\n",
    "for j in company_name:\n",
    "    company.append(j.split(',')[0])\n",
    "company"
   ]
  },
  {
   "cell_type": "markdown",
   "id": "8729f56e",
   "metadata": {},
   "source": [
    "## Extracting the No. of Salary"
   ]
  },
  {
   "cell_type": "code",
   "execution_count": 25,
   "id": "0a3f8327",
   "metadata": {},
   "outputs": [
    {
     "data": {
      "text/plain": [
       "['based on 10 salaries',\n",
       " 'based on 227 salaries',\n",
       " 'based on 12 salaries',\n",
       " 'based on 53 salaries',\n",
       " 'based on 22 salaries',\n",
       " 'based on 89 salaries',\n",
       " 'based on 41 salaries',\n",
       " 'based on 48 salaries',\n",
       " 'based on 82 salaries',\n",
       " 'based on 18 salaries']"
      ]
     },
     "execution_count": 25,
     "metadata": {},
     "output_type": "execute_result"
    }
   ],
   "source": [
    "salary_record=[]\n",
    "for i in data_sci:\n",
    "    salary_record.append(i.text.split('\\n')[1])\n",
    "salary_record"
   ]
  },
  {
   "cell_type": "code",
   "execution_count": 26,
   "id": "a12f406c",
   "metadata": {},
   "outputs": [
    {
     "data": {
      "text/plain": [
       "['10 salaries',\n",
       " '227 salaries',\n",
       " '12 salaries',\n",
       " '53 salaries',\n",
       " '22 salaries',\n",
       " '89 salaries',\n",
       " '41 salaries',\n",
       " '48 salaries',\n",
       " '82 salaries',\n",
       " '18 salaries']"
      ]
     },
     "execution_count": 26,
     "metadata": {},
     "output_type": "execute_result"
    }
   ],
   "source": [
    "salary_rec=[]\n",
    "for j in salary_record:\n",
    "    salary_rec.append(j.replace('based on ',''))\n",
    "salary_rec"
   ]
  },
  {
   "cell_type": "markdown",
   "id": "b8864126",
   "metadata": {},
   "source": [
    "## Required Experience"
   ]
  },
  {
   "cell_type": "code",
   "execution_count": 27,
   "id": "6940814e",
   "metadata": {},
   "outputs": [
    {
     "name": "stdout",
     "output_type": "stream",
     "text": [
      "length of tags : 10\n"
     ]
    },
    {
     "data": {
      "text/plain": [
       "['4 yrs',\n",
       " '1-4 yrs',\n",
       " '2 yrs',\n",
       " '1-4 yrs',\n",
       " '1-2 yrs',\n",
       " '1-4 yrs',\n",
       " '2-4 yrs',\n",
       " '1-2 yrs',\n",
       " '1-4 yrs',\n",
       " '3 yrs']"
      ]
     },
     "execution_count": 27,
     "metadata": {},
     "output_type": "execute_result"
    }
   ],
   "source": [
    "tags=driver.find_elements_by_xpath('//div[@class=\"salaries sbold-list-header\"]')\n",
    "print('length of tags :', len(tags))\n",
    "exp=[]\n",
    "for i in tags:\n",
    "    exp.append(i.text.split('\\n')[-1].replace(' exp',''))\n",
    "exp"
   ]
  },
  {
   "cell_type": "markdown",
   "id": "ebe669bd",
   "metadata": {},
   "source": [
    "## Extracting Average Salary pay"
   ]
  },
  {
   "cell_type": "code",
   "execution_count": 28,
   "id": "c7c2d27d",
   "metadata": {},
   "outputs": [
    {
     "name": "stdout",
     "output_type": "stream",
     "text": [
      "length of tags is : 10\n"
     ]
    },
    {
     "data": {
      "text/plain": [
       "['23.3L',\n",
       " '23.1L',\n",
       " '22.1L',\n",
       " '20.9L',\n",
       " '20.0L',\n",
       " '19.3L',\n",
       " '19.0L',\n",
       " '18.4L',\n",
       " '18.0L',\n",
       " '17.3L']"
      ]
     },
     "execution_count": 28,
     "metadata": {},
     "output_type": "execute_result"
    }
   ],
   "source": [
    "tags=driver.find_elements_by_xpath('//p[@class=\"averageCtc\"]')\n",
    "print('length of tags is :', len(tags))\n",
    "aver_sal=[]\n",
    "for i in tags:\n",
    "    aver_sal.append(i.text.replace('₹ ',''))\n",
    "aver_sal"
   ]
  },
  {
   "cell_type": "markdown",
   "id": "a6048db6",
   "metadata": {},
   "source": [
    "## Extracting the Minimum & Maximum Salary pay"
   ]
  },
  {
   "cell_type": "code",
   "execution_count": 29,
   "id": "b943429d",
   "metadata": {},
   "outputs": [
    {
     "name": "stdout",
     "output_type": "stream",
     "text": [
      "['14.0L', '13.0L', '16.0L', '7.5L', '12.0L', '8.0L', '12.0L', '12.0L', '10.0L', '11.0L']\n",
      "['32.0L', '45.0L', '30.0L', '30.0L', '28.4L', '41.5L', '25.8L', '30.0L', '32.0L', '23.0L']\n"
     ]
    }
   ],
   "source": [
    "tags=driver.find_elements_by_xpath('//div[@class=\"value body-medium\"]')\n",
    "min_sal=[]\n",
    "max_sal=[]\n",
    "count=1\n",
    "for i in tags:\n",
    "    if count%2==0:\n",
    "        max_sal.append(i.text.replace('₹ ',''))\n",
    "    else:\n",
    "        min_sal.append(i.text.replace('₹ ',''))\n",
    "    count+=1\n",
    "    \n",
    "\n",
    "print(min_sal)\n",
    "print(max_sal)"
   ]
  },
  {
   "cell_type": "markdown",
   "id": "80335d10",
   "metadata": {},
   "source": [
    "# Creating A Data Frame"
   ]
  },
  {
   "cell_type": "code",
   "execution_count": 30,
   "id": "a7e33f9b",
   "metadata": {},
   "outputs": [
    {
     "data": {
      "text/html": [
       "<div>\n",
       "<style scoped>\n",
       "    .dataframe tbody tr th:only-of-type {\n",
       "        vertical-align: middle;\n",
       "    }\n",
       "\n",
       "    .dataframe tbody tr th {\n",
       "        vertical-align: top;\n",
       "    }\n",
       "\n",
       "    .dataframe thead th {\n",
       "        text-align: right;\n",
       "    }\n",
       "</style>\n",
       "<table border=\"1\" class=\"dataframe\">\n",
       "  <thead>\n",
       "    <tr style=\"text-align: right;\">\n",
       "      <th></th>\n",
       "      <th>company_name</th>\n",
       "      <th>number_of_salary</th>\n",
       "      <th>required_experience</th>\n",
       "      <th>average_salary_pay</th>\n",
       "      <th>minimum_salary_pay</th>\n",
       "      <th>maximum_salary_pay</th>\n",
       "    </tr>\n",
       "  </thead>\n",
       "  <tbody>\n",
       "    <tr>\n",
       "      <th>0</th>\n",
       "      <td>Tekion</td>\n",
       "      <td>10 salaries</td>\n",
       "      <td>4 yrs</td>\n",
       "      <td>23.3L</td>\n",
       "      <td>14.0L</td>\n",
       "      <td>32.0L</td>\n",
       "    </tr>\n",
       "    <tr>\n",
       "      <th>1</th>\n",
       "      <td>Microsoft Corporation</td>\n",
       "      <td>227 salaries</td>\n",
       "      <td>1-4 yrs</td>\n",
       "      <td>23.1L</td>\n",
       "      <td>13.0L</td>\n",
       "      <td>45.0L</td>\n",
       "    </tr>\n",
       "    <tr>\n",
       "      <th>2</th>\n",
       "      <td>Goldman Sachs</td>\n",
       "      <td>12 salaries</td>\n",
       "      <td>2 yrs</td>\n",
       "      <td>22.1L</td>\n",
       "      <td>16.0L</td>\n",
       "      <td>30.0L</td>\n",
       "    </tr>\n",
       "    <tr>\n",
       "      <th>3</th>\n",
       "      <td>Flipkart</td>\n",
       "      <td>53 salaries</td>\n",
       "      <td>1-4 yrs</td>\n",
       "      <td>20.9L</td>\n",
       "      <td>7.5L</td>\n",
       "      <td>30.0L</td>\n",
       "    </tr>\n",
       "    <tr>\n",
       "      <th>4</th>\n",
       "      <td>PayPal</td>\n",
       "      <td>22 salaries</td>\n",
       "      <td>1-2 yrs</td>\n",
       "      <td>20.0L</td>\n",
       "      <td>12.0L</td>\n",
       "      <td>28.4L</td>\n",
       "    </tr>\n",
       "    <tr>\n",
       "      <th>5</th>\n",
       "      <td>Amazon</td>\n",
       "      <td>89 salaries</td>\n",
       "      <td>1-4 yrs</td>\n",
       "      <td>19.3L</td>\n",
       "      <td>8.0L</td>\n",
       "      <td>41.5L</td>\n",
       "    </tr>\n",
       "    <tr>\n",
       "      <th>6</th>\n",
       "      <td>Servicenow Software Development India</td>\n",
       "      <td>41 salaries</td>\n",
       "      <td>2-4 yrs</td>\n",
       "      <td>19.0L</td>\n",
       "      <td>12.0L</td>\n",
       "      <td>25.8L</td>\n",
       "    </tr>\n",
       "    <tr>\n",
       "      <th>7</th>\n",
       "      <td>Arcesium</td>\n",
       "      <td>48 salaries</td>\n",
       "      <td>1-2 yrs</td>\n",
       "      <td>18.4L</td>\n",
       "      <td>12.0L</td>\n",
       "      <td>30.0L</td>\n",
       "    </tr>\n",
       "    <tr>\n",
       "      <th>8</th>\n",
       "      <td>Walmart</td>\n",
       "      <td>82 salaries</td>\n",
       "      <td>1-4 yrs</td>\n",
       "      <td>18.0L</td>\n",
       "      <td>10.0L</td>\n",
       "      <td>32.0L</td>\n",
       "    </tr>\n",
       "    <tr>\n",
       "      <th>9</th>\n",
       "      <td>ServiceNow</td>\n",
       "      <td>18 salaries</td>\n",
       "      <td>3 yrs</td>\n",
       "      <td>17.3L</td>\n",
       "      <td>11.0L</td>\n",
       "      <td>23.0L</td>\n",
       "    </tr>\n",
       "  </tbody>\n",
       "</table>\n",
       "</div>"
      ],
      "text/plain": [
       "                            company_name number_of_salary required_experience  \\\n",
       "0                                 Tekion      10 salaries               4 yrs   \n",
       "1                  Microsoft Corporation     227 salaries             1-4 yrs   \n",
       "2                          Goldman Sachs      12 salaries               2 yrs   \n",
       "3                               Flipkart      53 salaries             1-4 yrs   \n",
       "4                                 PayPal      22 salaries             1-2 yrs   \n",
       "5                                 Amazon      89 salaries             1-4 yrs   \n",
       "6  Servicenow Software Development India      41 salaries             2-4 yrs   \n",
       "7                               Arcesium      48 salaries             1-2 yrs   \n",
       "8                                Walmart      82 salaries             1-4 yrs   \n",
       "9                             ServiceNow      18 salaries               3 yrs   \n",
       "\n",
       "  average_salary_pay minimum_salary_pay maximum_salary_pay  \n",
       "0              23.3L              14.0L              32.0L  \n",
       "1              23.1L              13.0L              45.0L  \n",
       "2              22.1L              16.0L              30.0L  \n",
       "3              20.9L               7.5L              30.0L  \n",
       "4              20.0L              12.0L              28.4L  \n",
       "5              19.3L               8.0L              41.5L  \n",
       "6              19.0L              12.0L              25.8L  \n",
       "7              18.4L              12.0L              30.0L  \n",
       "8              18.0L              10.0L              32.0L  \n",
       "9              17.3L              11.0L              23.0L  "
      ]
     },
     "execution_count": 30,
     "metadata": {},
     "output_type": "execute_result"
    }
   ],
   "source": [
    "df10=pd.DataFrame()\n",
    "df10['company_name']=company\n",
    "df10['number_of_salary']=salary_rec\n",
    "df10['required_experience']=exp\n",
    "df10['average_salary_pay']=aver_sal\n",
    "df10['minimum_salary_pay']=min_sal\n",
    "df10['maximum_salary_pay']=max_sal\n",
    "df10"
   ]
  },
  {
   "cell_type": "code",
   "execution_count": null,
   "id": "3c6d208f",
   "metadata": {},
   "outputs": [],
   "source": []
  },
  {
   "cell_type": "code",
   "execution_count": null,
   "id": "9d5ff313",
   "metadata": {},
   "outputs": [],
   "source": []
  }
 ],
 "metadata": {
  "kernelspec": {
   "display_name": "Python 3",
   "language": "python",
   "name": "python3"
  },
  "language_info": {
   "codemirror_mode": {
    "name": "ipython",
    "version": 3
   },
   "file_extension": ".py",
   "mimetype": "text/x-python",
   "name": "python",
   "nbconvert_exporter": "python",
   "pygments_lexer": "ipython3",
   "version": "3.8.8"
  }
 },
 "nbformat": 4,
 "nbformat_minor": 5
}
