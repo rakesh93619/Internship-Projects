{
 "cells": [
  {
   "cell_type": "markdown",
   "id": "9b67492a",
   "metadata": {},
   "source": [
    "## PYTHON – WORKSHEET 1"
   ]
  },
  {
   "cell_type": "markdown",
   "id": "bb05e54e",
   "metadata": {},
   "source": [
    "##### Question no. 1:- which of the following operators is used to calculate remainder in a division?\n",
    "- (A) #\n",
    "- (B) &\n",
    "- (C) % \n",
    "- (D) $"
   ]
  },
  {
   "cell_type": "markdown",
   "id": "ab5d9519",
   "metadata": {},
   "source": [
    "Answer:-   (C) %"
   ]
  },
  {
   "cell_type": "markdown",
   "id": "ecf1f5ed",
   "metadata": {},
   "source": [
    "##### Question No.2:- In python 2//3 is equal to?\n",
    "- (A) 0.666 \n",
    "- (B) 0\n",
    "- (C) 1\n",
    "- (D) 0.67"
   ]
  },
  {
   "cell_type": "markdown",
   "id": "440dbbc2",
   "metadata": {},
   "source": [
    "Answer:-  (A) 0.666"
   ]
  },
  {
   "cell_type": "code",
   "execution_count": 2,
   "id": "30df5067",
   "metadata": {},
   "outputs": [
    {
     "data": {
      "text/plain": [
       "0.6666666666666666"
      ]
     },
     "execution_count": 2,
     "metadata": {},
     "output_type": "execute_result"
    }
   ],
   "source": [
    "2/3"
   ]
  },
  {
   "cell_type": "markdown",
   "id": "9c3bed71",
   "metadata": {},
   "source": [
    "##### Question No. 3:- In python, 6<<2 is equal to?\n",
    "- (A) 36 \n",
    "- (B) 10\n",
    "- (C) 24\n",
    "- (D) 45"
   ]
  },
  {
   "cell_type": "markdown",
   "id": "afead583",
   "metadata": {},
   "source": [
    "Answer:-     (C) 24"
   ]
  },
  {
   "cell_type": "code",
   "execution_count": 3,
   "id": "f487c3de",
   "metadata": {},
   "outputs": [
    {
     "data": {
      "text/plain": [
       "24"
      ]
     },
     "execution_count": 3,
     "metadata": {},
     "output_type": "execute_result"
    }
   ],
   "source": [
    "6<<2"
   ]
  },
  {
   "cell_type": "markdown",
   "id": "ab3eda3c",
   "metadata": {},
   "source": [
    "##### Question No. 4 :-  In python, 6&2 will give which of the following as output?\n",
    "- (A) 2 \n",
    "- (B) True\n",
    "- (C) False \n",
    "- (D) 0\n",
    "\n",
    "\n",
    "Answer:-   (A) 2"
   ]
  },
  {
   "cell_type": "code",
   "execution_count": 4,
   "id": "1f9d9791",
   "metadata": {},
   "outputs": [
    {
     "data": {
      "text/plain": [
       "2"
      ]
     },
     "execution_count": 4,
     "metadata": {},
     "output_type": "execute_result"
    }
   ],
   "source": [
    "6&2"
   ]
  },
  {
   "cell_type": "markdown",
   "id": "7321bdf7",
   "metadata": {},
   "source": [
    "##### Question No. 5:-  In python, 6|2 will give which of the following as output?\n",
    "- (A) 2 \n",
    "- (B) 4\n",
    "- (C) 0 \n",
    "- (D) 6\n",
    "\n",
    "Answer:-   (D) 6"
   ]
  },
  {
   "cell_type": "code",
   "execution_count": 5,
   "id": "7b79385e",
   "metadata": {},
   "outputs": [
    {
     "data": {
      "text/plain": [
       "6"
      ]
     },
     "execution_count": 5,
     "metadata": {},
     "output_type": "execute_result"
    }
   ],
   "source": [
    "6|2"
   ]
  },
  {
   "cell_type": "markdown",
   "id": "96a2359e",
   "metadata": {},
   "source": [
    "##### Question No. 6:- What does the finally keyword denotes in python?\n",
    "- (A) It is used to mark the end of the code\n",
    "- (B) It encloses the lines of code which will be executed if any error occurs while executing the lines of code in the try block.\n",
    "- (C) the finally block will be executed no matter if the try block raises an error or not.\n",
    "- (D) None of the above\n",
    "\n",
    "Answer:- (C) the finally block will be executed no matter if the try block raises an error or not."
   ]
  },
  {
   "cell_type": "markdown",
   "id": "f4449bfd",
   "metadata": {},
   "source": [
    "##### Question No. 7:-  What does raise keyword is used for in python?\n",
    "- (A) It is used to raise an exception. \n",
    "- (B) It is used to define lambda function\n",
    "- (C) it's not a keyword in python.\n",
    "- (D) None of the above\n",
    "\n",
    "Answer:- (A) It is used to raise an exception."
   ]
  },
  {
   "cell_type": "markdown",
   "id": "de5f5311",
   "metadata": {},
   "source": [
    "##### Question No. 8:-   Which of the following is a common use case of yield keyword in python?\n",
    "- (A) in defining an iterator \n",
    "- (B) while defining a lambda function\n",
    "- (C) in defining a generator \n",
    "- (D) in for loop.\n",
    "\n",
    "Answer:- (C) in defining a generator"
   ]
  },
  {
   "cell_type": "markdown",
   "id": "cc4b9691",
   "metadata": {},
   "source": [
    "### *Multiple answers type questions."
   ]
  },
  {
   "cell_type": "markdown",
   "id": "a61a659a",
   "metadata": {},
   "source": [
    "##### Question No. 9:-  Which of the following are the valid variable names?\n",
    "- (A) _abc\n",
    "- (B) 1abc\n",
    "- (C) abc2 \n",
    "- (D) None of the above\n",
    "\n",
    "Answer:- (A) _abc & (C) abc2"
   ]
  },
  {
   "cell_type": "markdown",
   "id": "98e289ab",
   "metadata": {},
   "source": [
    "##### Question No. 10:-   Which of the following are the keywords in python?\n",
    "- (A) yield \n",
    "- (B) raise\n",
    "- (C) look-in \n",
    "- (D) all of the above\n",
    "\n",
    "Answer:- (A) yield & (B) raise\n"
   ]
  },
  {
   "cell_type": "markdown",
   "id": "116b33fa",
   "metadata": {},
   "source": [
    "###  programming questions."
   ]
  },
  {
   "cell_type": "markdown",
   "id": "05ad7640",
   "metadata": {},
   "source": [
    "##### Question No. 11:- Write a python program to find the factorial of a number?"
   ]
  },
  {
   "cell_type": "code",
   "execution_count": 11,
   "id": "9f27a899",
   "metadata": {},
   "outputs": [
    {
     "name": "stdout",
     "output_type": "stream",
     "text": [
      "Please Enter a Number : 4\n",
      "The factorial of  4 is 24\n"
     ]
    }
   ],
   "source": [
    "# Answer\n",
    "\n",
    "x=int(input(\"Please Enter a Number : \"))\n",
    "number=1\n",
    "\n",
    "if x==0:\n",
    "    print(\"The factorial of \", x, \"is 0. \")\n",
    "elif x<0:\n",
    "    print (\" factorial of negative numbers doesn't exist.\")\n",
    "elif x==1:\n",
    "    print ( \"factorial of 1 is also 1. \")\n",
    "else:\n",
    "    for val in range(1,x+1):\n",
    "        number=number*val      \n",
    "    print(\"The factorial of \", x , 'is' , number)"
   ]
  },
  {
   "cell_type": "markdown",
   "id": "d845bd18",
   "metadata": {},
   "source": [
    "##### Question No. 12:-  Write a python program to find whether a number is prime or composite?"
   ]
  },
  {
   "cell_type": "code",
   "execution_count": 19,
   "id": "09670c20",
   "metadata": {},
   "outputs": [
    {
     "name": "stdout",
     "output_type": "stream",
     "text": [
      "Please enter the number : 19\n",
      "19  is a prime number.\n"
     ]
    }
   ],
   "source": [
    "# Answer\n",
    "number= int(input(\"Please enter the number : \"))\n",
    "if number>1:\n",
    "    for val in range(2,number):\n",
    "        if number%val==0:\n",
    "            print(number, \"is not a prime number.\")\n",
    "            break\n",
    "        else :\n",
    "            print (number, \" is a prime number.\")\n",
    "            break\n",
    "elif number==0 or 1:\n",
    "    print(number, \" is neither a prime number  nor composite number.\")\n",
    "else:\n",
    "    print(number, \" is a composite number.\")\n",
    "    "
   ]
  },
  {
   "cell_type": "markdown",
   "id": "8563f498",
   "metadata": {},
   "source": [
    "##### Question No. 13:-  Write a python program to check whether a given string is palindrome or not."
   ]
  },
  {
   "cell_type": "code",
   "execution_count": 22,
   "id": "4c7de39f",
   "metadata": {},
   "outputs": [
    {
     "name": "stdout",
     "output_type": "stream",
     "text": [
      "Please Enter a String name : madam\n",
      "Given string is palindrome .\n"
     ]
    }
   ],
   "source": [
    "# Answer\n",
    "my_string=str(input(\"Please Enter a String name : \"))\n",
    "if my_string==my_string[::-1]:\n",
    "    print(\"Given string is palindrome .\")\n",
    "else:\n",
    "    print(\"Given string is Not palindrome.\")"
   ]
  },
  {
   "cell_type": "markdown",
   "id": "485125b9",
   "metadata": {},
   "source": [
    "##### Question No. 14:-  Write a Python program to get the third side of right-angled triangle from two given sides.?"
   ]
  },
  {
   "cell_type": "code",
   "execution_count": 25,
   "id": "9fee160f",
   "metadata": {},
   "outputs": [
    {
     "name": "stdout",
     "output_type": "stream",
     "text": [
      "Please Enter the length of shorter side of a triangle ABC .\n",
      "AB = 3\n",
      "BC = 4\n",
      "The length of the hypotenus is  5.0\n"
     ]
    }
   ],
   "source": [
    "# Answer\n",
    "import numpy as np\n",
    "print(\"Please Enter the length of shorter side of a triangle ABC .\")\n",
    "\n",
    "a= int(input(\"AB = \"))\n",
    "b= int(input(\"BC = \"))\n",
    "\n",
    "c=np.sqrt(np.square(a)+np.square(b))\n",
    "print(\"The length of the hypotenus is \", c)"
   ]
  },
  {
   "cell_type": "markdown",
   "id": "052d901a",
   "metadata": {},
   "source": [
    "##### Question No. 15:-  Write a python program to print the frequency of each of the characters present in a given string.\n"
   ]
  },
  {
   "cell_type": "code",
   "execution_count": 34,
   "id": "f9ea97ca",
   "metadata": {},
   "outputs": [
    {
     "name": "stdout",
     "output_type": "stream",
     "text": [
      "Please enter a string : flip robo\n",
      "Every characters frequency in 'flip robo' is : '{'f': 1, 'l': 1, 'i': 1, 'p': 1, ' ': 1, 'r': 1, 'o': 2, 'b': 1}' \n"
     ]
    }
   ],
   "source": [
    "#Answer\n",
    "input_str=str(input(\"Please enter a string : \"))\n",
    "fre={}\n",
    "for val in input_str:\n",
    "    if val in fre:\n",
    "        fre[val] += 1\n",
    "    else:\n",
    "        fre[val]=1\n",
    "print(\"Every characters frequency in '{}' is : '{}' \".format(input_str,str(fre)))"
   ]
  },
  {
   "cell_type": "code",
   "execution_count": null,
   "id": "a7c0704f",
   "metadata": {},
   "outputs": [],
   "source": []
  }
 ],
 "metadata": {
  "kernelspec": {
   "display_name": "Python 3",
   "language": "python",
   "name": "python3"
  },
  "language_info": {
   "codemirror_mode": {
    "name": "ipython",
    "version": 3
   },
   "file_extension": ".py",
   "mimetype": "text/x-python",
   "name": "python",
   "nbconvert_exporter": "python",
   "pygments_lexer": "ipython3",
   "version": "3.8.8"
  }
 },
 "nbformat": 4,
 "nbformat_minor": 5
}
